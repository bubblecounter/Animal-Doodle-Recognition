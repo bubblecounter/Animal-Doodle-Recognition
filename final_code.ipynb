{
  "nbformat": 4,
  "nbformat_minor": 0,
  "metadata": {
    "colab": {
      "name": "Copy of cs_512_v3.ipynb",
      "provenance": [],
      "collapsed_sections": [
        "YSzJS7qJgiwy",
        "XjyHbPqYgl1j",
        "6psNsTYhq3OX",
        "7zox9UEKuXAe",
        "A4Opi5AtgpKn",
        "_8EvPOkNrvqp",
        "I47QNflSWZZd",
        "zP9v9DYohCSt",
        "_vQ3nj35blwj",
        "a1UR0LWXz9da",
        "7Tqr0N3h0liA",
        "mqC3A3PxyYYU",
        "-4Kee7p7z399",
        "uEQtQtie0qEd",
        "L5VhyyOn3jBe",
        "J5UhCdHC51Kc",
        "96E5rw5D51Kc",
        "WvUhCDJa51Ke",
        "R3a9lP8x51Kg",
        "xUD2fbJ651Kg",
        "BL0u_kHrVhyR",
        "uSMZID-CZAq4",
        "gWpHsBGYXp4J",
        "JiuNbP0nh0wJ",
        "o1yr0DUY_3NI",
        "kVUnqCtX_3NJ",
        "LpIgiEyv_3NJ",
        "v222GKWh_3NL",
        "MAW3b2_h_3NM",
        "Me4fZHaE_3NM",
        "4ZNUZPnb_3NO",
        "PRqGtwLfAzyM",
        "DEHhpXhIwB3G",
        "OVt8bNM-wB3H",
        "q5a70BVjwB3I",
        "sqNzsBqDD9os",
        "MY81JM3bEphY",
        "HnRUybFxEBmE",
        "YDuk1x9lrq5p",
        "Hxw4wVGeFOnR",
        "Ca2wa1hYruqN",
        "G7hl44xtEUJm",
        "YtQgCeBpEX05",
        "5iRXwcg_5SWY",
        "OWJj-Un3dXWt",
        "NSAdhBO8daPM",
        "yzyU97yrhQBG",
        "g1-lAR85dgda",
        "SnE8S1rZdqZt",
        "paWIzO6oAUZL",
        "1UiMOTq4dADi",
        "GDfLqZ7Kvcel",
        "j_mvLO19ASpG",
        "9MgUJGtAf5Yb",
        "a9Nobem06XwQ",
        "rJC16bYbf5Y5",
        "A0PwI-z2ghGi"
      ]
    },
    "kernelspec": {
      "name": "python3",
      "display_name": "Python 3"
    },
    "accelerator": "GPU"
  },
  "cells": [
    {
      "cell_type": "markdown",
      "metadata": {
        "id": "siRxFYMsfOLN"
      },
      "source": [
        "## Download and Prepare Data"
      ]
    },
    {
      "cell_type": "markdown",
      "metadata": {
        "id": "YSzJS7qJgiwy"
      },
      "source": [
        "#### Import Libraries"
      ]
    },
    {
      "cell_type": "code",
      "metadata": {
        "id": "UXmO2wNZW5-Z"
      },
      "source": [
        "import os\r\n",
        "from sklearn.model_selection import train_test_split as tts\r\n",
        "from keras.models import Sequential\r\n",
        "from keras.layers import Dense, Dropout, Conv2D, MaxPooling2D, Flatten , AveragePooling2D\r\n",
        "from keras.utils import np_utils\r\n",
        "from random import randint\r\n",
        "import numpy as np\r\n",
        "import os\r\n",
        "from PIL import Image\r\n",
        "import glob, os\r\n",
        "import xgboost as xgb\r\n",
        "#sklearn\r\n",
        "from sklearn.model_selection import train_test_split, cross_val_score\r\n",
        "from sklearn.metrics import mean_squared_error,confusion_matrix, precision_score, recall_score, auc,roc_curve\r\n",
        "from sklearn import ensemble, linear_model, neighbors, svm, tree, neural_network\r\n",
        "from sklearn.pipeline import make_pipeline\r\n",
        "from sklearn.linear_model import Ridge\r\n",
        "from sklearn.preprocessing import PolynomialFeatures\r\n",
        "from sklearn import svm,model_selection, tree, linear_model, neighbors, naive_bayes, ensemble, discriminant_analysis, gaussian_process\r\n",
        "from sklearn.ensemble import VotingClassifier\r\n",
        "from sklearn.model_selection import GridSearchCV\r\n",
        "from sklearn.metrics import classification_report, confusion_matrix\r\n",
        "from xgboost import XGBClassifier\r\n",
        "#load package\r\n",
        "import pandas as pd\r\n",
        "import numpy as np\r\n",
        "import matplotlib.pyplot as plt\r\n",
        "#from math import sqrt\r\n",
        "import seaborn as sns\r\n",
        "import numpy\r\n",
        "import warnings\r\n",
        "from keras.optimizers import RMSprop\r\n",
        "warnings.filterwarnings('ignore')"
      ],
      "execution_count": null,
      "outputs": []
    },
    {
      "cell_type": "markdown",
      "metadata": {
        "id": "XjyHbPqYgl1j"
      },
      "source": [
        "#### Download Data"
      ]
    },
    {
      "cell_type": "code",
      "metadata": {
        "id": "miA4VEA_n4Mc"
      },
      "source": [
        "!mkdir data"
      ],
      "execution_count": null,
      "outputs": []
    },
    {
      "cell_type": "code",
      "metadata": {
        "colab": {
          "base_uri": "https://localhost:8080/"
        },
        "id": "1WvQjZsmoRUG",
        "outputId": "672e68a6-8b7b-4c73-d166-e1baee54b5a0"
      },
      "source": [
        "cd data"
      ],
      "execution_count": null,
      "outputs": [
        {
          "output_type": "stream",
          "text": [
            "/content/data\n"
          ],
          "name": "stdout"
        }
      ]
    },
    {
      "cell_type": "code",
      "metadata": {
        "id": "3Wd0KevURDs_"
      },
      "source": [
        "#'cow',\"lobster\",\"panda\"\r\n",
        "classes = [\"bear\", \"bird\", \"dog\",\"camel\", \"dolphin\",\"snake\",\"snail\",\"swan\",\"zebra\",'cat',\"giraffe\",\"octopus\", \"fish\"]"
      ],
      "execution_count": null,
      "outputs": []
    },
    {
      "cell_type": "code",
      "metadata": {
        "id": "D7snzOOFoS3S"
      },
      "source": [
        "for c in classes:\n",
        "  if c+'.npy' not in glob.glob(\"*.npy\"):\n",
        "    os.system('wget https://storage.googleapis.com/quickdraw_dataset/full/numpy_bitmap/%s.npy'%c)"
      ],
      "execution_count": null,
      "outputs": []
    },
    {
      "cell_type": "code",
      "metadata": {
        "colab": {
          "base_uri": "https://localhost:8080/"
        },
        "id": "BmwcmjDBoVEI",
        "outputId": "19027a90-8bf3-46a0-89de-2f034281c4ed"
      },
      "source": [
        "!ls"
      ],
      "execution_count": null,
      "outputs": [
        {
          "output_type": "stream",
          "text": [
            "bear.npy   cat.npy\tfish.npy     snail.npy\tzebra.npy\n",
            "bird.npy   dog.npy\tgiraffe.npy  snake.npy\n",
            "camel.npy  dolphin.npy\toctopus.npy  swan.npy\n"
          ],
          "name": "stdout"
        }
      ]
    },
    {
      "cell_type": "markdown",
      "metadata": {
        "id": "6psNsTYhq3OX"
      },
      "source": [
        "#### Load Data"
      ]
    },
    {
      "cell_type": "code",
      "metadata": {
        "colab": {
          "base_uri": "https://localhost:8080/"
        },
        "id": "DdE61FeABW3Q",
        "outputId": "cce4f50e-3a42-4e92-87f6-039987fac31e"
      },
      "source": [
        "# create lists for data files and objects in the same order\n",
        "os.chdir('/content/data')\n",
        "files=[]\n",
        "objects=[]\n",
        "for file in glob.glob(\"*.npy\"):\n",
        "  if file.split('.')[0] in classes:\n",
        "    objects.append(file.split('.')[0])\n",
        "    files.append(file)\n",
        "print(objects)\n",
        "print(files)"
      ],
      "execution_count": null,
      "outputs": [
        {
          "output_type": "stream",
          "text": [
            "['bear', 'swan', 'giraffe', 'dog', 'octopus', 'cat', 'camel', 'fish', 'zebra', 'bird', 'snake', 'dolphin', 'snail']\n",
            "['bear.npy', 'swan.npy', 'giraffe.npy', 'dog.npy', 'octopus.npy', 'cat.npy', 'camel.npy', 'fish.npy', 'zebra.npy', 'bird.npy', 'snake.npy', 'dolphin.npy', 'snail.npy']\n"
          ],
          "name": "stdout"
        }
      ]
    },
    {
      "cell_type": "code",
      "metadata": {
        "colab": {
          "base_uri": "https://localhost:8080/"
        },
        "id": "2h92YnDx_-VR",
        "outputId": "72649f1a-2dff-4a1d-9d38-aa377737274e"
      },
      "source": [
        "enum=enumerate(objects)\r\n",
        "DRAWINGS=dict((i,j) for i,j in enum)\r\n",
        "print(DRAWINGS)"
      ],
      "execution_count": null,
      "outputs": [
        {
          "output_type": "stream",
          "text": [
            "{0: 'bear', 1: 'swan', 2: 'giraffe', 3: 'dog', 4: 'octopus', 5: 'cat', 6: 'camel', 7: 'fish', 8: 'zebra', 9: 'bird', 10: 'snake', 11: 'dolphin', 12: 'snail'}\n"
          ],
          "name": "stdout"
        }
      ]
    },
    {
      "cell_type": "code",
      "metadata": {
        "id": "o8_oUwpKrK40"
      },
      "source": [
        "N = 20000 # samples for each class"
      ],
      "execution_count": null,
      "outputs": []
    },
    {
      "cell_type": "code",
      "metadata": {
        "id": "FBlcBwhZYNky"
      },
      "source": [
        "d_x = []\r\n",
        "d_y = []\r\n",
        "\r\n",
        "for i in range(len(files)): \r\n",
        "  d = np.load('/content/data/'+files[i])\r\n",
        "  c = 0\r\n",
        "  for j in d:\r\n",
        "    if c<N:\r\n",
        "      c+=1\r\n",
        "      d_x.append(j)\r\n",
        "      d_y.append(i)\r\n"
      ],
      "execution_count": null,
      "outputs": []
    },
    {
      "cell_type": "code",
      "metadata": {
        "colab": {
          "base_uri": "https://localhost:8080/"
        },
        "id": "3678vOUrrTRw",
        "outputId": "507e86fe-d7a4-4999-b173-34b9a808205a"
      },
      "source": [
        "print( 'Total number of samples: ', len(d_x))"
      ],
      "execution_count": null,
      "outputs": [
        {
          "output_type": "stream",
          "text": [
            "Total number of samples:  260000\n"
          ],
          "name": "stdout"
        }
      ]
    },
    {
      "cell_type": "markdown",
      "metadata": {
        "id": "7zox9UEKuXAe"
      },
      "source": [
        "#### Visualize Data"
      ]
    },
    {
      "cell_type": "code",
      "metadata": {
        "colab": {
          "base_uri": "https://localhost:8080/"
        },
        "id": "pmrIJAuLtajS",
        "outputId": "8a9fa70a-c00e-44ff-9336-c4806aafd23a"
      },
      "source": [
        "Image.fromarray(np.reshape(d_x[1000], (28,28)))"
      ],
      "execution_count": null,
      "outputs": [
        {
          "output_type": "execute_result",
          "data": {
            "image/png": "[encoded data removed]",
            "text/plain": [
              "<PIL.Image.Image image mode=L size=28x28 at 0x7F7B2667E128>"
            ]
          },
          "metadata": {
            "tags": []
          },
          "execution_count": 12
        }
      ]
    },
    {
      "cell_type": "markdown",
      "metadata": {
        "id": "A4Opi5AtgpKn"
      },
      "source": [
        "#### Prepare Data"
      ]
    },
    {
      "cell_type": "markdown",
      "metadata": {
        "id": "GELKBJ7LkPR9"
      },
      "source": [
        "**Preparing the Data**\r\n",
        "*   Normalized data by dividig it each pixel value by 255\r\n",
        "*   We dont have any missing data\r\n",
        "*   Applied one hot encoding for target labels(y_train, y_test) "
      ]
    },
    {
      "cell_type": "markdown",
      "metadata": {
        "id": "_8EvPOkNrvqp"
      },
      "source": [
        "##### Normalizing Features & One Hot Encoding of Labels"
      ]
    },
    {
      "cell_type": "code",
      "metadata": {
        "id": "8UXZIQz6Y0aN"
      },
      "source": [
        "from keras.utils import to_categorical\r\n",
        "\r\n",
        "d_x = np.array(d_x).astype('float32')\r\n",
        "d_y = np.array(d_y).astype('float32')\r\n",
        "\r\n",
        "d_x = d_x/255\r\n",
        "d_y = to_categorical(d_y,13)"
      ],
      "execution_count": null,
      "outputs": []
    },
    {
      "cell_type": "code",
      "metadata": {
        "colab": {
          "base_uri": "https://localhost:8080/"
        },
        "id": "7Kjkjf1WsHFy",
        "outputId": "79b0c453-33ee-4f4d-bcd9-5b5103bf0146"
      },
      "source": [
        "print('Shape of X: ', d_x.shape)\r\n",
        "print('Shape of y: ', d_y.shape)"
      ],
      "execution_count": null,
      "outputs": [
        {
          "output_type": "stream",
          "text": [
            "Shape of X:  (260000, 784)\n",
            "Shape of y:  (260000, 13)\n"
          ],
          "name": "stdout"
        }
      ]
    },
    {
      "cell_type": "markdown",
      "metadata": {
        "id": "I47QNflSWZZd"
      },
      "source": [
        "## Comparison of ML Algorithms "
      ]
    },
    {
      "cell_type": "markdown",
      "metadata": {
        "id": "zP9v9DYohCSt"
      },
      "source": [
        "##### define functions"
      ]
    },
    {
      "cell_type": "code",
      "metadata": {
        "id": "RzrIjCznaYv6",
        "scrolled": true
      },
      "source": [
        "def initializeMLA():\n",
        "  MLA = [\n",
        "      #Ensemble Methods\n",
        "      ensemble.AdaBoostClassifier(),\n",
        "      ensemble.BaggingClassifier(),\n",
        "      ensemble.GradientBoostingClassifier(),\n",
        "      ensemble.RandomForestClassifier(max_depth=3),\n",
        "      XGBClassifier(),\n",
        "      \n",
        "      #GLM\n",
        "      linear_model.LogisticRegressionCV(),\n",
        "      \n",
        "      #Navies Ba## Comparison of ML Algorithms \n",
        "      naive_bayes.BernoulliNB(),\n",
        "      naive_bayes.GaussianNB(),\n",
        "      \n",
        "      #Nearest Neighbor\n",
        "      neighbors.KNeighborsClassifier(),\n",
        "      \n",
        "      #SVM\n",
        "      svm.SVC(probability=True),\n",
        "      #Trees    \n",
        "      tree.DecisionTreeClassifier(max_depth=3),\n",
        "      ]\n",
        "  return MLA"
      ],
      "execution_count": null,
      "outputs": []
    },
    {
      "cell_type": "code",
      "metadata": {
        "id": "fBmREkcyaYv7"
      },
      "source": [
        "def train_MLA_return_result(MLA):\n",
        "  MLA_columns = []\n",
        "  MLA_compare = pd.DataFrame(columns = MLA_columns)\n",
        "  row_index = 0\n",
        "  for alg in MLA:\n",
        "      print(alg)\n",
        "      MLA_name = alg.__class__.__name__\n",
        "      alg.fit(numpy.array(x_train), numpy.array(y_train))\n",
        "      predicted = alg.predict(x_test)\n",
        "      #fp, tp, th = roc_curve(y_test, predicted, average='micro')\n",
        "      \n",
        "      MLA_compare.loc[row_index,'MLA Name'] = MLA_name\n",
        "      MLA_compare.loc[row_index, 'MLA Train Accuracy'] = round(alg.score(x_train, y_train), 4)\n",
        "      MLA_compare.loc[row_index, 'MLA Test Accuracy'] = round(alg.score(x_test, y_test), 4)\n",
        "      MLA_compare.loc[row_index, 'MLA Precission'] = precision_score(y_test, predicted, average='macro')\n",
        "      MLA_compare.loc[row_index, 'MLA Recall'] = recall_score(y_test, predicted, average='macro')\n",
        "      #MLA_compare.loc[row_index, 'MLA AUC'] = auc(fp, tp)\n",
        "\n",
        "      row_index+=1\n",
        "  MLA_compare.sort_values(by = ['MLA Test Accuracy'], ascending = False, inplace = True)    \n",
        "  return MLA_compare"
      ],
      "execution_count": null,
      "outputs": []
    },
    {
      "cell_type": "code",
      "metadata": {
        "id": "UM6QGuzJaYv8"
      },
      "source": [
        "def plot_MLA(MLA_compare):\n",
        "  plt.subplots(figsize=(15,6))\n",
        "  sns.barplot(x=\"MLA Name\", y=\"MLA Train Accuracy\",data=MLA_compare,palette='hot',edgecolor=sns.color_palette('dark',7))\n",
        "  plt.xticks(rotation=90)\n",
        "  plt.title('MLA Train Accuracy Comparison')\n",
        "  plt.show()"
      ],
      "execution_count": null,
      "outputs": []
    },
    {
      "cell_type": "markdown",
      "metadata": {
        "id": "_vQ3nj35blwj"
      },
      "source": [
        "### 1st Scenario (3 classes ,500 sample)"
      ]
    },
    {
      "cell_type": "markdown",
      "metadata": {
        "id": "25-4tVJj9VKy"
      },
      "source": [
        "Test size = 0.2 , number of classes = 3 , number of samples = 500 for each clas"
      ]
    },
    {
      "cell_type": "markdown",
      "metadata": {
        "id": "a1UR0LWXz9da"
      },
      "source": [
        "#### Load & Prepare Data"
      ]
    },
    {
      "cell_type": "markdown",
      "metadata": {
        "id": "7Tqr0N3h0liA"
      },
      "source": [
        "##### Load"
      ]
    },
    {
      "cell_type": "code",
      "metadata": {
        "id": "i7HdPEbobUhv"
      },
      "source": [
        "files = ['bear.npy', 'giraffe.npy', 'octopus.npy']\r\n",
        "objects = ['bear', 'giraffe', 'octopus']\r\n",
        "for c in objects:\r\n",
        "  if c+'.npy' not in glob.glob(\"*.npy\"):\r\n",
        "    os.system('wget https://storage.googleapis.com/quickdraw_dataset/full/numpy_bitmap/%s.npy'%c)"
      ],
      "execution_count": null,
      "outputs": []
    },
    {
      "cell_type": "code",
      "metadata": {
        "colab": {
          "base_uri": "https://localhost:8080/"
        },
        "id": "94nKRtktOwrc",
        "outputId": "e19d92e1-7fea-4fab-a3c8-a34202e471b0"
      },
      "source": [
        "# try ML algortihms with 3 classes\n",
        "files=files[0:3]\n",
        "objects=objects[0:3]\n",
        "enum=enumerate(objects)\n",
        "DRAWINGS=dict((i,j) for i,j in enum)\n",
        "print(DRAWINGS)\n",
        "N_Drawings=len(objects)\n",
        "\n",
        "d_x = []\n",
        "d_y = []\n",
        "\n",
        "for i in range(len(files)): \n",
        "  d = np.load('/content/data/'+files[i])\n",
        "  c = 0\n",
        "  for j in d:\n",
        "    if c<500:\n",
        "      c+=1\n",
        "      d_x.append(j)\n",
        "      d_y.append(i)\n"
      ],
      "execution_count": null,
      "outputs": [
        {
          "output_type": "stream",
          "text": [
            "{0: 'bear', 1: 'giraffe', 2: 'octopus'}\n"
          ],
          "name": "stdout"
        }
      ]
    },
    {
      "cell_type": "markdown",
      "metadata": {
        "id": "mqC3A3PxyYYU"
      },
      "source": [
        "##### Normalizing Features"
      ]
    },
    {
      "cell_type": "code",
      "metadata": {
        "id": "SZ3KLHejyYYV"
      },
      "source": [
        "from keras.utils import to_categorical\r\n",
        "\r\n",
        "d_x = np.array(d_x).astype('float32')\r\n",
        "d_y = np.array(d_y).astype('float32')\r\n",
        "\r\n",
        "d_x = d_x/255\r\n"
      ],
      "execution_count": null,
      "outputs": []
    },
    {
      "cell_type": "code",
      "metadata": {
        "colab": {
          "base_uri": "https://localhost:8080/"
        },
        "id": "k1Z4mqZcyYYV",
        "outputId": "7263faa1-806b-4ff6-87a2-988f6b9d7193"
      },
      "source": [
        "print('Shape of X: ', d_x.shape)\r\n",
        "print('Shape of y: ', d_y.shape)"
      ],
      "execution_count": null,
      "outputs": [
        {
          "output_type": "stream",
          "text": [
            "Shape of X:  (1500, 784)\n",
            "Shape of y:  (1500,)\n"
          ],
          "name": "stdout"
        }
      ]
    },
    {
      "cell_type": "markdown",
      "metadata": {
        "id": "-4Kee7p7z399"
      },
      "source": [
        "##### Prepare Training and Test data"
      ]
    },
    {
      "cell_type": "code",
      "metadata": {
        "id": "aNm3HOADz39_"
      },
      "source": [
        "x_train, x_test, y_train, y_test = train_test_split(d_x, d_y,stratify=d_y, test_size=0.2)"
      ],
      "execution_count": null,
      "outputs": []
    },
    {
      "cell_type": "markdown",
      "metadata": {
        "id": "uEQtQtie0qEd"
      },
      "source": [
        "#### Train ML Models"
      ]
    },
    {
      "cell_type": "code",
      "metadata": {
        "colab": {
          "base_uri": "https://localhost:8080/"
        },
        "id": "Ecy1XQh8c-h7",
        "outputId": "a403c864-809c-4b56-e858-50b7c3032aed"
      },
      "source": [
        "MLA = initializeMLA()\r\n",
        "MLA_compare = train_MLA_return_result(MLA)"
      ],
      "execution_count": null,
      "outputs": [
        {
          "output_type": "stream",
          "text": [
            "AdaBoostClassifier(algorithm='SAMME.R', base_estimator=None, learning_rate=1.0,\n",
            "                   n_estimators=50, random_state=None)\n",
            "BaggingClassifier(base_estimator=None, bootstrap=True, bootstrap_features=False,\n",
            "                  max_features=1.0, max_samples=1.0, n_estimators=10,\n",
            "                  n_jobs=None, oob_score=False, random_state=None, verbose=0,\n",
            "                  warm_start=False)\n",
            "GradientBoostingClassifier(ccp_alpha=0.0, criterion='friedman_mse', init=None,\n",
            "                           learning_rate=0.1, loss='deviance', max_depth=3,\n",
            "                           max_features=None, max_leaf_nodes=None,\n",
            "                           min_impurity_decrease=0.0, min_impurity_split=None,\n",
            "                           min_samples_leaf=1, min_samples_split=2,\n",
            "                           min_weight_fraction_leaf=0.0, n_estimators=100,\n",
            "                           n_iter_no_change=None, presort='deprecated',\n",
            "                           random_state=None, subsample=1.0, tol=0.0001,\n",
            "                           validation_fraction=0.1, verbose=0,\n",
            "                           warm_start=False)\n",
            "RandomForestClassifier(bootstrap=True, ccp_alpha=0.0, class_weight=None,\n",
            "                       criterion='gini', max_depth=3, max_features='auto',\n",
            "                       max_leaf_nodes=None, max_samples=None,\n",
            "                       min_impurity_decrease=0.0, min_impurity_split=None,\n",
            "                       min_samples_leaf=1, min_samples_split=2,\n",
            "                       min_weight_fraction_leaf=0.0, n_estimators=100,\n",
            "                       n_jobs=None, oob_score=False, random_state=None,\n",
            "                       verbose=0, warm_start=False)\n",
            "XGBClassifier(base_score=0.5, booster='gbtree', colsample_bylevel=1,\n",
            "              colsample_bynode=1, colsample_bytree=1, gamma=0,\n",
            "              learning_rate=0.1, max_delta_step=0, max_depth=3,\n",
            "              min_child_weight=1, missing=None, n_estimators=100, n_jobs=1,\n",
            "              nthread=None, objective='binary:logistic', random_state=0,\n",
            "              reg_alpha=0, reg_lambda=1, scale_pos_weight=1, seed=None,\n",
            "              silent=None, subsample=1, verbosity=1)\n",
            "LogisticRegressionCV(Cs=10, class_weight=None, cv=None, dual=False,\n",
            "                     fit_intercept=True, intercept_scaling=1.0, l1_ratios=None,\n",
            "                     max_iter=100, multi_class='auto', n_jobs=None,\n",
            "                     penalty='l2', random_state=None, refit=True, scoring=None,\n",
            "                     solver='lbfgs', tol=0.0001, verbose=0)\n",
            "BernoulliNB(alpha=1.0, binarize=0.0, class_prior=None, fit_prior=True)\n",
            "GaussianNB(priors=None, var_smoothing=1e-09)\n",
            "KNeighborsClassifier(algorithm='auto', leaf_size=30, metric='minkowski',\n",
            "                     metric_params=None, n_jobs=None, n_neighbors=5, p=2,\n",
            "                     weights='uniform')\n",
            "SVC(C=1.0, break_ties=False, cache_size=200, class_weight=None, coef0=0.0,\n",
            "    decision_function_shape='ovr', degree=3, gamma='scale', kernel='rbf',\n",
            "    max_iter=-1, probability=True, random_state=None, shrinking=True, tol=0.001,\n",
            "    verbose=False)\n",
            "DecisionTreeClassifier(ccp_alpha=0.0, class_weight=None, criterion='gini',\n",
            "                       max_depth=3, max_features=None, max_leaf_nodes=None,\n",
            "                       min_impurity_decrease=0.0, min_impurity_split=None,\n",
            "                       min_samples_leaf=1, min_samples_split=2,\n",
            "                       min_weight_fraction_leaf=0.0, presort='deprecated',\n",
            "                       random_state=None, splitter='best')\n"
          ],
          "name": "stdout"
        }
      ]
    },
    {
      "cell_type": "markdown",
      "metadata": {
        "id": "L5VhyyOn3jBe"
      },
      "source": [
        "#### Results"
      ]
    },
    {
      "cell_type": "code",
      "metadata": {
        "colab": {
          "base_uri": "https://localhost:8080/",
          "height": 394
        },
        "id": "3k147eQcdHYe",
        "outputId": "a474d3b7-1233-4ecb-a119-6feda2cec884"
      },
      "source": [
        "MLA_compare"
      ],
      "execution_count": null,
      "outputs": [
        {
          "output_type": "execute_result",
          "data": {
            "text/html": [
              "<div>\n",
              "<style scoped>\n",
              "    .dataframe tbody tr th:only-of-type {\n",
              "        vertical-align: middle;\n",
              "    }\n",
              "\n",
              "    .dataframe tbody tr th {\n",
              "        vertical-align: top;\n",
              "    }\n",
              "\n",
              "    .dataframe thead th {\n",
              "        text-align: right;\n",
              "    }\n",
              "</style>\n",
              "<table border=\"1\" class=\"dataframe\">\n",
              "  <thead>\n",
              "    <tr style=\"text-align: right;\">\n",
              "      <th></th>\n",
              "      <th>MLA Name</th>\n",
              "      <th>MLA Train Accuracy</th>\n",
              "      <th>MLA Test Accuracy</th>\n",
              "      <th>MLA Precission</th>\n",
              "      <th>MLA Recall</th>\n",
              "    </tr>\n",
              "  </thead>\n",
              "  <tbody>\n",
              "    <tr>\n",
              "      <th>9</th>\n",
              "      <td>SVC</td>\n",
              "      <td>0.9875</td>\n",
              "      <td>0.9067</td>\n",
              "      <td>0.908013</td>\n",
              "      <td>0.906667</td>\n",
              "    </tr>\n",
              "    <tr>\n",
              "      <th>4</th>\n",
              "      <td>XGBClassifier</td>\n",
              "      <td>0.9958</td>\n",
              "      <td>0.8833</td>\n",
              "      <td>0.883360</td>\n",
              "      <td>0.883333</td>\n",
              "    </tr>\n",
              "    <tr>\n",
              "      <th>8</th>\n",
              "      <td>KNeighborsClassifier</td>\n",
              "      <td>0.9292</td>\n",
              "      <td>0.8800</td>\n",
              "      <td>0.887400</td>\n",
              "      <td>0.880000</td>\n",
              "    </tr>\n",
              "    <tr>\n",
              "      <th>2</th>\n",
              "      <td>GradientBoostingClassifier</td>\n",
              "      <td>1.0000</td>\n",
              "      <td>0.8733</td>\n",
              "      <td>0.873186</td>\n",
              "      <td>0.873333</td>\n",
              "    </tr>\n",
              "    <tr>\n",
              "      <th>5</th>\n",
              "      <td>LogisticRegressionCV</td>\n",
              "      <td>0.9067</td>\n",
              "      <td>0.8500</td>\n",
              "      <td>0.851216</td>\n",
              "      <td>0.850000</td>\n",
              "    </tr>\n",
              "    <tr>\n",
              "      <th>6</th>\n",
              "      <td>BernoulliNB</td>\n",
              "      <td>0.8525</td>\n",
              "      <td>0.8267</td>\n",
              "      <td>0.834069</td>\n",
              "      <td>0.826667</td>\n",
              "    </tr>\n",
              "    <tr>\n",
              "      <th>0</th>\n",
              "      <td>AdaBoostClassifier</td>\n",
              "      <td>0.9175</td>\n",
              "      <td>0.8100</td>\n",
              "      <td>0.812600</td>\n",
              "      <td>0.810000</td>\n",
              "    </tr>\n",
              "    <tr>\n",
              "      <th>1</th>\n",
              "      <td>BaggingClassifier</td>\n",
              "      <td>0.9967</td>\n",
              "      <td>0.8067</td>\n",
              "      <td>0.807604</td>\n",
              "      <td>0.806667</td>\n",
              "    </tr>\n",
              "    <tr>\n",
              "      <th>3</th>\n",
              "      <td>RandomForestClassifier</td>\n",
              "      <td>0.8817</td>\n",
              "      <td>0.8067</td>\n",
              "      <td>0.809914</td>\n",
              "      <td>0.806667</td>\n",
              "    </tr>\n",
              "    <tr>\n",
              "      <th>7</th>\n",
              "      <td>GaussianNB</td>\n",
              "      <td>0.7383</td>\n",
              "      <td>0.7133</td>\n",
              "      <td>0.767412</td>\n",
              "      <td>0.713333</td>\n",
              "    </tr>\n",
              "    <tr>\n",
              "      <th>10</th>\n",
              "      <td>DecisionTreeClassifier</td>\n",
              "      <td>0.7350</td>\n",
              "      <td>0.6900</td>\n",
              "      <td>0.693031</td>\n",
              "      <td>0.690000</td>\n",
              "    </tr>\n",
              "  </tbody>\n",
              "</table>\n",
              "</div>"
            ],
            "text/plain": [
              "                      MLA Name  MLA Train Accuracy  ...  MLA Precission  MLA Recall\n",
              "9                          SVC              0.9875  ...        0.908013    0.906667\n",
              "4                XGBClassifier              0.9958  ...        0.883360    0.883333\n",
              "8         KNeighborsClassifier              0.9292  ...        0.887400    0.880000\n",
              "2   GradientBoostingClassifier              1.0000  ...        0.873186    0.873333\n",
              "5         LogisticRegressionCV              0.9067  ...        0.851216    0.850000\n",
              "6                  BernoulliNB              0.8525  ...        0.834069    0.826667\n",
              "0           AdaBoostClassifier              0.9175  ...        0.812600    0.810000\n",
              "1            BaggingClassifier              0.9967  ...        0.807604    0.806667\n",
              "3       RandomForestClassifier              0.8817  ...        0.809914    0.806667\n",
              "7                   GaussianNB              0.7383  ...        0.767412    0.713333\n",
              "10      DecisionTreeClassifier              0.7350  ...        0.693031    0.690000\n",
              "\n",
              "[11 rows x 5 columns]"
            ]
          },
          "metadata": {
            "tags": []
          },
          "execution_count": 141
        }
      ]
    },
    {
      "cell_type": "code",
      "metadata": {
        "colab": {
          "base_uri": "https://localhost:8080/",
          "height": 527
        },
        "id": "xp8ZMsFgdII4",
        "outputId": "d5144b93-361f-455b-c479-f200b3b3b25e"
      },
      "source": [
        "plot_MLA(MLA_compare)"
      ],
      "execution_count": null,
      "outputs": [
        {
          "output_type": "display_data",
          "data": {
            "image/png": "[encoded data removed]",
            "text/plain": [
              "<Figure size 1080x432 with 1 Axes>"
            ]
          },
          "metadata": {
            "tags": [],
            "needs_background": "light"
          }
        }
      ]
    },
    {
      "cell_type": "code",
      "metadata": {
        "colab": {
          "base_uri": "https://localhost:8080/"
        },
        "id": "CIAcivyKz3-A",
        "outputId": "0586aaa5-29fe-4ea1-bf00-cad289682274"
      },
      "source": [
        "print('Number of data in training :', len(x_train))\r\n",
        "print('Number of data in test :', len(x_test))"
      ],
      "execution_count": null,
      "outputs": [
        {
          "output_type": "stream",
          "text": [
            "Number of data in training : 1200\n",
            "Number of data in test : 300\n"
          ],
          "name": "stdout"
        }
      ]
    },
    {
      "cell_type": "markdown",
      "metadata": {
        "id": "z5UGfi9g51Kb"
      },
      "source": [
        "### 2nd Scenario (3 classes, 1000 sample)"
      ]
    },
    {
      "cell_type": "code",
      "metadata": {
        "id": "1jxL0N_B6H1Q"
      },
      "source": [
        "N = 1000 # Number of samples"
      ],
      "execution_count": null,
      "outputs": []
    },
    {
      "cell_type": "markdown",
      "metadata": {
        "id": "J5UhCdHC51Kc"
      },
      "source": [
        "#### Load & Prepare Data"
      ]
    },
    {
      "cell_type": "markdown",
      "metadata": {
        "id": "96E5rw5D51Kc"
      },
      "source": [
        "##### Load"
      ]
    },
    {
      "cell_type": "code",
      "metadata": {
        "id": "f_cjHKyU51Kd"
      },
      "source": [
        "files = ['bear.npy', 'giraffe.npy', 'octopus.npy']\r\n",
        "objects = ['bear', 'giraffe', 'octopus']\r\n",
        "for c in objects:\r\n",
        "  if c+'.npy' not in glob.glob(\"*.npy\"):\r\n",
        "    os.system('wget https://storage.googleapis.com/quickdraw_dataset/full/numpy_bitmap/%s.npy'%c)"
      ],
      "execution_count": null,
      "outputs": []
    },
    {
      "cell_type": "code",
      "metadata": {
        "colab": {
          "base_uri": "https://localhost:8080/"
        },
        "id": "TuHxldbd51Kd",
        "outputId": "0e3cac76-c095-4536-f1dc-dcdec9591ae6"
      },
      "source": [
        "# try ML algortihms with 3 classes\n",
        "files=files[0:3]\n",
        "objects=objects[0:3]\n",
        "enum=enumerate(objects)\n",
        "DRAWINGS=dict((i,j) for i,j in enum)\n",
        "print(DRAWINGS)\n",
        "N_Drawings=len(objects)\n",
        "\n",
        "d_x = []\n",
        "d_y = []\n",
        "\n",
        "for i in range(len(files)): \n",
        "  d = np.load('/content/data/'+files[i])\n",
        "  c = 0\n",
        "  for j in d:\n",
        "    if c<N:\n",
        "      c+=1\n",
        "      d_x.append(j)\n",
        "      d_y.append(i)\n"
      ],
      "execution_count": null,
      "outputs": [
        {
          "output_type": "stream",
          "text": [
            "{0: 'bear', 1: 'giraffe', 2: 'octopus'}\n"
          ],
          "name": "stdout"
        }
      ]
    },
    {
      "cell_type": "markdown",
      "metadata": {
        "id": "WvUhCDJa51Ke"
      },
      "source": [
        "##### Normalizing Features"
      ]
    },
    {
      "cell_type": "code",
      "metadata": {
        "id": "r4MFTNrn51Ke"
      },
      "source": [
        "from keras.utils import to_categorical\r\n",
        "\r\n",
        "d_x = np.array(d_x).astype('float32')\r\n",
        "d_y = np.array(d_y).astype('float32')\r\n",
        "\r\n",
        "d_x = d_x/255\r\n"
      ],
      "execution_count": null,
      "outputs": []
    },
    {
      "cell_type": "code",
      "metadata": {
        "colab": {
          "base_uri": "https://localhost:8080/"
        },
        "id": "nJoi9sFs51Kf",
        "outputId": "ed98b667-2a48-46fb-f58b-edfd788f5c91"
      },
      "source": [
        "print('Shape of X: ', d_x.shape)\r\n",
        "print('Shape of y: ', d_y.shape)"
      ],
      "execution_count": null,
      "outputs": [
        {
          "output_type": "stream",
          "text": [
            "Shape of X:  (1500, 784)\n",
            "Shape of y:  (1500,)\n"
          ],
          "name": "stdout"
        }
      ]
    },
    {
      "cell_type": "markdown",
      "metadata": {
        "id": "R3a9lP8x51Kg"
      },
      "source": [
        "##### Prepare Training and Test data"
      ]
    },
    {
      "cell_type": "code",
      "metadata": {
        "id": "chaftiu151Kg"
      },
      "source": [
        "x_train, x_test, y_train, y_test = train_test_split(d_x, d_y,stratify=d_y, test_size=0.2)"
      ],
      "execution_count": null,
      "outputs": []
    },
    {
      "cell_type": "markdown",
      "metadata": {
        "id": "xUD2fbJ651Kg"
      },
      "source": [
        "#### Train ML Models"
      ]
    },
    {
      "cell_type": "code",
      "metadata": {
        "colab": {
          "base_uri": "https://localhost:8080/"
        },
        "id": "Kf9LsrXx51Kh",
        "outputId": "8ee2b0ae-8f02-4807-f74b-efad5804ab4f"
      },
      "source": [
        "MLA = initializeMLA()\r\n",
        "MLA_compare = train_MLA_return_result(MLA)"
      ],
      "execution_count": null,
      "outputs": [
        {
          "output_type": "stream",
          "text": [
            "AdaBoostClassifier(algorithm='SAMME.R', base_estimator=None, learning_rate=1.0,\n",
            "                   n_estimators=50, random_state=None)\n",
            "BaggingClassifier(base_estimator=None, bootstrap=True, bootstrap_features=False,\n",
            "                  max_features=1.0, max_samples=1.0, n_estimators=10,\n",
            "                  n_jobs=None, oob_score=False, random_state=None, verbose=0,\n",
            "                  warm_start=False)\n",
            "GradientBoostingClassifier(ccp_alpha=0.0, criterion='friedman_mse', init=None,\n",
            "                           learning_rate=0.1, loss='deviance', max_depth=3,\n",
            "                           max_features=None, max_leaf_nodes=None,\n",
            "                           min_impurity_decrease=0.0, min_impurity_split=None,\n",
            "                           min_samples_leaf=1, min_samples_split=2,\n",
            "                           min_weight_fraction_leaf=0.0, n_estimators=100,\n",
            "                           n_iter_no_change=None, presort='deprecated',\n",
            "                           random_state=None, subsample=1.0, tol=0.0001,\n",
            "                           validation_fraction=0.1, verbose=0,\n",
            "                           warm_start=False)\n",
            "RandomForestClassifier(bootstrap=True, ccp_alpha=0.0, class_weight=None,\n",
            "                       criterion='gini', max_depth=3, max_features='auto',\n",
            "                       max_leaf_nodes=None, max_samples=None,\n",
            "                       min_impurity_decrease=0.0, min_impurity_split=None,\n",
            "                       min_samples_leaf=1, min_samples_split=2,\n",
            "                       min_weight_fraction_leaf=0.0, n_estimators=100,\n",
            "                       n_jobs=None, oob_score=False, random_state=None,\n",
            "                       verbose=0, warm_start=False)\n",
            "XGBClassifier(base_score=0.5, booster='gbtree', colsample_bylevel=1,\n",
            "              colsample_bynode=1, colsample_bytree=1, gamma=0,\n",
            "              learning_rate=0.1, max_delta_step=0, max_depth=3,\n",
            "              min_child_weight=1, missing=None, n_estimators=100, n_jobs=1,\n",
            "              nthread=None, objective='binary:logistic', random_state=0,\n",
            "              reg_alpha=0, reg_lambda=1, scale_pos_weight=1, seed=None,\n",
            "              silent=None, subsample=1, verbosity=1)\n",
            "LogisticRegressionCV(Cs=10, class_weight=None, cv=None, dual=False,\n",
            "                     fit_intercept=True, intercept_scaling=1.0, l1_ratios=None,\n",
            "                     max_iter=100, multi_class='auto', n_jobs=None,\n",
            "                     penalty='l2', random_state=None, refit=True, scoring=None,\n",
            "                     solver='lbfgs', tol=0.0001, verbose=0)\n",
            "BernoulliNB(alpha=1.0, binarize=0.0, class_prior=None, fit_prior=True)\n",
            "GaussianNB(priors=None, var_smoothing=1e-09)\n",
            "KNeighborsClassifier(algorithm='auto', leaf_size=30, metric='minkowski',\n",
            "                     metric_params=None, n_jobs=None, n_neighbors=5, p=2,\n",
            "                     weights='uniform')\n",
            "SVC(C=1.0, break_ties=False, cache_size=200, class_weight=None, coef0=0.0,\n",
            "    decision_function_shape='ovr', degree=3, gamma='scale', kernel='rbf',\n",
            "    max_iter=-1, probability=True, random_state=None, shrinking=True, tol=0.001,\n",
            "    verbose=False)\n",
            "DecisionTreeClassifier(ccp_alpha=0.0, class_weight=None, criterion='gini',\n",
            "                       max_depth=3, max_features=None, max_leaf_nodes=None,\n",
            "                       min_impurity_decrease=0.0, min_impurity_split=None,\n",
            "                       min_samples_leaf=1, min_samples_split=2,\n",
            "                       min_weight_fraction_leaf=0.0, presort='deprecated',\n",
            "                       random_state=None, splitter='best')\n"
          ],
          "name": "stdout"
        }
      ]
    },
    {
      "cell_type": "markdown",
      "metadata": {
        "id": "SSsg9zMx51Kh"
      },
      "source": [
        "#### Results"
      ]
    },
    {
      "cell_type": "code",
      "metadata": {
        "colab": {
          "base_uri": "https://localhost:8080/",
          "height": 394
        },
        "id": "MVIN675551Ki",
        "outputId": "52c655b5-cb1e-4ff4-86c9-7b4b7d79079e"
      },
      "source": [
        "MLA_compare"
      ],
      "execution_count": null,
      "outputs": [
        {
          "output_type": "execute_result",
          "data": {
            "text/html": [
              "<div>\n",
              "<style scoped>\n",
              "    .dataframe tbody tr th:only-of-type {\n",
              "        vertical-align: middle;\n",
              "    }\n",
              "\n",
              "    .dataframe tbody tr th {\n",
              "        vertical-align: top;\n",
              "    }\n",
              "\n",
              "    .dataframe thead th {\n",
              "        text-align: right;\n",
              "    }\n",
              "</style>\n",
              "<table border=\"1\" class=\"dataframe\">\n",
              "  <thead>\n",
              "    <tr style=\"text-align: right;\">\n",
              "      <th></th>\n",
              "      <th>MLA Name</th>\n",
              "      <th>MLA Train Accuracy</th>\n",
              "      <th>MLA Test Accuracy</th>\n",
              "      <th>MLA Precission</th>\n",
              "      <th>MLA Recall</th>\n",
              "    </tr>\n",
              "  </thead>\n",
              "  <tbody>\n",
              "    <tr>\n",
              "      <th>9</th>\n",
              "      <td>SVC</td>\n",
              "      <td>0.9817</td>\n",
              "      <td>0.9183</td>\n",
              "      <td>0.919741</td>\n",
              "      <td>0.918333</td>\n",
              "    </tr>\n",
              "    <tr>\n",
              "      <th>2</th>\n",
              "      <td>GradientBoostingClassifier</td>\n",
              "      <td>0.9946</td>\n",
              "      <td>0.9050</td>\n",
              "      <td>0.906602</td>\n",
              "      <td>0.905000</td>\n",
              "    </tr>\n",
              "    <tr>\n",
              "      <th>4</th>\n",
              "      <td>XGBClassifier</td>\n",
              "      <td>0.9846</td>\n",
              "      <td>0.9050</td>\n",
              "      <td>0.906297</td>\n",
              "      <td>0.905000</td>\n",
              "    </tr>\n",
              "    <tr>\n",
              "      <th>8</th>\n",
              "      <td>KNeighborsClassifier</td>\n",
              "      <td>0.9392</td>\n",
              "      <td>0.9033</td>\n",
              "      <td>0.905208</td>\n",
              "      <td>0.903333</td>\n",
              "    </tr>\n",
              "    <tr>\n",
              "      <th>5</th>\n",
              "      <td>LogisticRegressionCV</td>\n",
              "      <td>0.9204</td>\n",
              "      <td>0.8500</td>\n",
              "      <td>0.850251</td>\n",
              "      <td>0.850000</td>\n",
              "    </tr>\n",
              "    <tr>\n",
              "      <th>1</th>\n",
              "      <td>BaggingClassifier</td>\n",
              "      <td>0.9958</td>\n",
              "      <td>0.8333</td>\n",
              "      <td>0.837245</td>\n",
              "      <td>0.833333</td>\n",
              "    </tr>\n",
              "    <tr>\n",
              "      <th>3</th>\n",
              "      <td>RandomForestClassifier</td>\n",
              "      <td>0.8550</td>\n",
              "      <td>0.8283</td>\n",
              "      <td>0.830594</td>\n",
              "      <td>0.828333</td>\n",
              "    </tr>\n",
              "    <tr>\n",
              "      <th>6</th>\n",
              "      <td>BernoulliNB</td>\n",
              "      <td>0.8550</td>\n",
              "      <td>0.8167</td>\n",
              "      <td>0.820045</td>\n",
              "      <td>0.816667</td>\n",
              "    </tr>\n",
              "    <tr>\n",
              "      <th>0</th>\n",
              "      <td>AdaBoostClassifier</td>\n",
              "      <td>0.8796</td>\n",
              "      <td>0.8067</td>\n",
              "      <td>0.807494</td>\n",
              "      <td>0.806667</td>\n",
              "    </tr>\n",
              "    <tr>\n",
              "      <th>7</th>\n",
              "      <td>GaussianNB</td>\n",
              "      <td>0.7467</td>\n",
              "      <td>0.7250</td>\n",
              "      <td>0.761934</td>\n",
              "      <td>0.725000</td>\n",
              "    </tr>\n",
              "    <tr>\n",
              "      <th>10</th>\n",
              "      <td>DecisionTreeClassifier</td>\n",
              "      <td>0.7242</td>\n",
              "      <td>0.7150</td>\n",
              "      <td>0.723054</td>\n",
              "      <td>0.715000</td>\n",
              "    </tr>\n",
              "  </tbody>\n",
              "</table>\n",
              "</div>"
            ],
            "text/plain": [
              "                      MLA Name  MLA Train Accuracy  ...  MLA Precission  MLA Recall\n",
              "9                          SVC              0.9817  ...        0.919741    0.918333\n",
              "2   GradientBoostingClassifier              0.9946  ...        0.906602    0.905000\n",
              "4                XGBClassifier              0.9846  ...        0.906297    0.905000\n",
              "8         KNeighborsClassifier              0.9392  ...        0.905208    0.903333\n",
              "5         LogisticRegressionCV              0.9204  ...        0.850251    0.850000\n",
              "1            BaggingClassifier              0.9958  ...        0.837245    0.833333\n",
              "3       RandomForestClassifier              0.8550  ...        0.830594    0.828333\n",
              "6                  BernoulliNB              0.8550  ...        0.820045    0.816667\n",
              "0           AdaBoostClassifier              0.8796  ...        0.807494    0.806667\n",
              "7                   GaussianNB              0.7467  ...        0.761934    0.725000\n",
              "10      DecisionTreeClassifier              0.7242  ...        0.723054    0.715000\n",
              "\n",
              "[11 rows x 5 columns]"
            ]
          },
          "metadata": {
            "tags": []
          },
          "execution_count": 121
        }
      ]
    },
    {
      "cell_type": "code",
      "metadata": {
        "colab": {
          "base_uri": "https://localhost:8080/",
          "height": 527
        },
        "id": "NMjouVqb51Kj",
        "outputId": "60c9bfac-9bd7-43fe-dea1-7418a8d3fbff"
      },
      "source": [
        "plot_MLA(MLA_compare)"
      ],
      "execution_count": null,
      "outputs": [
        {
          "output_type": "display_data",
          "data": {
            "image/png": "[encoded data removed]",
            "text/plain": [
              "<Figure size 1080x432 with 1 Axes>"
            ]
          },
          "metadata": {
            "tags": [],
            "needs_background": "light"
          }
        }
      ]
    },
    {
      "cell_type": "code",
      "metadata": {
        "colab": {
          "base_uri": "https://localhost:8080/"
        },
        "id": "6l9P1f_M51Kk",
        "outputId": "1cb9b43b-46fc-4b95-a99d-bd68229ef105"
      },
      "source": [
        "print('Number of data in training :', len(x_train))\r\n",
        "print('Number of data in test :', len(x_test))"
      ],
      "execution_count": null,
      "outputs": [
        {
          "output_type": "stream",
          "text": [
            "Number of data in training : 1200\n",
            "Number of data in test : 300\n"
          ],
          "name": "stdout"
        }
      ]
    },
    {
      "cell_type": "markdown",
      "metadata": {
        "id": "BL0u_kHrVhyR"
      },
      "source": [
        "### Parameter Tuning for knn and SVC"
      ]
    },
    {
      "cell_type": "markdown",
      "metadata": {
        "id": "uSMZID-CZAq4"
      },
      "source": [
        "#### knn"
      ]
    },
    {
      "cell_type": "code",
      "metadata": {
        "colab": {
          "base_uri": "https://localhost:8080/"
        },
        "id": "WjKLH8r6V9xF",
        "outputId": "6f723545-923b-42dd-f25b-1673974bf2e5"
      },
      "source": [
        "param_grid = [{'n_neighbors': [3, 5, 10,15,20,30] }]\r\n",
        "grid_search_knn = GridSearchCV(neighbors.KNeighborsClassifier(), param_grid, cv=5, verbose=3)\r\n",
        "grid_search_knn.fit(x_train, y_train)"
      ],
      "execution_count": null,
      "outputs": [
        {
          "output_type": "stream",
          "text": [
            "Fitting 5 folds for each of 6 candidates, totalling 30 fits\n",
            "[CV] n_neighbors=3 ...................................................\n"
          ],
          "name": "stdout"
        },
        {
          "output_type": "stream",
          "text": [
            "[Parallel(n_jobs=1)]: Using backend SequentialBackend with 1 concurrent workers.\n"
          ],
          "name": "stderr"
        },
        {
          "output_type": "stream",
          "text": [
            "[CV] ....................... n_neighbors=3, score=0.892, total=   0.3s\n",
            "[CV] n_neighbors=3 ...................................................\n"
          ],
          "name": "stdout"
        },
        {
          "output_type": "stream",
          "text": [
            "[Parallel(n_jobs=1)]: Done   1 out of   1 | elapsed:    0.3s remaining:    0.0s\n"
          ],
          "name": "stderr"
        },
        {
          "output_type": "stream",
          "text": [
            "[CV] ....................... n_neighbors=3, score=0.871, total=   0.3s\n",
            "[CV] n_neighbors=3 ...................................................\n"
          ],
          "name": "stdout"
        },
        {
          "output_type": "stream",
          "text": [
            "[Parallel(n_jobs=1)]: Done   2 out of   2 | elapsed:    0.7s remaining:    0.0s\n"
          ],
          "name": "stderr"
        },
        {
          "output_type": "stream",
          "text": [
            "[CV] ....................... n_neighbors=3, score=0.879, total=   0.3s\n",
            "[CV] n_neighbors=3 ...................................................\n",
            "[CV] ....................... n_neighbors=3, score=0.896, total=   0.3s\n",
            "[CV] n_neighbors=3 ...................................................\n",
            "[CV] ....................... n_neighbors=3, score=0.908, total=   0.3s\n",
            "[CV] n_neighbors=5 ...................................................\n",
            "[CV] ....................... n_neighbors=5, score=0.900, total=   0.3s\n",
            "[CV] n_neighbors=5 ...................................................\n",
            "[CV] ....................... n_neighbors=5, score=0.908, total=   0.3s\n",
            "[CV] n_neighbors=5 ...................................................\n",
            "[CV] ....................... n_neighbors=5, score=0.863, total=   0.3s\n",
            "[CV] n_neighbors=5 ...................................................\n",
            "[CV] ....................... n_neighbors=5, score=0.912, total=   0.3s\n",
            "[CV] n_neighbors=5 ...................................................\n",
            "[CV] ....................... n_neighbors=5, score=0.904, total=   0.3s\n",
            "[CV] n_neighbors=10 ..................................................\n",
            "[CV] ...................... n_neighbors=10, score=0.904, total=   0.3s\n",
            "[CV] n_neighbors=10 ..................................................\n",
            "[CV] ...................... n_neighbors=10, score=0.900, total=   0.3s\n",
            "[CV] n_neighbors=10 ..................................................\n",
            "[CV] ...................... n_neighbors=10, score=0.871, total=   0.3s\n",
            "[CV] n_neighbors=10 ..................................................\n",
            "[CV] ...................... n_neighbors=10, score=0.896, total=   0.3s\n",
            "[CV] n_neighbors=10 ..................................................\n",
            "[CV] ...................... n_neighbors=10, score=0.917, total=   0.3s\n",
            "[CV] n_neighbors=15 ..................................................\n",
            "[CV] ...................... n_neighbors=15, score=0.887, total=   0.3s\n",
            "[CV] n_neighbors=15 ..................................................\n",
            "[CV] ...................... n_neighbors=15, score=0.887, total=   0.3s\n",
            "[CV] n_neighbors=15 ..................................................\n",
            "[CV] ...................... n_neighbors=15, score=0.854, total=   0.3s\n",
            "[CV] n_neighbors=15 ..................................................\n",
            "[CV] ...................... n_neighbors=15, score=0.908, total=   0.3s\n",
            "[CV] n_neighbors=15 ..................................................\n",
            "[CV] ...................... n_neighbors=15, score=0.908, total=   0.3s\n",
            "[CV] n_neighbors=20 ..................................................\n",
            "[CV] ...................... n_neighbors=20, score=0.892, total=   0.3s\n",
            "[CV] n_neighbors=20 ..................................................\n",
            "[CV] ...................... n_neighbors=20, score=0.875, total=   0.3s\n",
            "[CV] n_neighbors=20 ..................................................\n",
            "[CV] ...................... n_neighbors=20, score=0.850, total=   0.3s\n",
            "[CV] n_neighbors=20 ..................................................\n",
            "[CV] ...................... n_neighbors=20, score=0.900, total=   0.3s\n",
            "[CV] n_neighbors=20 ..................................................\n",
            "[CV] ...................... n_neighbors=20, score=0.900, total=   0.3s\n",
            "[CV] n_neighbors=30 ..................................................\n",
            "[CV] ...................... n_neighbors=30, score=0.879, total=   0.3s\n",
            "[CV] n_neighbors=30 ..................................................\n",
            "[CV] ...................... n_neighbors=30, score=0.875, total=   0.3s\n",
            "[CV] n_neighbors=30 ..................................................\n",
            "[CV] ...................... n_neighbors=30, score=0.833, total=   0.3s\n",
            "[CV] n_neighbors=30 ..................................................\n",
            "[CV] ...................... n_neighbors=30, score=0.896, total=   0.3s\n",
            "[CV] n_neighbors=30 ..................................................\n",
            "[CV] ...................... n_neighbors=30, score=0.875, total=   0.3s\n"
          ],
          "name": "stdout"
        },
        {
          "output_type": "stream",
          "text": [
            "[Parallel(n_jobs=1)]: Done  30 out of  30 | elapsed:   10.1s finished\n"
          ],
          "name": "stderr"
        },
        {
          "output_type": "execute_result",
          "data": {
            "text/plain": [
              "GridSearchCV(cv=5, error_score=nan,\n",
              "             estimator=KNeighborsClassifier(algorithm='auto', leaf_size=30,\n",
              "                                            metric='minkowski',\n",
              "                                            metric_params=None, n_jobs=None,\n",
              "                                            n_neighbors=5, p=2,\n",
              "                                            weights='uniform'),\n",
              "             iid='deprecated', n_jobs=None,\n",
              "             param_grid=[{'n_neighbors': [3, 5, 10, 15, 20, 30]}],\n",
              "             pre_dispatch='2*n_jobs', refit=True, return_train_score=False,\n",
              "             scoring=None, verbose=3)"
            ]
          },
          "metadata": {
            "tags": []
          },
          "execution_count": 144
        }
      ]
    },
    {
      "cell_type": "code",
      "metadata": {
        "colab": {
          "base_uri": "https://localhost:8080/"
        },
        "id": "4gqKhN6-XJZf",
        "outputId": "f0ea3873-fe26-4919-b60e-437a4eaaddf6"
      },
      "source": [
        "grid_search_knn.best_params_"
      ],
      "execution_count": null,
      "outputs": [
        {
          "output_type": "execute_result",
          "data": {
            "text/plain": [
              "{'n_neighbors': 5}"
            ]
          },
          "metadata": {
            "tags": []
          },
          "execution_count": 145
        }
      ]
    },
    {
      "cell_type": "code",
      "metadata": {
        "colab": {
          "base_uri": "https://localhost:8080/"
        },
        "id": "QvION0InXMU-",
        "outputId": "6f3ec899-78e3-46da-a199-54997157f28e"
      },
      "source": [
        "grid_search_knn.best_score_"
      ],
      "execution_count": null,
      "outputs": [
        {
          "output_type": "execute_result",
          "data": {
            "text/plain": [
              "0.8975"
            ]
          },
          "metadata": {
            "tags": []
          },
          "execution_count": 146
        }
      ]
    },
    {
      "cell_type": "code",
      "metadata": {
        "id": "aKj1qxJHX3rW"
      },
      "source": [
        "grid_predictions = grid_search_knn.best_estimator_.predict(x_test) "
      ],
      "execution_count": null,
      "outputs": []
    },
    {
      "cell_type": "code",
      "metadata": {
        "colab": {
          "base_uri": "https://localhost:8080/"
        },
        "id": "ygesHWh0_SDN",
        "outputId": "a5dd13e3-35ea-4ba8-c0df-2ce75d840dfb"
      },
      "source": [
        "round(grid_search_knn.best_estimator_.score(x_test,y_test) , 4)"
      ],
      "execution_count": null,
      "outputs": [
        {
          "output_type": "execute_result",
          "data": {
            "text/plain": [
              "0.88"
            ]
          },
          "metadata": {
            "tags": []
          },
          "execution_count": 148
        }
      ]
    },
    {
      "cell_type": "code",
      "metadata": {
        "id": "tlyvVjWp2EYV"
      },
      "source": [
        "knn_tuned = grid_search_knn.best_estimator_"
      ],
      "execution_count": null,
      "outputs": []
    },
    {
      "cell_type": "code",
      "metadata": {
        "colab": {
          "base_uri": "https://localhost:8080/"
        },
        "id": "_Lir-Hz2X5Nn",
        "outputId": "fcf4c42d-adaf-4a6c-9ae2-5916db69076b"
      },
      "source": [
        "print(classification_report(y_test, grid_predictions)) "
      ],
      "execution_count": null,
      "outputs": [
        {
          "output_type": "stream",
          "text": [
            "              precision    recall  f1-score   support\n",
            "\n",
            "         0.0       0.94      0.79      0.86       100\n",
            "         1.0       0.81      0.96      0.88       100\n",
            "         2.0       0.91      0.89      0.90       100\n",
            "\n",
            "    accuracy                           0.88       300\n",
            "   macro avg       0.89      0.88      0.88       300\n",
            "weighted avg       0.89      0.88      0.88       300\n",
            "\n"
          ],
          "name": "stdout"
        }
      ]
    },
    {
      "cell_type": "markdown",
      "metadata": {
        "id": "gWpHsBGYXp4J"
      },
      "source": [
        "#### SVC"
      ]
    },
    {
      "cell_type": "code",
      "metadata": {
        "colab": {
          "base_uri": "https://localhost:8080/",
          "height": 437
        },
        "id": "qqtHYuWvXrTk",
        "outputId": "57c23579-3da8-45af-c97d-9e05cf6eb459"
      },
      "source": [
        "param_grid = {'C': [0.1, 1, 10],  \r\n",
        "              'gamma': ['scale', 1, 0.1, 0.01], \r\n",
        "              'kernel': ['rbf']}  \r\n",
        "  \r\n",
        "grid_search_svc = GridSearchCV(svm.SVC(probability=True), param_grid, refit = True, verbose = 3) \r\n",
        "grid_search_svc.fit(x_train, y_train)"
      ],
      "execution_count": null,
      "outputs": [
        {
          "output_type": "stream",
          "text": [
            "Fitting 5 folds for each of 12 candidates, totalling 60 fits\n",
            "[CV] C=0.1, gamma=scale, kernel=rbf ..................................\n"
          ],
          "name": "stdout"
        },
        {
          "output_type": "stream",
          "text": [
            "[Parallel(n_jobs=1)]: Using backend SequentialBackend with 1 concurrent workers.\n"
          ],
          "name": "stderr"
        },
        {
          "output_type": "error",
          "ename": "KeyboardInterrupt",
          "evalue": "ignored",
          "traceback": [
            "\u001b[0;31m---------------------------------------------------------------------------\u001b[0m",
            "\u001b[0;31mKeyboardInterrupt\u001b[0m                         Traceback (most recent call last)",
            "\u001b[0;32m<ipython-input-151-3420cb0b8dd0>\u001b[0m in \u001b[0;36m<module>\u001b[0;34m()\u001b[0m\n\u001b[1;32m      4\u001b[0m \u001b[0;34m\u001b[0m\u001b[0m\n\u001b[1;32m      5\u001b[0m \u001b[0mgrid_search_svc\u001b[0m \u001b[0;34m=\u001b[0m \u001b[0mGridSearchCV\u001b[0m\u001b[0;34m(\u001b[0m\u001b[0msvm\u001b[0m\u001b[0;34m.\u001b[0m\u001b[0mSVC\u001b[0m\u001b[0;34m(\u001b[0m\u001b[0mprobability\u001b[0m\u001b[0;34m=\u001b[0m\u001b[0;32mTrue\u001b[0m\u001b[0;34m)\u001b[0m\u001b[0;34m,\u001b[0m \u001b[0mparam_grid\u001b[0m\u001b[0;34m,\u001b[0m \u001b[0mrefit\u001b[0m \u001b[0;34m=\u001b[0m \u001b[0;32mTrue\u001b[0m\u001b[0;34m,\u001b[0m \u001b[0mverbose\u001b[0m \u001b[0;34m=\u001b[0m \u001b[0;36m3\u001b[0m\u001b[0;34m)\u001b[0m\u001b[0;34m\u001b[0m\u001b[0;34m\u001b[0m\u001b[0m\n\u001b[0;32m----> 6\u001b[0;31m \u001b[0mgrid_search_svc\u001b[0m\u001b[0;34m.\u001b[0m\u001b[0mfit\u001b[0m\u001b[0;34m(\u001b[0m\u001b[0mx_train\u001b[0m\u001b[0;34m,\u001b[0m \u001b[0my_train\u001b[0m\u001b[0;34m)\u001b[0m\u001b[0;34m\u001b[0m\u001b[0;34m\u001b[0m\u001b[0m\n\u001b[0m",
            "\u001b[0;32m/usr/local/lib/python3.6/dist-packages/sklearn/model_selection/_search.py\u001b[0m in \u001b[0;36mfit\u001b[0;34m(self, X, y, groups, **fit_params)\u001b[0m\n\u001b[1;32m    708\u001b[0m                 \u001b[0;32mreturn\u001b[0m \u001b[0mresults\u001b[0m\u001b[0;34m\u001b[0m\u001b[0;34m\u001b[0m\u001b[0m\n\u001b[1;32m    709\u001b[0m \u001b[0;34m\u001b[0m\u001b[0m\n\u001b[0;32m--> 710\u001b[0;31m             \u001b[0mself\u001b[0m\u001b[0;34m.\u001b[0m\u001b[0m_run_search\u001b[0m\u001b[0;34m(\u001b[0m\u001b[0mevaluate_candidates\u001b[0m\u001b[0;34m)\u001b[0m\u001b[0;34m\u001b[0m\u001b[0;34m\u001b[0m\u001b[0m\n\u001b[0m\u001b[1;32m    711\u001b[0m \u001b[0;34m\u001b[0m\u001b[0m\n\u001b[1;32m    712\u001b[0m         \u001b[0;31m# For multi-metric evaluation, store the best_index_, best_params_ and\u001b[0m\u001b[0;34m\u001b[0m\u001b[0;34m\u001b[0m\u001b[0;34m\u001b[0m\u001b[0m\n",
            "\u001b[0;32m/usr/local/lib/python3.6/dist-packages/sklearn/model_selection/_search.py\u001b[0m in \u001b[0;36m_run_search\u001b[0;34m(self, evaluate_candidates)\u001b[0m\n\u001b[1;32m   1149\u001b[0m     \u001b[0;32mdef\u001b[0m \u001b[0m_run_search\u001b[0m\u001b[0;34m(\u001b[0m\u001b[0mself\u001b[0m\u001b[0;34m,\u001b[0m \u001b[0mevaluate_candidates\u001b[0m\u001b[0;34m)\u001b[0m\u001b[0;34m:\u001b[0m\u001b[0;34m\u001b[0m\u001b[0;34m\u001b[0m\u001b[0m\n\u001b[1;32m   1150\u001b[0m         \u001b[0;34m\"\"\"Search all candidates in param_grid\"\"\"\u001b[0m\u001b[0;34m\u001b[0m\u001b[0;34m\u001b[0m\u001b[0m\n\u001b[0;32m-> 1151\u001b[0;31m         \u001b[0mevaluate_candidates\u001b[0m\u001b[0;34m(\u001b[0m\u001b[0mParameterGrid\u001b[0m\u001b[0;34m(\u001b[0m\u001b[0mself\u001b[0m\u001b[0;34m.\u001b[0m\u001b[0mparam_grid\u001b[0m\u001b[0;34m)\u001b[0m\u001b[0;34m)\u001b[0m\u001b[0;34m\u001b[0m\u001b[0;34m\u001b[0m\u001b[0m\n\u001b[0m\u001b[1;32m   1152\u001b[0m \u001b[0;34m\u001b[0m\u001b[0m\n\u001b[1;32m   1153\u001b[0m \u001b[0;34m\u001b[0m\u001b[0m\n",
            "\u001b[0;32m/usr/local/lib/python3.6/dist-packages/sklearn/model_selection/_search.py\u001b[0m in \u001b[0;36mevaluate_candidates\u001b[0;34m(candidate_params)\u001b[0m\n\u001b[1;32m    687\u001b[0m                                \u001b[0;32mfor\u001b[0m \u001b[0mparameters\u001b[0m\u001b[0;34m,\u001b[0m \u001b[0;34m(\u001b[0m\u001b[0mtrain\u001b[0m\u001b[0;34m,\u001b[0m \u001b[0mtest\u001b[0m\u001b[0;34m)\u001b[0m\u001b[0;34m\u001b[0m\u001b[0;34m\u001b[0m\u001b[0m\n\u001b[1;32m    688\u001b[0m                                in product(candidate_params,\n\u001b[0;32m--> 689\u001b[0;31m                                           cv.split(X, y, groups)))\n\u001b[0m\u001b[1;32m    690\u001b[0m \u001b[0;34m\u001b[0m\u001b[0m\n\u001b[1;32m    691\u001b[0m                 \u001b[0;32mif\u001b[0m \u001b[0mlen\u001b[0m\u001b[0;34m(\u001b[0m\u001b[0mout\u001b[0m\u001b[0;34m)\u001b[0m \u001b[0;34m<\u001b[0m \u001b[0;36m1\u001b[0m\u001b[0;34m:\u001b[0m\u001b[0;34m\u001b[0m\u001b[0;34m\u001b[0m\u001b[0m\n",
            "\u001b[0;32m/usr/local/lib/python3.6/dist-packages/joblib/parallel.py\u001b[0m in \u001b[0;36m__call__\u001b[0;34m(self, iterable)\u001b[0m\n\u001b[1;32m   1039\u001b[0m             \u001b[0;31m# remaining jobs.\u001b[0m\u001b[0;34m\u001b[0m\u001b[0;34m\u001b[0m\u001b[0;34m\u001b[0m\u001b[0m\n\u001b[1;32m   1040\u001b[0m             \u001b[0mself\u001b[0m\u001b[0;34m.\u001b[0m\u001b[0m_iterating\u001b[0m \u001b[0;34m=\u001b[0m \u001b[0;32mFalse\u001b[0m\u001b[0;34m\u001b[0m\u001b[0;34m\u001b[0m\u001b[0m\n\u001b[0;32m-> 1041\u001b[0;31m             \u001b[0;32mif\u001b[0m \u001b[0mself\u001b[0m\u001b[0;34m.\u001b[0m\u001b[0mdispatch_one_batch\u001b[0m\u001b[0;34m(\u001b[0m\u001b[0miterator\u001b[0m\u001b[0;34m)\u001b[0m\u001b[0;34m:\u001b[0m\u001b[0;34m\u001b[0m\u001b[0;34m\u001b[0m\u001b[0m\n\u001b[0m\u001b[1;32m   1042\u001b[0m                 \u001b[0mself\u001b[0m\u001b[0;34m.\u001b[0m\u001b[0m_iterating\u001b[0m \u001b[0;34m=\u001b[0m \u001b[0mself\u001b[0m\u001b[0;34m.\u001b[0m\u001b[0m_original_iterator\u001b[0m \u001b[0;32mis\u001b[0m \u001b[0;32mnot\u001b[0m \u001b[0;32mNone\u001b[0m\u001b[0;34m\u001b[0m\u001b[0;34m\u001b[0m\u001b[0m\n\u001b[1;32m   1043\u001b[0m \u001b[0;34m\u001b[0m\u001b[0m\n",
            "\u001b[0;32m/usr/local/lib/python3.6/dist-packages/joblib/parallel.py\u001b[0m in \u001b[0;36mdispatch_one_batch\u001b[0;34m(self, iterator)\u001b[0m\n\u001b[1;32m    857\u001b[0m                 \u001b[0;32mreturn\u001b[0m \u001b[0;32mFalse\u001b[0m\u001b[0;34m\u001b[0m\u001b[0;34m\u001b[0m\u001b[0m\n\u001b[1;32m    858\u001b[0m             \u001b[0;32melse\u001b[0m\u001b[0;34m:\u001b[0m\u001b[0;34m\u001b[0m\u001b[0;34m\u001b[0m\u001b[0m\n\u001b[0;32m--> 859\u001b[0;31m                 \u001b[0mself\u001b[0m\u001b[0;34m.\u001b[0m\u001b[0m_dispatch\u001b[0m\u001b[0;34m(\u001b[0m\u001b[0mtasks\u001b[0m\u001b[0;34m)\u001b[0m\u001b[0;34m\u001b[0m\u001b[0;34m\u001b[0m\u001b[0m\n\u001b[0m\u001b[1;32m    860\u001b[0m                 \u001b[0;32mreturn\u001b[0m \u001b[0;32mTrue\u001b[0m\u001b[0;34m\u001b[0m\u001b[0;34m\u001b[0m\u001b[0m\n\u001b[1;32m    861\u001b[0m \u001b[0;34m\u001b[0m\u001b[0m\n",
            "\u001b[0;32m/usr/local/lib/python3.6/dist-packages/joblib/parallel.py\u001b[0m in \u001b[0;36m_dispatch\u001b[0;34m(self, batch)\u001b[0m\n\u001b[1;32m    775\u001b[0m         \u001b[0;32mwith\u001b[0m \u001b[0mself\u001b[0m\u001b[0;34m.\u001b[0m\u001b[0m_lock\u001b[0m\u001b[0;34m:\u001b[0m\u001b[0;34m\u001b[0m\u001b[0;34m\u001b[0m\u001b[0m\n\u001b[1;32m    776\u001b[0m             \u001b[0mjob_idx\u001b[0m \u001b[0;34m=\u001b[0m \u001b[0mlen\u001b[0m\u001b[0;34m(\u001b[0m\u001b[0mself\u001b[0m\u001b[0;34m.\u001b[0m\u001b[0m_jobs\u001b[0m\u001b[0;34m)\u001b[0m\u001b[0;34m\u001b[0m\u001b[0;34m\u001b[0m\u001b[0m\n\u001b[0;32m--> 777\u001b[0;31m             \u001b[0mjob\u001b[0m \u001b[0;34m=\u001b[0m \u001b[0mself\u001b[0m\u001b[0;34m.\u001b[0m\u001b[0m_backend\u001b[0m\u001b[0;34m.\u001b[0m\u001b[0mapply_async\u001b[0m\u001b[0;34m(\u001b[0m\u001b[0mbatch\u001b[0m\u001b[0;34m,\u001b[0m \u001b[0mcallback\u001b[0m\u001b[0;34m=\u001b[0m\u001b[0mcb\u001b[0m\u001b[0;34m)\u001b[0m\u001b[0;34m\u001b[0m\u001b[0;34m\u001b[0m\u001b[0m\n\u001b[0m\u001b[1;32m    778\u001b[0m             \u001b[0;31m# A job can complete so quickly than its callback is\u001b[0m\u001b[0;34m\u001b[0m\u001b[0;34m\u001b[0m\u001b[0;34m\u001b[0m\u001b[0m\n\u001b[1;32m    779\u001b[0m             \u001b[0;31m# called before we get here, causing self._jobs to\u001b[0m\u001b[0;34m\u001b[0m\u001b[0;34m\u001b[0m\u001b[0;34m\u001b[0m\u001b[0m\n",
            "\u001b[0;32m/usr/local/lib/python3.6/dist-packages/joblib/_parallel_backends.py\u001b[0m in \u001b[0;36mapply_async\u001b[0;34m(self, func, callback)\u001b[0m\n\u001b[1;32m    206\u001b[0m     \u001b[0;32mdef\u001b[0m \u001b[0mapply_async\u001b[0m\u001b[0;34m(\u001b[0m\u001b[0mself\u001b[0m\u001b[0;34m,\u001b[0m \u001b[0mfunc\u001b[0m\u001b[0;34m,\u001b[0m \u001b[0mcallback\u001b[0m\u001b[0;34m=\u001b[0m\u001b[0;32mNone\u001b[0m\u001b[0;34m)\u001b[0m\u001b[0;34m:\u001b[0m\u001b[0;34m\u001b[0m\u001b[0;34m\u001b[0m\u001b[0m\n\u001b[1;32m    207\u001b[0m         \u001b[0;34m\"\"\"Schedule a func to be run\"\"\"\u001b[0m\u001b[0;34m\u001b[0m\u001b[0;34m\u001b[0m\u001b[0m\n\u001b[0;32m--> 208\u001b[0;31m         \u001b[0mresult\u001b[0m \u001b[0;34m=\u001b[0m \u001b[0mImmediateResult\u001b[0m\u001b[0;34m(\u001b[0m\u001b[0mfunc\u001b[0m\u001b[0;34m)\u001b[0m\u001b[0;34m\u001b[0m\u001b[0;34m\u001b[0m\u001b[0m\n\u001b[0m\u001b[1;32m    209\u001b[0m         \u001b[0;32mif\u001b[0m \u001b[0mcallback\u001b[0m\u001b[0;34m:\u001b[0m\u001b[0;34m\u001b[0m\u001b[0;34m\u001b[0m\u001b[0m\n\u001b[1;32m    210\u001b[0m             \u001b[0mcallback\u001b[0m\u001b[0;34m(\u001b[0m\u001b[0mresult\u001b[0m\u001b[0;34m)\u001b[0m\u001b[0;34m\u001b[0m\u001b[0;34m\u001b[0m\u001b[0m\n",
            "\u001b[0;32m/usr/local/lib/python3.6/dist-packages/joblib/_parallel_backends.py\u001b[0m in \u001b[0;36m__init__\u001b[0;34m(self, batch)\u001b[0m\n\u001b[1;32m    570\u001b[0m         \u001b[0;31m# Don't delay the application, to avoid keeping the input\u001b[0m\u001b[0;34m\u001b[0m\u001b[0;34m\u001b[0m\u001b[0;34m\u001b[0m\u001b[0m\n\u001b[1;32m    571\u001b[0m         \u001b[0;31m# arguments in memory\u001b[0m\u001b[0;34m\u001b[0m\u001b[0;34m\u001b[0m\u001b[0;34m\u001b[0m\u001b[0m\n\u001b[0;32m--> 572\u001b[0;31m         \u001b[0mself\u001b[0m\u001b[0;34m.\u001b[0m\u001b[0mresults\u001b[0m \u001b[0;34m=\u001b[0m \u001b[0mbatch\u001b[0m\u001b[0;34m(\u001b[0m\u001b[0;34m)\u001b[0m\u001b[0;34m\u001b[0m\u001b[0;34m\u001b[0m\u001b[0m\n\u001b[0m\u001b[1;32m    573\u001b[0m \u001b[0;34m\u001b[0m\u001b[0m\n\u001b[1;32m    574\u001b[0m     \u001b[0;32mdef\u001b[0m \u001b[0mget\u001b[0m\u001b[0;34m(\u001b[0m\u001b[0mself\u001b[0m\u001b[0;34m)\u001b[0m\u001b[0;34m:\u001b[0m\u001b[0;34m\u001b[0m\u001b[0;34m\u001b[0m\u001b[0m\n",
            "\u001b[0;32m/usr/local/lib/python3.6/dist-packages/joblib/parallel.py\u001b[0m in \u001b[0;36m__call__\u001b[0;34m(self)\u001b[0m\n\u001b[1;32m    261\u001b[0m         \u001b[0;32mwith\u001b[0m \u001b[0mparallel_backend\u001b[0m\u001b[0;34m(\u001b[0m\u001b[0mself\u001b[0m\u001b[0;34m.\u001b[0m\u001b[0m_backend\u001b[0m\u001b[0;34m,\u001b[0m \u001b[0mn_jobs\u001b[0m\u001b[0;34m=\u001b[0m\u001b[0mself\u001b[0m\u001b[0;34m.\u001b[0m\u001b[0m_n_jobs\u001b[0m\u001b[0;34m)\u001b[0m\u001b[0;34m:\u001b[0m\u001b[0;34m\u001b[0m\u001b[0;34m\u001b[0m\u001b[0m\n\u001b[1;32m    262\u001b[0m             return [func(*args, **kwargs)\n\u001b[0;32m--> 263\u001b[0;31m                     for func, args, kwargs in self.items]\n\u001b[0m\u001b[1;32m    264\u001b[0m \u001b[0;34m\u001b[0m\u001b[0m\n\u001b[1;32m    265\u001b[0m     \u001b[0;32mdef\u001b[0m \u001b[0m__reduce__\u001b[0m\u001b[0;34m(\u001b[0m\u001b[0mself\u001b[0m\u001b[0;34m)\u001b[0m\u001b[0;34m:\u001b[0m\u001b[0;34m\u001b[0m\u001b[0;34m\u001b[0m\u001b[0m\n",
            "\u001b[0;32m/usr/local/lib/python3.6/dist-packages/joblib/parallel.py\u001b[0m in \u001b[0;36m<listcomp>\u001b[0;34m(.0)\u001b[0m\n\u001b[1;32m    261\u001b[0m         \u001b[0;32mwith\u001b[0m \u001b[0mparallel_backend\u001b[0m\u001b[0;34m(\u001b[0m\u001b[0mself\u001b[0m\u001b[0;34m.\u001b[0m\u001b[0m_backend\u001b[0m\u001b[0;34m,\u001b[0m \u001b[0mn_jobs\u001b[0m\u001b[0;34m=\u001b[0m\u001b[0mself\u001b[0m\u001b[0;34m.\u001b[0m\u001b[0m_n_jobs\u001b[0m\u001b[0;34m)\u001b[0m\u001b[0;34m:\u001b[0m\u001b[0;34m\u001b[0m\u001b[0;34m\u001b[0m\u001b[0m\n\u001b[1;32m    262\u001b[0m             return [func(*args, **kwargs)\n\u001b[0;32m--> 263\u001b[0;31m                     for func, args, kwargs in self.items]\n\u001b[0m\u001b[1;32m    264\u001b[0m \u001b[0;34m\u001b[0m\u001b[0m\n\u001b[1;32m    265\u001b[0m     \u001b[0;32mdef\u001b[0m \u001b[0m__reduce__\u001b[0m\u001b[0;34m(\u001b[0m\u001b[0mself\u001b[0m\u001b[0;34m)\u001b[0m\u001b[0;34m:\u001b[0m\u001b[0;34m\u001b[0m\u001b[0;34m\u001b[0m\u001b[0m\n",
            "\u001b[0;32m/usr/local/lib/python3.6/dist-packages/sklearn/model_selection/_validation.py\u001b[0m in \u001b[0;36m_fit_and_score\u001b[0;34m(estimator, X, y, scorer, train, test, verbose, parameters, fit_params, return_train_score, return_parameters, return_n_test_samples, return_times, return_estimator, error_score)\u001b[0m\n\u001b[1;32m    513\u001b[0m             \u001b[0mestimator\u001b[0m\u001b[0;34m.\u001b[0m\u001b[0mfit\u001b[0m\u001b[0;34m(\u001b[0m\u001b[0mX_train\u001b[0m\u001b[0;34m,\u001b[0m \u001b[0;34m**\u001b[0m\u001b[0mfit_params\u001b[0m\u001b[0;34m)\u001b[0m\u001b[0;34m\u001b[0m\u001b[0;34m\u001b[0m\u001b[0m\n\u001b[1;32m    514\u001b[0m         \u001b[0;32melse\u001b[0m\u001b[0;34m:\u001b[0m\u001b[0;34m\u001b[0m\u001b[0;34m\u001b[0m\u001b[0m\n\u001b[0;32m--> 515\u001b[0;31m             \u001b[0mestimator\u001b[0m\u001b[0;34m.\u001b[0m\u001b[0mfit\u001b[0m\u001b[0;34m(\u001b[0m\u001b[0mX_train\u001b[0m\u001b[0;34m,\u001b[0m \u001b[0my_train\u001b[0m\u001b[0;34m,\u001b[0m \u001b[0;34m**\u001b[0m\u001b[0mfit_params\u001b[0m\u001b[0;34m)\u001b[0m\u001b[0;34m\u001b[0m\u001b[0;34m\u001b[0m\u001b[0m\n\u001b[0m\u001b[1;32m    516\u001b[0m \u001b[0;34m\u001b[0m\u001b[0m\n\u001b[1;32m    517\u001b[0m     \u001b[0;32mexcept\u001b[0m \u001b[0mException\u001b[0m \u001b[0;32mas\u001b[0m \u001b[0me\u001b[0m\u001b[0;34m:\u001b[0m\u001b[0;34m\u001b[0m\u001b[0;34m\u001b[0m\u001b[0m\n",
            "\u001b[0;32m/usr/local/lib/python3.6/dist-packages/sklearn/svm/_base.py\u001b[0m in \u001b[0;36mfit\u001b[0;34m(self, X, y, sample_weight)\u001b[0m\n\u001b[1;32m    197\u001b[0m \u001b[0;34m\u001b[0m\u001b[0m\n\u001b[1;32m    198\u001b[0m         \u001b[0mseed\u001b[0m \u001b[0;34m=\u001b[0m \u001b[0mrnd\u001b[0m\u001b[0;34m.\u001b[0m\u001b[0mrandint\u001b[0m\u001b[0;34m(\u001b[0m\u001b[0mnp\u001b[0m\u001b[0;34m.\u001b[0m\u001b[0miinfo\u001b[0m\u001b[0;34m(\u001b[0m\u001b[0;34m'i'\u001b[0m\u001b[0;34m)\u001b[0m\u001b[0;34m.\u001b[0m\u001b[0mmax\u001b[0m\u001b[0;34m)\u001b[0m\u001b[0;34m\u001b[0m\u001b[0;34m\u001b[0m\u001b[0m\n\u001b[0;32m--> 199\u001b[0;31m         \u001b[0mfit\u001b[0m\u001b[0;34m(\u001b[0m\u001b[0mX\u001b[0m\u001b[0;34m,\u001b[0m \u001b[0my\u001b[0m\u001b[0;34m,\u001b[0m \u001b[0msample_weight\u001b[0m\u001b[0;34m,\u001b[0m \u001b[0msolver_type\u001b[0m\u001b[0;34m,\u001b[0m \u001b[0mkernel\u001b[0m\u001b[0;34m,\u001b[0m \u001b[0mrandom_seed\u001b[0m\u001b[0;34m=\u001b[0m\u001b[0mseed\u001b[0m\u001b[0;34m)\u001b[0m\u001b[0;34m\u001b[0m\u001b[0;34m\u001b[0m\u001b[0m\n\u001b[0m\u001b[1;32m    200\u001b[0m         \u001b[0;31m# see comment on the other call to np.iinfo in this file\u001b[0m\u001b[0;34m\u001b[0m\u001b[0;34m\u001b[0m\u001b[0;34m\u001b[0m\u001b[0m\n\u001b[1;32m    201\u001b[0m \u001b[0;34m\u001b[0m\u001b[0m\n",
            "\u001b[0;32m/usr/local/lib/python3.6/dist-packages/sklearn/svm/_base.py\u001b[0m in \u001b[0;36m_dense_fit\u001b[0;34m(self, X, y, sample_weight, solver_type, kernel, random_seed)\u001b[0m\n\u001b[1;32m    256\u001b[0m                 \u001b[0mcache_size\u001b[0m\u001b[0;34m=\u001b[0m\u001b[0mself\u001b[0m\u001b[0;34m.\u001b[0m\u001b[0mcache_size\u001b[0m\u001b[0;34m,\u001b[0m \u001b[0mcoef0\u001b[0m\u001b[0;34m=\u001b[0m\u001b[0mself\u001b[0m\u001b[0;34m.\u001b[0m\u001b[0mcoef0\u001b[0m\u001b[0;34m,\u001b[0m\u001b[0;34m\u001b[0m\u001b[0;34m\u001b[0m\u001b[0m\n\u001b[1;32m    257\u001b[0m                 \u001b[0mgamma\u001b[0m\u001b[0;34m=\u001b[0m\u001b[0mself\u001b[0m\u001b[0;34m.\u001b[0m\u001b[0m_gamma\u001b[0m\u001b[0;34m,\u001b[0m \u001b[0mepsilon\u001b[0m\u001b[0;34m=\u001b[0m\u001b[0mself\u001b[0m\u001b[0;34m.\u001b[0m\u001b[0mepsilon\u001b[0m\u001b[0;34m,\u001b[0m\u001b[0;34m\u001b[0m\u001b[0;34m\u001b[0m\u001b[0m\n\u001b[0;32m--> 258\u001b[0;31m                 max_iter=self.max_iter, random_seed=random_seed)\n\u001b[0m\u001b[1;32m    259\u001b[0m \u001b[0;34m\u001b[0m\u001b[0m\n\u001b[1;32m    260\u001b[0m         \u001b[0mself\u001b[0m\u001b[0;34m.\u001b[0m\u001b[0m_warn_from_fit_status\u001b[0m\u001b[0;34m(\u001b[0m\u001b[0;34m)\u001b[0m\u001b[0;34m\u001b[0m\u001b[0;34m\u001b[0m\u001b[0m\n",
            "\u001b[0;31mKeyboardInterrupt\u001b[0m: "
          ]
        }
      ]
    },
    {
      "cell_type": "code",
      "metadata": {
        "id": "uTFM2ipNYbB7"
      },
      "source": [
        "grid_search_svc.best_params_"
      ],
      "execution_count": null,
      "outputs": []
    },
    {
      "cell_type": "code",
      "metadata": {
        "id": "622IALRsYbB7"
      },
      "source": [
        "grid_search_svc.best_score_"
      ],
      "execution_count": null,
      "outputs": []
    },
    {
      "cell_type": "code",
      "metadata": {
        "id": "gOILONCiYbB8"
      },
      "source": [
        "grid_predictions = grid_search_svc.predict(x_test) "
      ],
      "execution_count": null,
      "outputs": []
    },
    {
      "cell_type": "code",
      "metadata": {
        "id": "FKEIgdgS6MPC"
      },
      "source": [
        "svc_tuned = grid_search_svc.best_estimator_"
      ],
      "execution_count": null,
      "outputs": []
    },
    {
      "cell_type": "code",
      "metadata": {
        "id": "g6eR2pDi6chn"
      },
      "source": [
        "svc_tuned"
      ],
      "execution_count": null,
      "outputs": []
    },
    {
      "cell_type": "code",
      "metadata": {
        "id": "hgh4xMLgYbB9"
      },
      "source": [
        "print(classification_report(y_test, grid_predictions)) "
      ],
      "execution_count": null,
      "outputs": []
    },
    {
      "cell_type": "markdown",
      "metadata": {
        "id": "JiuNbP0nh0wJ"
      },
      "source": [
        "### Ensemble Learning (Soft Voting)"
      ]
    },
    {
      "cell_type": "markdown",
      "metadata": {
        "id": "zlGMVrNQ67wZ"
      },
      "source": [
        "Replace knn and svc with their fine-tuned versions"
      ]
    },
    {
      "cell_type": "code",
      "metadata": {
        "id": "o7hqUWiA0voK"
      },
      "source": [
        "for n, i in enumerate(MLA):\r\n",
        "  if i.__class__.__name__ == 'KNeighborsClassifier':\r\n",
        "    MLA[n] = knn_tuned\r\n",
        " # elif i.__class__.__name__ == 'SVC':\r\n",
        "   # MLA[n] = svc_tuned"
      ],
      "execution_count": null,
      "outputs": []
    },
    {
      "cell_type": "markdown",
      "metadata": {
        "id": "fpDXvOzS7Oqo"
      },
      "source": [
        "Get the best performing 5 models"
      ]
    },
    {
      "cell_type": "code",
      "metadata": {
        "id": "hf3cdWDnkI9e"
      },
      "source": [
        "best5 = MLA_compare.index[0:5]"
      ],
      "execution_count": null,
      "outputs": []
    },
    {
      "cell_type": "markdown",
      "metadata": {
        "id": "Rov1mPc97SSb"
      },
      "source": [
        "Combine them using soft voting"
      ]
    },
    {
      "cell_type": "code",
      "metadata": {
        "id": "2TVif8uDYk_y"
      },
      "source": [
        "voting_clf = VotingClassifier(estimators = [('1',MLA[best5[0]]),\r\n",
        "                                            ('2',MLA[best5[1]]),\r\n",
        "                                            ('3',MLA[best5[2]]),\r\n",
        "                                            ('4',MLA[best5[3]]),\r\n",
        "                                            ('5',MLA[best5[4]])], \r\n",
        "                              voting = 'soft') \r\n",
        "voting_clf.fit(x_train,y_train)\r\n",
        "y_pred = voting_clf.predict(x_test)"
      ],
      "execution_count": null,
      "outputs": []
    },
    {
      "cell_type": "code",
      "metadata": {
        "colab": {
          "base_uri": "https://localhost:8080/"
        },
        "id": "HniKgzM8o-vQ",
        "outputId": "ade98b1e-03a1-457e-94f1-df4d22956594"
      },
      "source": [
        "print(classification_report(y_test, y_pred)) "
      ],
      "execution_count": null,
      "outputs": [
        {
          "output_type": "stream",
          "text": [
            "              precision    recall  f1-score   support\n",
            "\n",
            "         0.0       0.90      0.84      0.87       100\n",
            "         1.0       0.89      0.93      0.91       100\n",
            "         2.0       0.89      0.91      0.90       100\n",
            "\n",
            "    accuracy                           0.89       300\n",
            "   macro avg       0.89      0.89      0.89       300\n",
            "weighted avg       0.89      0.89      0.89       300\n",
            "\n"
          ],
          "name": "stdout"
        }
      ]
    },
    {
      "cell_type": "markdown",
      "metadata": {
        "id": "o1yr0DUY_3NI"
      },
      "source": [
        "### 3rd Scenario (13 classes, 500 sample)"
      ]
    },
    {
      "cell_type": "code",
      "metadata": {
        "id": "1o242EvA_3NI"
      },
      "source": [
        "N = 500 # Number of samples"
      ],
      "execution_count": null,
      "outputs": []
    },
    {
      "cell_type": "markdown",
      "metadata": {
        "id": "kVUnqCtX_3NJ"
      },
      "source": [
        "#### Load & Prepare Data"
      ]
    },
    {
      "cell_type": "markdown",
      "metadata": {
        "id": "LpIgiEyv_3NJ"
      },
      "source": [
        "##### Load"
      ]
    },
    {
      "cell_type": "code",
      "metadata": {
        "id": "lx0gmcNUACaR"
      },
      "source": [
        "#'cow',\"lobster\",\"panda\"\r\n",
        "classes = [\"bear\", \"bird\", \"dog\",\"camel\", \"dolphin\",\"snake\",\"snail\",\"swan\",\"zebra\",'cat',\"giraffe\",\"octopus\", \"fish\"]"
      ],
      "execution_count": null,
      "outputs": []
    },
    {
      "cell_type": "code",
      "metadata": {
        "colab": {
          "base_uri": "https://localhost:8080/"
        },
        "id": "-AsJO629ACaS",
        "outputId": "102d6b06-90e5-497c-ba63-974b768d20ba"
      },
      "source": [
        "# create lists for data files and objects in the same order\n",
        "os.chdir('/content/data')\n",
        "files=[]\n",
        "objects=[]\n",
        "for file in glob.glob(\"*.npy\"):\n",
        "  if file.split('.')[0] in classes:\n",
        "    objects.append(file.split('.')[0])\n",
        "    files.append(file)\n",
        "print(objects)\n",
        "print(files)"
      ],
      "execution_count": null,
      "outputs": [
        {
          "output_type": "stream",
          "text": [
            "['giraffe', 'dog', 'bear', 'cat', 'octopus', 'fish', 'dolphin', 'snake', 'swan', 'snail', 'camel', 'bird', 'zebra']\n",
            "['giraffe.npy', 'dog.npy', 'bear.npy', 'cat.npy', 'octopus.npy', 'fish.npy', 'dolphin.npy', 'snake.npy', 'swan.npy', 'snail.npy', 'camel.npy', 'bird.npy', 'zebra.npy']\n"
          ],
          "name": "stdout"
        }
      ]
    },
    {
      "cell_type": "code",
      "metadata": {
        "colab": {
          "base_uri": "https://localhost:8080/"
        },
        "id": "A-OLEqFi_3NL",
        "outputId": "0a7096e0-1bc1-4127-cf24-ee7fc243e17a"
      },
      "source": [
        "enum=enumerate(objects)\n",
        "DRAWINGS=dict((i,j) for i,j in enum)\n",
        "print(DRAWINGS)\n",
        "N_Drawings=len(objects)\n",
        "\n",
        "d_x = []\n",
        "d_y = []\n",
        "\n",
        "for i in range(len(files)): \n",
        "  d = np.load('/content/data/'+files[i])\n",
        "  c = 0\n",
        "  for j in d:\n",
        "    if c<N:\n",
        "      c+=1\n",
        "      d_x.append(j)\n",
        "      d_y.append(i)\n"
      ],
      "execution_count": null,
      "outputs": [
        {
          "output_type": "stream",
          "text": [
            "{0: 'giraffe', 1: 'dog', 2: 'bear', 3: 'cat', 4: 'octopus', 5: 'fish', 6: 'dolphin', 7: 'snake', 8: 'swan', 9: 'snail', 10: 'camel', 11: 'bird', 12: 'zebra'}\n"
          ],
          "name": "stdout"
        }
      ]
    },
    {
      "cell_type": "markdown",
      "metadata": {
        "id": "v222GKWh_3NL"
      },
      "source": [
        "##### Normalizing Features"
      ]
    },
    {
      "cell_type": "code",
      "metadata": {
        "id": "1kvk_fq6_3NL"
      },
      "source": [
        "from keras.utils import to_categorical\r\n",
        "\r\n",
        "d_x = np.array(d_x).astype('float32')\r\n",
        "d_y = np.array(d_y).astype('float32')\r\n",
        "\r\n",
        "d_x = d_x/255\r\n"
      ],
      "execution_count": null,
      "outputs": []
    },
    {
      "cell_type": "code",
      "metadata": {
        "colab": {
          "base_uri": "https://localhost:8080/"
        },
        "id": "grq6n1_W_3NL",
        "outputId": "ce7b9825-ea41-4541-d060-24e605f8468e"
      },
      "source": [
        "print('Shape of X: ', d_x.shape)\r\n",
        "print('Shape of y: ', d_y.shape)"
      ],
      "execution_count": null,
      "outputs": [
        {
          "output_type": "stream",
          "text": [
            "Shape of X:  (6500, 784)\n",
            "Shape of y:  (6500,)\n"
          ],
          "name": "stdout"
        }
      ]
    },
    {
      "cell_type": "markdown",
      "metadata": {
        "id": "MAW3b2_h_3NM"
      },
      "source": [
        "##### Prepare Training and Test data"
      ]
    },
    {
      "cell_type": "code",
      "metadata": {
        "id": "n7w8BKxa_3NM"
      },
      "source": [
        "x_train, x_test, y_train, y_test = train_test_split(d_x, d_y,stratify=d_y, test_size=0.2)"
      ],
      "execution_count": null,
      "outputs": []
    },
    {
      "cell_type": "markdown",
      "metadata": {
        "id": "Me4fZHaE_3NM"
      },
      "source": [
        "#### Train ML Models"
      ]
    },
    {
      "cell_type": "code",
      "metadata": {
        "colab": {
          "base_uri": "https://localhost:8080/"
        },
        "id": "T6pJ3Nca_3NM",
        "outputId": "36b0b597-be2a-4371-f428-7563278a7056"
      },
      "source": [
        "MLA = initializeMLA()\r\n",
        "MLA_compare = train_MLA_return_result(MLA)"
      ],
      "execution_count": null,
      "outputs": [
        {
          "output_type": "stream",
          "text": [
            "AdaBoostClassifier(algorithm='SAMME.R', base_estimator=None, learning_rate=1.0,\n",
            "                   n_estimators=50, random_state=None)\n",
            "BaggingClassifier(base_estimator=None, bootstrap=True, bootstrap_features=False,\n",
            "                  max_features=1.0, max_samples=1.0, n_estimators=10,\n",
            "                  n_jobs=None, oob_score=False, random_state=None, verbose=0,\n",
            "                  warm_start=False)\n",
            "GradientBoostingClassifier(ccp_alpha=0.0, criterion='friedman_mse', init=None,\n",
            "                           learning_rate=0.1, loss='deviance', max_depth=3,\n",
            "                           max_features=None, max_leaf_nodes=None,\n",
            "                           min_impurity_decrease=0.0, min_impurity_split=None,\n",
            "                           min_samples_leaf=1, min_samples_split=2,\n",
            "                           min_weight_fraction_leaf=0.0, n_estimators=100,\n",
            "                           n_iter_no_change=None, presort='deprecated',\n",
            "                           random_state=None, subsample=1.0, tol=0.0001,\n",
            "                           validation_fraction=0.1, verbose=0,\n",
            "                           warm_start=False)\n",
            "RandomForestClassifier(bootstrap=True, ccp_alpha=0.0, class_weight=None,\n",
            "                       criterion='gini', max_depth=3, max_features='auto',\n",
            "                       max_leaf_nodes=None, max_samples=None,\n",
            "                       min_impurity_decrease=0.0, min_impurity_split=None,\n",
            "                       min_samples_leaf=1, min_samples_split=2,\n",
            "                       min_weight_fraction_leaf=0.0, n_estimators=100,\n",
            "                       n_jobs=None, oob_score=False, random_state=None,\n",
            "                       verbose=0, warm_start=False)\n",
            "XGBClassifier(base_score=0.5, booster='gbtree', colsample_bylevel=1,\n",
            "              colsample_bynode=1, colsample_bytree=1, gamma=0,\n",
            "              learning_rate=0.1, max_delta_step=0, max_depth=3,\n",
            "              min_child_weight=1, missing=None, n_estimators=100, n_jobs=1,\n",
            "              nthread=None, objective='binary:logistic', random_state=0,\n",
            "              reg_alpha=0, reg_lambda=1, scale_pos_weight=1, seed=None,\n",
            "              silent=None, subsample=1, verbosity=1)\n",
            "LogisticRegressionCV(Cs=10, class_weight=None, cv=None, dual=False,\n",
            "                     fit_intercept=True, intercept_scaling=1.0, l1_ratios=None,\n",
            "                     max_iter=100, multi_class='auto', n_jobs=None,\n",
            "                     penalty='l2', random_state=None, refit=True, scoring=None,\n",
            "                     solver='lbfgs', tol=0.0001, verbose=0)\n",
            "BernoulliNB(alpha=1.0, binarize=0.0, class_prior=None, fit_prior=True)\n",
            "GaussianNB(priors=None, var_smoothing=1e-09)\n",
            "KNeighborsClassifier(algorithm='auto', leaf_size=30, metric='minkowski',\n",
            "                     metric_params=None, n_jobs=None, n_neighbors=5, p=2,\n",
            "                     weights='uniform')\n",
            "SVC(C=1.0, break_ties=False, cache_size=200, class_weight=None, coef0=0.0,\n",
            "    decision_function_shape='ovr', degree=3, gamma='scale', kernel='rbf',\n",
            "    max_iter=-1, probability=True, random_state=None, shrinking=True, tol=0.001,\n",
            "    verbose=False)\n",
            "DecisionTreeClassifier(ccp_alpha=0.0, class_weight=None, criterion='gini',\n",
            "                       max_depth=3, max_features=None, max_leaf_nodes=None,\n",
            "                       min_impurity_decrease=0.0, min_impurity_split=None,\n",
            "                       min_samples_leaf=1, min_samples_split=2,\n",
            "                       min_weight_fraction_leaf=0.0, presort='deprecated',\n",
            "                       random_state=None, splitter='best')\n"
          ],
          "name": "stdout"
        }
      ]
    },
    {
      "cell_type": "markdown",
      "metadata": {
        "id": "4ZNUZPnb_3NO"
      },
      "source": [
        "#### Results"
      ]
    },
    {
      "cell_type": "code",
      "metadata": {
        "colab": {
          "base_uri": "https://localhost:8080/"
        },
        "id": "S69TX-TH_3NP",
        "outputId": "fbe173cf-cde6-49f0-d616-4e426052412a"
      },
      "source": [
        "MLA_compare"
      ],
      "execution_count": null,
      "outputs": [
        {
          "output_type": "execute_result",
          "data": {
            "text/html": [
              "<div>\n",
              "<style scoped>\n",
              "    .dataframe tbody tr th:only-of-type {\n",
              "        vertical-align: middle;\n",
              "    }\n",
              "\n",
              "    .dataframe tbody tr th {\n",
              "        vertical-align: top;\n",
              "    }\n",
              "\n",
              "    .dataframe thead th {\n",
              "        text-align: right;\n",
              "    }\n",
              "</style>\n",
              "<table border=\"1\" class=\"dataframe\">\n",
              "  <thead>\n",
              "    <tr style=\"text-align: right;\">\n",
              "      <th></th>\n",
              "      <th>MLA Name</th>\n",
              "      <th>MLA Train Accuracy</th>\n",
              "      <th>MLA Test Accuracy</th>\n",
              "      <th>MLA Precission</th>\n",
              "      <th>MLA Recall</th>\n",
              "    </tr>\n",
              "  </thead>\n",
              "  <tbody>\n",
              "    <tr>\n",
              "      <th>9</th>\n",
              "      <td>SVC</td>\n",
              "      <td>0.8738</td>\n",
              "      <td>0.6331</td>\n",
              "      <td>0.627202</td>\n",
              "      <td>0.633077</td>\n",
              "    </tr>\n",
              "    <tr>\n",
              "      <th>8</th>\n",
              "      <td>KNeighborsClassifier</td>\n",
              "      <td>0.7067</td>\n",
              "      <td>0.5900</td>\n",
              "      <td>0.603588</td>\n",
              "      <td>0.590000</td>\n",
              "    </tr>\n",
              "    <tr>\n",
              "      <th>4</th>\n",
              "      <td>XGBClassifier</td>\n",
              "      <td>0.8352</td>\n",
              "      <td>0.5685</td>\n",
              "      <td>0.552950</td>\n",
              "      <td>0.568462</td>\n",
              "    </tr>\n",
              "    <tr>\n",
              "      <th>2</th>\n",
              "      <td>GradientBoostingClassifier</td>\n",
              "      <td>0.9363</td>\n",
              "      <td>0.5654</td>\n",
              "      <td>0.552431</td>\n",
              "      <td>0.565385</td>\n",
              "    </tr>\n",
              "    <tr>\n",
              "      <th>5</th>\n",
              "      <td>LogisticRegressionCV</td>\n",
              "      <td>0.5935</td>\n",
              "      <td>0.5454</td>\n",
              "      <td>0.531705</td>\n",
              "      <td>0.545385</td>\n",
              "    </tr>\n",
              "    <tr>\n",
              "      <th>6</th>\n",
              "      <td>BernoulliNB</td>\n",
              "      <td>0.4787</td>\n",
              "      <td>0.4992</td>\n",
              "      <td>0.488227</td>\n",
              "      <td>0.499231</td>\n",
              "    </tr>\n",
              "    <tr>\n",
              "      <th>1</th>\n",
              "      <td>BaggingClassifier</td>\n",
              "      <td>0.9958</td>\n",
              "      <td>0.4685</td>\n",
              "      <td>0.467290</td>\n",
              "      <td>0.468462</td>\n",
              "    </tr>\n",
              "    <tr>\n",
              "      <th>3</th>\n",
              "      <td>RandomForestClassifier</td>\n",
              "      <td>0.4179</td>\n",
              "      <td>0.3969</td>\n",
              "      <td>0.358504</td>\n",
              "      <td>0.396923</td>\n",
              "    </tr>\n",
              "    <tr>\n",
              "      <th>0</th>\n",
              "      <td>AdaBoostClassifier</td>\n",
              "      <td>0.3813</td>\n",
              "      <td>0.3923</td>\n",
              "      <td>0.374835</td>\n",
              "      <td>0.392308</td>\n",
              "    </tr>\n",
              "    <tr>\n",
              "      <th>7</th>\n",
              "      <td>GaussianNB</td>\n",
              "      <td>0.2460</td>\n",
              "      <td>0.2462</td>\n",
              "      <td>0.432418</td>\n",
              "      <td>0.246154</td>\n",
              "    </tr>\n",
              "    <tr>\n",
              "      <th>10</th>\n",
              "      <td>DecisionTreeClassifier</td>\n",
              "      <td>0.2438</td>\n",
              "      <td>0.2446</td>\n",
              "      <td>0.170587</td>\n",
              "      <td>0.244615</td>\n",
              "    </tr>\n",
              "  </tbody>\n",
              "</table>\n",
              "</div>"
            ],
            "text/plain": [
              "                      MLA Name  MLA Train Accuracy  ...  MLA Precission  MLA Recall\n",
              "9                          SVC              0.8738  ...        0.627202    0.633077\n",
              "8         KNeighborsClassifier              0.7067  ...        0.603588    0.590000\n",
              "4                XGBClassifier              0.8352  ...        0.552950    0.568462\n",
              "2   GradientBoostingClassifier              0.9363  ...        0.552431    0.565385\n",
              "5         LogisticRegressionCV              0.5935  ...        0.531705    0.545385\n",
              "6                  BernoulliNB              0.4787  ...        0.488227    0.499231\n",
              "1            BaggingClassifier              0.9958  ...        0.467290    0.468462\n",
              "3       RandomForestClassifier              0.4179  ...        0.358504    0.396923\n",
              "0           AdaBoostClassifier              0.3813  ...        0.374835    0.392308\n",
              "7                   GaussianNB              0.2460  ...        0.432418    0.246154\n",
              "10      DecisionTreeClassifier              0.2438  ...        0.170587    0.244615\n",
              "\n",
              "[11 rows x 5 columns]"
            ]
          },
          "metadata": {
            "tags": []
          },
          "execution_count": 534
        }
      ]
    },
    {
      "cell_type": "code",
      "metadata": {
        "colab": {
          "base_uri": "https://localhost:8080/"
        },
        "id": "EoES9GJP_3NP",
        "outputId": "1714fd09-b674-471c-fce1-17129fcc57e3"
      },
      "source": [
        "plot_MLA(MLA_compare)"
      ],
      "execution_count": null,
      "outputs": [
        {
          "output_type": "display_data",
          "data": {
            "image/png": "[encoded data removed]",
            "text/plain": [
              "<Figure size 1080x432 with 1 Axes>"
            ]
          },
          "metadata": {
            "tags": [],
            "needs_background": "light"
          }
        }
      ]
    },
    {
      "cell_type": "markdown",
      "metadata": {
        "id": "pxPqFz2kZPMp"
      },
      "source": [
        "## CNN (lenet-5)"
      ]
    },
    {
      "cell_type": "markdown",
      "metadata": {
        "id": "MY81JM3bEphY"
      },
      "source": [
        "### Explanation of Lenet"
      ]
    },
    {
      "cell_type": "markdown",
      "metadata": {
        "id": "eiI0UJttSeCK"
      },
      "source": [
        "LeNet-5 CNN architecture is made up of 7 layers. The layer composition consists of 3 convolutional layers, 2 subsampling layers and 2 fully connected layers. Original paper can be found in http://vision.stanford.edu/cs598_spring07/papers/Lecun98.pdf"
      ]
    },
    {
      "cell_type": "markdown",
      "metadata": {
        "id": "FJiLmLR8SOvz"
      },
      "source": [
        "![image.png](data:image/png;base64,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)"
      ]
    },
    {
      "cell_type": "markdown",
      "metadata": {
        "id": "pJWoP-GqTmkw"
      },
      "source": [
        "![0 yHGxDUeL-QAMd_DP.png](data:image/png;base64,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)"
      ]
    },
    {
      "cell_type": "markdown",
      "metadata": {
        "id": "usb4khpTSfjl"
      },
      "source": [
        "\"The first layer is the input layer — this is generally not considered a layer of the network as nothing is learnt in this layer. The input layer is built to take in 32x32, and these are the dimensions of images that are passed into the next layer. Those who are familiar with the MNIST dataset will be aware that the MNIST dataset images have the dimensions 28x28. To get the MNIST images dimension to the meet the requirements of the input layer, the 28x28 images are padded.\" Taken from\r\n",
        "https://towardsdatascience.com/understanding-and-implementing-lenet-5-cnn-architecture-deep-learning-a2d531ebc342"
      ]
    },
    {
      "cell_type": "markdown",
      "metadata": {
        "id": "d70OyqvPqx65"
      },
      "source": [
        "![image.png](data:image/png;base64,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)"
      ]
    },
    {
      "cell_type": "markdown",
      "metadata": {
        "id": "GqkdkaCyq0s-"
      },
      "source": [
        "The dimensions and the number of parameters can be seen in the table above. In total there are **59663** paremeters to learn"
      ]
    },
    {
      "cell_type": "markdown",
      "metadata": {
        "id": "sqNzsBqDD9os"
      },
      "source": [
        "### Define Functions"
      ]
    },
    {
      "cell_type": "code",
      "metadata": {
        "id": "wmboWxoQM7sf"
      },
      "source": [
        "from keras.optimizers import Adam\r\n",
        "from keras.callbacks import EarlyStopping\r\n",
        "\r\n",
        "\r\n",
        "\r\n",
        "es = EarlyStopping(monitor='val_loss', patience=5, \\\r\n",
        "                   verbose=1, mode='min', restore_best_weights=True)\r\n",
        "\r\n"
      ],
      "execution_count": null,
      "outputs": []
    },
    {
      "cell_type": "code",
      "metadata": {
        "id": "YvquzI7wA6LD"
      },
      "source": [
        "# A function to fit CNN models to train data and print the observed result on test data\r\n",
        "def compile_train_result(model):\r\n",
        "  model.compile(loss='categorical_crossentropy',\r\n",
        "                optimizer='adam',\r\n",
        "                metrics=['accuracy'])\r\n",
        "\r\n",
        "  # train\r\n",
        "  model.fit(np.array(x_train), np.array(y_train), batch_size=256, validation_split=0.2,epochs=N_EPOCHS,callbacks=[es],verbose=1)\r\n",
        "  \r\n",
        "  best_epoch = np.argmin(model.history.history['val_loss'])+1\r\n",
        "  \r\n",
        "  model = lenet5_v2_initialize()\r\n",
        "  model.compile(loss='categorical_crossentropy',\r\n",
        "                optimizer='adam',\r\n",
        "                metrics=['accuracy'])\r\n",
        "\r\n",
        "  model.fit(np.array(x_train), np.array(y_train), batch_size=256 ,epochs=best_epoch,verbose=1)\r\n",
        "\r\n",
        "  print (\"Training complete\")\r\n",
        "\r\n",
        "  print (\"Evaluating model\")\r\n",
        "  preds = model.predict(np.array(x_test))\r\n",
        "\r\n",
        "  score = 0\r\n",
        "  for i in range(len(preds)):\r\n",
        "      if np.argmax(preds[i]) == y_test[i]:\r\n",
        "          score += 1\r\n",
        "\r\n",
        "  print(\"Test Accuracy: \", ((score + 0.0) / len(preds)) * 100)\r\n",
        "def lenet5_v2_initialize():\r\n",
        "  lenet5_v2 = Sequential()\r\n",
        "  lenet5_v2.add(Conv2D(128, kernel_size=5, strides=1,  activation='relu', input_shape=(28,28,1), padding='same'))# C1\r\n",
        "  lenet5_v2.add(MaxPooling2D(pool_size=(2, 2)))\r\n",
        "  lenet5_v2.add(Conv2D(16, kernel_size=5, strides=1, activation='relu', padding='valid'))\r\n",
        "  lenet5_v2.add(MaxPooling2D(pool_size=(2, 2)))\r\n",
        "  lenet5_v2.add(Dropout(0.25))\r\n",
        "  lenet5_v2.add(Flatten())\r\n",
        "  lenet5_v2.add(Dense(120, activation='relu'))\r\n",
        "  lenet5_v2.add(Dropout(0.2))\r\n",
        "  lenet5_v2.add(Dense(84, activation='relu'))\r\n",
        "  lenet5_v2.add(Dense(N_Drawings, activation='softmax'))\r\n",
        "  return lenet5_v2"
      ],
      "execution_count": null,
      "outputs": []
    },
    {
      "cell_type": "markdown",
      "metadata": {
        "id": "E1RRjZIwBsUA"
      },
      "source": [
        "### 3 classes 500 sample"
      ]
    },
    {
      "cell_type": "code",
      "metadata": {
        "id": "d8b-6wlyG4bN"
      },
      "source": [
        "N = 500 # samples for each class\r\n"
      ],
      "execution_count": null,
      "outputs": []
    },
    {
      "cell_type": "markdown",
      "metadata": {
        "id": "bmfnraCRG18b"
      },
      "source": [
        "#### Load & Prepare Data"
      ]
    },
    {
      "cell_type": "markdown",
      "metadata": {
        "id": "vKjvAJ88HGiR"
      },
      "source": [
        "##### Load"
      ]
    },
    {
      "cell_type": "code",
      "metadata": {
        "id": "uhuP0RcUBm2o"
      },
      "source": [
        "files = ['bear.npy', 'giraffe.npy', 'octopus.npy']\r\n",
        "objects = ['bear', 'giraffe', 'octopus']\r\n",
        "for c in objects:\r\n",
        "  if c+'.npy' not in glob.glob(\"*.npy\"):\r\n",
        "    os.system('wget https://storage.googleapis.com/quickdraw_dataset/full/numpy_bitmap/%s.npy'%c)"
      ],
      "execution_count": null,
      "outputs": []
    },
    {
      "cell_type": "code",
      "metadata": {
        "colab": {
          "base_uri": "https://localhost:8080/"
        },
        "id": "fQ2KZEhyBm2o",
        "outputId": "95e6b03f-a7e5-42ea-e312-76ed89844dbf"
      },
      "source": [
        "# try ML algortihms with 3 classes\n",
        "files=files[0:3]\n",
        "objects=objects[0:3]\n",
        "enum=enumerate(objects)\n",
        "DRAWINGS=dict((i,j) for i,j in enum)\n",
        "print(DRAWINGS)\n",
        "N_Drawings=len(objects)\n",
        "\n",
        "d_x = []\n",
        "d_y = []\n",
        "\n",
        "for i in range(len(files)): \n",
        "  d = np.load('/content/data/'+files[i])\n",
        "  c = 0\n",
        "  for j in d:\n",
        "    if c<N:\n",
        "      c+=1\n",
        "      d_x.append(j)\n",
        "      d_y.append(i)\n"
      ],
      "execution_count": null,
      "outputs": [
        {
          "output_type": "stream",
          "text": [
            "{0: 'bear', 1: 'giraffe', 2: 'octopus'}\n"
          ],
          "name": "stdout"
        }
      ]
    },
    {
      "cell_type": "markdown",
      "metadata": {
        "id": "PRqGtwLfAzyM"
      },
      "source": [
        "##### Prepare Data"
      ]
    },
    {
      "cell_type": "markdown",
      "metadata": {
        "id": "7UxUb7nCAzyM"
      },
      "source": [
        "**Preparing the Data**\r\n",
        "*   Normalized data by dividig it each pixel value by 255\r\n",
        "*   We dont have any missing data\r\n",
        "*   Applied one hot encoding for target labels(y_train, y_test) "
      ]
    },
    {
      "cell_type": "markdown",
      "metadata": {
        "id": "7kjogjglAzyM"
      },
      "source": [
        "##### Normalizing Features & One Hot Encoding of Labels"
      ]
    },
    {
      "cell_type": "code",
      "metadata": {
        "id": "YU_LRpaOAzyM"
      },
      "source": [
        "from keras.utils import to_categorical\r\n",
        "\r\n",
        "d_x = np.array(d_x).astype('float32')\r\n",
        "d_y = np.array(d_y).astype('float32')\r\n",
        "\r\n",
        "d_x = d_x/255\r\n"
      ],
      "execution_count": null,
      "outputs": []
    },
    {
      "cell_type": "code",
      "metadata": {
        "colab": {
          "base_uri": "https://localhost:8080/"
        },
        "id": "hJQt4LjNAzyO",
        "outputId": "83d6caaf-d922-4312-c4f1-ac0e6a307b8b"
      },
      "source": [
        "print('Shape of X: ', d_x.shape)\r\n",
        "print('Shape of y: ', d_y.shape)"
      ],
      "execution_count": null,
      "outputs": [
        {
          "output_type": "stream",
          "text": [
            "Shape of X:  (1500, 784)\n",
            "Shape of y:  (1500,)\n"
          ],
          "name": "stdout"
        }
      ]
    },
    {
      "cell_type": "markdown",
      "metadata": {
        "id": "OVt8bNM-wB3H"
      },
      "source": [
        "##### Adjust Shape"
      ]
    },
    {
      "cell_type": "code",
      "metadata": {
        "id": "k0TT5RhlwB3I"
      },
      "source": [
        "d_x=d_x.reshape(-1,28,28,1)"
      ],
      "execution_count": null,
      "outputs": []
    },
    {
      "cell_type": "markdown",
      "metadata": {
        "id": "q5a70BVjwB3I"
      },
      "source": [
        "##### Train test split"
      ]
    },
    {
      "cell_type": "code",
      "metadata": {
        "id": "R3wLZG6UwB3I"
      },
      "source": [
        "x_train, x_test, y_train, y_test = train_test_split(d_x, d_y,stratify=d_y, test_size=0.2)"
      ],
      "execution_count": null,
      "outputs": []
    },
    {
      "cell_type": "code",
      "metadata": {
        "id": "sVfZ3hEYGDWg"
      },
      "source": [
        "y_train = np_utils.to_categorical(y_train, N_Drawings)\r\n",
        "Y_test = np_utils.to_categorical(y_test, N_Drawings)"
      ],
      "execution_count": null,
      "outputs": []
    },
    {
      "cell_type": "code",
      "metadata": {
        "colab": {
          "base_uri": "https://localhost:8080/"
        },
        "id": "4OveBVX8wB3I",
        "outputId": "007e46b1-b328-457a-f564-c57305d3f40c"
      },
      "source": [
        "x_train.shape"
      ],
      "execution_count": null,
      "outputs": [
        {
          "output_type": "execute_result",
          "data": {
            "text/plain": [
              "(1200, 28, 28, 1)"
            ]
          },
          "metadata": {
            "tags": []
          },
          "execution_count": 41
        }
      ]
    },
    {
      "cell_type": "markdown",
      "metadata": {
        "id": "mVEozPJqCdEJ"
      },
      "source": [
        "#### Train Model"
      ]
    },
    {
      "cell_type": "code",
      "metadata": {
        "id": "r4pga6MgGok0"
      },
      "source": [
        "N_EPOCHS = 50\r\n",
        "N_Drawings = 3"
      ],
      "execution_count": null,
      "outputs": []
    },
    {
      "cell_type": "code",
      "metadata": {
        "id": "H5WlFflQCfBA"
      },
      "source": [
        "lenet5 = lenet5_v2_initialize()"
      ],
      "execution_count": null,
      "outputs": []
    },
    {
      "cell_type": "code",
      "metadata": {
        "colab": {
          "base_uri": "https://localhost:8080/"
        },
        "id": "yL_9qAjXCfBB",
        "outputId": "bfbce1e7-2c11-458d-f75d-72d7a28a1f55"
      },
      "source": [
        "compile_train_result(lenet5)"
      ],
      "execution_count": null,
      "outputs": [
        {
          "output_type": "stream",
          "text": [
            "Epoch 1/50\n",
            "4/4 [==============================] - 1s 77ms/step - loss: 1.0942 - accuracy: 0.3635 - val_loss: 1.0397 - val_accuracy: 0.3958\n",
            "Epoch 2/50\n",
            "4/4 [==============================] - 0s 29ms/step - loss: 1.0038 - accuracy: 0.5473 - val_loss: 0.7891 - val_accuracy: 0.8000\n",
            "Epoch 3/50\n",
            "4/4 [==============================] - 0s 30ms/step - loss: 0.7895 - accuracy: 0.6892 - val_loss: 0.5666 - val_accuracy: 0.7958\n",
            "Epoch 4/50\n",
            "4/4 [==============================] - 0s 27ms/step - loss: 0.6347 - accuracy: 0.7290 - val_loss: 0.4678 - val_accuracy: 0.8208\n",
            "Epoch 5/50\n",
            "4/4 [==============================] - 0s 29ms/step - loss: 0.4668 - accuracy: 0.8270 - val_loss: 0.4063 - val_accuracy: 0.8417\n",
            "Epoch 6/50\n",
            "4/4 [==============================] - 0s 28ms/step - loss: 0.4233 - accuracy: 0.8415 - val_loss: 0.3398 - val_accuracy: 0.8833\n",
            "Epoch 7/50\n",
            "4/4 [==============================] - 0s 27ms/step - loss: 0.3690 - accuracy: 0.8706 - val_loss: 0.3340 - val_accuracy: 0.9000\n",
            "Epoch 8/50\n",
            "4/4 [==============================] - 0s 27ms/step - loss: 0.2853 - accuracy: 0.9121 - val_loss: 0.3009 - val_accuracy: 0.8917\n",
            "Epoch 9/50\n",
            "4/4 [==============================] - 0s 26ms/step - loss: 0.2747 - accuracy: 0.9006 - val_loss: 0.3087 - val_accuracy: 0.8958\n",
            "Epoch 10/50\n",
            "4/4 [==============================] - 0s 26ms/step - loss: 0.2277 - accuracy: 0.9243 - val_loss: 0.3053 - val_accuracy: 0.9083\n",
            "Epoch 11/50\n",
            "4/4 [==============================] - 0s 25ms/step - loss: 0.2491 - accuracy: 0.9086 - val_loss: 0.2928 - val_accuracy: 0.9042\n",
            "Epoch 12/50\n",
            "4/4 [==============================] - 0s 25ms/step - loss: 0.2361 - accuracy: 0.9347 - val_loss: 0.3119 - val_accuracy: 0.9042\n",
            "Epoch 13/50\n",
            "4/4 [==============================] - 0s 25ms/step - loss: 0.2157 - accuracy: 0.9270 - val_loss: 0.2926 - val_accuracy: 0.9125\n",
            "Epoch 14/50\n",
            "4/4 [==============================] - 0s 25ms/step - loss: 0.1991 - accuracy: 0.9327 - val_loss: 0.3194 - val_accuracy: 0.8958\n",
            "Epoch 15/50\n",
            "4/4 [==============================] - 0s 25ms/step - loss: 0.1669 - accuracy: 0.9435 - val_loss: 0.2927 - val_accuracy: 0.9125\n",
            "Epoch 16/50\n",
            "4/4 [==============================] - 0s 26ms/step - loss: 0.1671 - accuracy: 0.9389 - val_loss: 0.3080 - val_accuracy: 0.9042\n",
            "Epoch 17/50\n",
            "4/4 [==============================] - 0s 27ms/step - loss: 0.1735 - accuracy: 0.9453 - val_loss: 0.2879 - val_accuracy: 0.9208\n",
            "Epoch 18/50\n",
            "4/4 [==============================] - 0s 27ms/step - loss: 0.1357 - accuracy: 0.9518 - val_loss: 0.2968 - val_accuracy: 0.9125\n",
            "Epoch 19/50\n",
            "4/4 [==============================] - 0s 26ms/step - loss: 0.1280 - accuracy: 0.9546 - val_loss: 0.2985 - val_accuracy: 0.9167\n",
            "Epoch 20/50\n",
            "4/4 [==============================] - 0s 24ms/step - loss: 0.1515 - accuracy: 0.9423 - val_loss: 0.2900 - val_accuracy: 0.9167\n",
            "Epoch 21/50\n",
            "4/4 [==============================] - 0s 67ms/step - loss: 0.1144 - accuracy: 0.9692 - val_loss: 0.3050 - val_accuracy: 0.9208\n",
            "Epoch 22/50\n",
            "4/4 [==============================] - 0s 25ms/step - loss: 0.1395 - accuracy: 0.9509 - val_loss: 0.2819 - val_accuracy: 0.9250\n",
            "Epoch 23/50\n",
            "4/4 [==============================] - 0s 27ms/step - loss: 0.1160 - accuracy: 0.9578 - val_loss: 0.2943 - val_accuracy: 0.9167\n",
            "Epoch 24/50\n",
            "4/4 [==============================] - 0s 26ms/step - loss: 0.1112 - accuracy: 0.9596 - val_loss: 0.3103 - val_accuracy: 0.9167\n",
            "Epoch 25/50\n",
            "4/4 [==============================] - 0s 26ms/step - loss: 0.1060 - accuracy: 0.9686 - val_loss: 0.3043 - val_accuracy: 0.9083\n",
            "Epoch 26/50\n",
            "4/4 [==============================] - 0s 27ms/step - loss: 0.1074 - accuracy: 0.9582 - val_loss: 0.3240 - val_accuracy: 0.9125\n",
            "Epoch 27/50\n",
            "4/4 [==============================] - 0s 25ms/step - loss: 0.0938 - accuracy: 0.9656 - val_loss: 0.2996 - val_accuracy: 0.9250\n",
            "Restoring model weights from the end of the best epoch.\n",
            "Epoch 00027: early stopping\n",
            "Epoch 1/22\n",
            "5/5 [==============================] - 1s 28ms/step - loss: 1.0802 - accuracy: 0.3936\n",
            "Epoch 2/22\n",
            "5/5 [==============================] - 0s 12ms/step - loss: 0.8896 - accuracy: 0.6429\n",
            "Epoch 3/22\n",
            "5/5 [==============================] - 0s 12ms/step - loss: 0.6625 - accuracy: 0.7294\n",
            "Epoch 4/22\n",
            "5/5 [==============================] - 0s 13ms/step - loss: 0.5210 - accuracy: 0.7990\n",
            "Epoch 5/22\n",
            "5/5 [==============================] - 0s 13ms/step - loss: 0.4134 - accuracy: 0.8579\n",
            "Epoch 6/22\n",
            "5/5 [==============================] - 0s 12ms/step - loss: 0.3795 - accuracy: 0.8649\n",
            "Epoch 7/22\n",
            "5/5 [==============================] - 0s 12ms/step - loss: 0.3145 - accuracy: 0.8907\n",
            "Epoch 8/22\n",
            "5/5 [==============================] - 0s 12ms/step - loss: 0.2878 - accuracy: 0.9127\n",
            "Epoch 9/22\n",
            "5/5 [==============================] - 0s 12ms/step - loss: 0.2636 - accuracy: 0.9108\n",
            "Epoch 10/22\n",
            "5/5 [==============================] - 0s 12ms/step - loss: 0.2564 - accuracy: 0.9104\n",
            "Epoch 11/22\n",
            "5/5 [==============================] - 0s 12ms/step - loss: 0.2147 - accuracy: 0.9310\n",
            "Epoch 12/22\n",
            "5/5 [==============================] - 0s 12ms/step - loss: 0.2094 - accuracy: 0.9299\n",
            "Epoch 13/22\n",
            "5/5 [==============================] - 0s 12ms/step - loss: 0.1911 - accuracy: 0.9343\n",
            "Epoch 14/22\n",
            "5/5 [==============================] - 0s 12ms/step - loss: 0.1876 - accuracy: 0.9437\n",
            "Epoch 15/22\n",
            "5/5 [==============================] - 0s 12ms/step - loss: 0.1996 - accuracy: 0.9332\n",
            "Epoch 16/22\n",
            "5/5 [==============================] - 0s 13ms/step - loss: 0.1670 - accuracy: 0.9408\n",
            "Epoch 17/22\n",
            "5/5 [==============================] - 0s 12ms/step - loss: 0.1597 - accuracy: 0.9511\n",
            "Epoch 18/22\n",
            "5/5 [==============================] - 0s 12ms/step - loss: 0.1569 - accuracy: 0.9514\n",
            "Epoch 19/22\n",
            "5/5 [==============================] - 0s 12ms/step - loss: 0.1302 - accuracy: 0.9613\n",
            "Epoch 20/22\n",
            "5/5 [==============================] - 0s 12ms/step - loss: 0.1281 - accuracy: 0.9597\n",
            "Epoch 21/22\n",
            "5/5 [==============================] - 0s 13ms/step - loss: 0.1316 - accuracy: 0.9563\n",
            "Epoch 22/22\n",
            "5/5 [==============================] - 0s 12ms/step - loss: 0.1244 - accuracy: 0.9521\n",
            "Training complete\n",
            "Evaluating model\n",
            "Test Accuracy:  94.33333333333334\n"
          ],
          "name": "stdout"
        }
      ]
    },
    {
      "cell_type": "markdown",
      "metadata": {
        "id": "fA3UweSBHp7g"
      },
      "source": [
        "### 13 classes 500 sample"
      ]
    },
    {
      "cell_type": "code",
      "metadata": {
        "id": "SuKQ1KdEHp7h"
      },
      "source": [
        "N = 500 # samples for each class"
      ],
      "execution_count": null,
      "outputs": []
    },
    {
      "cell_type": "markdown",
      "metadata": {
        "id": "N22FdGsxHp7h"
      },
      "source": [
        "#### Load & Prepare Data"
      ]
    },
    {
      "cell_type": "markdown",
      "metadata": {
        "id": "OdS7V2_9Hp7i"
      },
      "source": [
        "##### Load"
      ]
    },
    {
      "cell_type": "code",
      "metadata": {
        "id": "WHWSS1oKH0aO"
      },
      "source": [
        "#'cow',\"lobster\",\"panda\"\r\n",
        "classes = [\"bear\", \"bird\", \"dog\",\"camel\", \"dolphin\",\"snake\",\"snail\",\"swan\",\"zebra\",'cat',\"giraffe\",\"octopus\", \"fish\"]"
      ],
      "execution_count": null,
      "outputs": []
    },
    {
      "cell_type": "code",
      "metadata": {
        "colab": {
          "base_uri": "https://localhost:8080/"
        },
        "id": "NqTixGdxIIFd",
        "outputId": "f1f5d345-d277-48d3-a2fe-eba35a840773"
      },
      "source": [
        "# create lists for data files and objects in the same order\n",
        "os.chdir('/content/data')\n",
        "files=[]\n",
        "objects=[]\n",
        "for file in glob.glob(\"*.npy\"):\n",
        "  if file.split('.')[0] in classes:\n",
        "    objects.append(file.split('.')[0])\n",
        "    files.append(file)\n",
        "print(objects)\n",
        "print(files)"
      ],
      "execution_count": null,
      "outputs": [
        {
          "output_type": "stream",
          "text": [
            "['bear', 'swan', 'giraffe', 'dog', 'octopus', 'cat', 'camel', 'fish', 'zebra', 'bird', 'snake', 'dolphin', 'snail']\n",
            "['bear.npy', 'swan.npy', 'giraffe.npy', 'dog.npy', 'octopus.npy', 'cat.npy', 'camel.npy', 'fish.npy', 'zebra.npy', 'bird.npy', 'snake.npy', 'dolphin.npy', 'snail.npy']\n"
          ],
          "name": "stdout"
        }
      ]
    },
    {
      "cell_type": "code",
      "metadata": {
        "colab": {
          "base_uri": "https://localhost:8080/"
        },
        "id": "RX8xBdDDIIFe",
        "outputId": "76757162-488c-4561-d770-4775a8594615"
      },
      "source": [
        "enum=enumerate(objects)\r\n",
        "DRAWINGS=dict((i,j) for i,j in enum)\r\n",
        "print(DRAWINGS)"
      ],
      "execution_count": null,
      "outputs": [
        {
          "output_type": "stream",
          "text": [
            "{0: 'bear', 1: 'swan', 2: 'giraffe', 3: 'dog', 4: 'octopus', 5: 'cat', 6: 'camel', 7: 'fish', 8: 'zebra', 9: 'bird', 10: 'snake', 11: 'dolphin', 12: 'snail'}\n"
          ],
          "name": "stdout"
        }
      ]
    },
    {
      "cell_type": "code",
      "metadata": {
        "id": "TeihOpnXIIFe"
      },
      "source": [
        "d_x = []\r\n",
        "d_y = []\r\n",
        "\r\n",
        "for i in range(len(files)): \r\n",
        "  d = np.load('/content/data/'+files[i])\r\n",
        "  c = 0\r\n",
        "  for j in d:\r\n",
        "    if c<N:\r\n",
        "      c+=1\r\n",
        "      d_x.append(j)\r\n",
        "      d_y.append(i)\r\n"
      ],
      "execution_count": null,
      "outputs": []
    },
    {
      "cell_type": "code",
      "metadata": {
        "colab": {
          "base_uri": "https://localhost:8080/"
        },
        "id": "u5btC-gOIIFe",
        "outputId": "b71b4bad-d1b4-4a2a-dd60-fa9db2559336"
      },
      "source": [
        "print( 'Total number of samples: ', len(d_x))"
      ],
      "execution_count": null,
      "outputs": [
        {
          "output_type": "stream",
          "text": [
            "Total number of samples:  6500\n"
          ],
          "name": "stdout"
        }
      ]
    },
    {
      "cell_type": "markdown",
      "metadata": {
        "id": "PTAJNDy2Hp7j"
      },
      "source": [
        "##### Prepare Data"
      ]
    },
    {
      "cell_type": "markdown",
      "metadata": {
        "id": "LWSKl4XxHp7j"
      },
      "source": [
        "**Preparing the Data**\r\n",
        "*   Normalized data by dividig it each pixel value by 255\r\n",
        "*   We dont have any missing data\r\n",
        "*   Applied one hot encoding for target labels(y_train, y_test) "
      ]
    },
    {
      "cell_type": "markdown",
      "metadata": {
        "id": "IfW1eRT4Hp7k"
      },
      "source": [
        "##### Normalizing Features & One Hot Encoding of Labels"
      ]
    },
    {
      "cell_type": "code",
      "metadata": {
        "id": "byu_xrqcHp7k"
      },
      "source": [
        "from keras.utils import to_categorical\r\n",
        "\r\n",
        "d_x = np.array(d_x).astype('float32')\r\n",
        "d_y = np.array(d_y).astype('float32')\r\n",
        "\r\n",
        "d_x = d_x/255\r\n"
      ],
      "execution_count": null,
      "outputs": []
    },
    {
      "cell_type": "code",
      "metadata": {
        "colab": {
          "base_uri": "https://localhost:8080/"
        },
        "id": "MEnU-SyNHp7l",
        "outputId": "df036433-3590-46be-bac8-73e7c388796c"
      },
      "source": [
        "print('Shape of X: ', d_x.shape)\r\n",
        "print('Shape of y: ', d_y.shape)"
      ],
      "execution_count": null,
      "outputs": [
        {
          "output_type": "stream",
          "text": [
            "Shape of X:  (6500, 784)\n",
            "Shape of y:  (6500,)\n"
          ],
          "name": "stdout"
        }
      ]
    },
    {
      "cell_type": "markdown",
      "metadata": {
        "id": "LXqx1-2nHp7l"
      },
      "source": [
        "##### Adjust Shape"
      ]
    },
    {
      "cell_type": "code",
      "metadata": {
        "id": "hVwcE48sHp7l"
      },
      "source": [
        "d_x=d_x.reshape(-1,28,28,1)"
      ],
      "execution_count": null,
      "outputs": []
    },
    {
      "cell_type": "markdown",
      "metadata": {
        "id": "NgAxd8HbHp7l"
      },
      "source": [
        "##### Train test split"
      ]
    },
    {
      "cell_type": "code",
      "metadata": {
        "id": "nAEu8KC8Hp7l"
      },
      "source": [
        "x_train, x_test, y_train, y_test = train_test_split(d_x, d_y,stratify=d_y, test_size=0.2)"
      ],
      "execution_count": null,
      "outputs": []
    },
    {
      "cell_type": "code",
      "metadata": {
        "id": "vbF0tnh1Hp7m"
      },
      "source": [
        "y_train = np_utils.to_categorical(y_train, 13)\r\n",
        "Y_test = np_utils.to_categorical(y_test, 13)"
      ],
      "execution_count": null,
      "outputs": []
    },
    {
      "cell_type": "code",
      "metadata": {
        "colab": {
          "base_uri": "https://localhost:8080/"
        },
        "id": "-D0D9yGcHp7m",
        "outputId": "33e6f48d-a0b2-48c0-8437-a2acefa3b8bd"
      },
      "source": [
        "x_train.shape"
      ],
      "execution_count": null,
      "outputs": [
        {
          "output_type": "execute_result",
          "data": {
            "text/plain": [
              "(5200, 28, 28, 1)"
            ]
          },
          "metadata": {
            "tags": []
          },
          "execution_count": 56
        }
      ]
    },
    {
      "cell_type": "markdown",
      "metadata": {
        "id": "ad-c4yRoHp7m"
      },
      "source": [
        "#### Train Model"
      ]
    },
    {
      "cell_type": "code",
      "metadata": {
        "id": "Fbwf4VlFHp7m"
      },
      "source": [
        "N_EPOCHS = 50\r\n",
        "N_Drawings = 13"
      ],
      "execution_count": null,
      "outputs": []
    },
    {
      "cell_type": "code",
      "metadata": {
        "id": "_zk16BNLHp7m"
      },
      "source": [
        "lenet5 = lenet5_v2_initialize()"
      ],
      "execution_count": null,
      "outputs": []
    },
    {
      "cell_type": "code",
      "metadata": {
        "colab": {
          "base_uri": "https://localhost:8080/"
        },
        "id": "YoAp6uMmHp7n",
        "outputId": "66fd223a-7fcf-4d09-c2f6-7c735fe1cb03"
      },
      "source": [
        "compile_train_result(lenet5)"
      ],
      "execution_count": null,
      "outputs": [
        {
          "output_type": "stream",
          "text": [
            "Epoch 1/50\n",
            "17/17 [==============================] - 1s 30ms/step - loss: 2.5371 - accuracy: 0.1094 - val_loss: 2.2686 - val_accuracy: 0.2846\n",
            "Epoch 2/50\n",
            "17/17 [==============================] - 0s 16ms/step - loss: 2.2623 - accuracy: 0.2382 - val_loss: 1.9487 - val_accuracy: 0.3942\n",
            "Epoch 3/50\n",
            "17/17 [==============================] - 0s 16ms/step - loss: 1.9868 - accuracy: 0.3652 - val_loss: 1.7370 - val_accuracy: 0.4663\n",
            "Epoch 4/50\n",
            "17/17 [==============================] - 0s 16ms/step - loss: 1.7763 - accuracy: 0.4272 - val_loss: 1.5597 - val_accuracy: 0.5067\n",
            "Epoch 5/50\n",
            "17/17 [==============================] - 0s 16ms/step - loss: 1.6035 - accuracy: 0.4868 - val_loss: 1.4688 - val_accuracy: 0.5269\n",
            "Epoch 6/50\n",
            "17/17 [==============================] - 0s 16ms/step - loss: 1.5234 - accuracy: 0.5126 - val_loss: 1.3659 - val_accuracy: 0.5596\n",
            "Epoch 7/50\n",
            "17/17 [==============================] - 0s 16ms/step - loss: 1.4069 - accuracy: 0.5654 - val_loss: 1.2881 - val_accuracy: 0.5846\n",
            "Epoch 8/50\n",
            "17/17 [==============================] - 0s 16ms/step - loss: 1.3396 - accuracy: 0.5627 - val_loss: 1.2049 - val_accuracy: 0.6173\n",
            "Epoch 9/50\n",
            "17/17 [==============================] - 0s 16ms/step - loss: 1.2669 - accuracy: 0.5924 - val_loss: 1.1744 - val_accuracy: 0.6231\n",
            "Epoch 10/50\n",
            "17/17 [==============================] - 0s 16ms/step - loss: 1.1774 - accuracy: 0.6205 - val_loss: 1.1028 - val_accuracy: 0.6510\n",
            "Epoch 11/50\n",
            "17/17 [==============================] - 0s 16ms/step - loss: 1.1293 - accuracy: 0.6364 - val_loss: 1.0668 - val_accuracy: 0.6615\n",
            "Epoch 12/50\n",
            "17/17 [==============================] - 0s 17ms/step - loss: 1.0999 - accuracy: 0.6547 - val_loss: 1.0120 - val_accuracy: 0.6663\n",
            "Epoch 13/50\n",
            "17/17 [==============================] - 0s 25ms/step - loss: 1.0586 - accuracy: 0.6630 - val_loss: 0.9844 - val_accuracy: 0.6740\n",
            "Epoch 14/50\n",
            "17/17 [==============================] - 0s 17ms/step - loss: 0.9736 - accuracy: 0.6951 - val_loss: 0.9805 - val_accuracy: 0.6827\n",
            "Epoch 15/50\n",
            "17/17 [==============================] - 0s 16ms/step - loss: 0.9657 - accuracy: 0.6990 - val_loss: 0.9217 - val_accuracy: 0.7058\n",
            "Epoch 16/50\n",
            "17/17 [==============================] - 0s 16ms/step - loss: 0.9385 - accuracy: 0.6994 - val_loss: 0.9147 - val_accuracy: 0.7173\n",
            "Epoch 17/50\n",
            "17/17 [==============================] - 0s 16ms/step - loss: 0.9067 - accuracy: 0.7125 - val_loss: 0.8994 - val_accuracy: 0.7096\n",
            "Epoch 18/50\n",
            "17/17 [==============================] - 0s 16ms/step - loss: 0.9054 - accuracy: 0.7117 - val_loss: 0.8842 - val_accuracy: 0.7096\n",
            "Epoch 19/50\n",
            "17/17 [==============================] - 0s 16ms/step - loss: 0.8645 - accuracy: 0.7175 - val_loss: 0.8746 - val_accuracy: 0.7202\n",
            "Epoch 20/50\n",
            "17/17 [==============================] - 0s 16ms/step - loss: 0.8771 - accuracy: 0.7122 - val_loss: 0.8457 - val_accuracy: 0.7308\n",
            "Epoch 21/50\n",
            "17/17 [==============================] - 0s 16ms/step - loss: 0.8201 - accuracy: 0.7314 - val_loss: 0.8470 - val_accuracy: 0.7365\n",
            "Epoch 22/50\n",
            "17/17 [==============================] - 0s 16ms/step - loss: 0.8382 - accuracy: 0.7263 - val_loss: 0.8334 - val_accuracy: 0.7327\n",
            "Epoch 23/50\n",
            "17/17 [==============================] - 0s 16ms/step - loss: 0.8038 - accuracy: 0.7484 - val_loss: 0.8745 - val_accuracy: 0.7106\n",
            "Epoch 24/50\n",
            "17/17 [==============================] - 0s 16ms/step - loss: 0.7758 - accuracy: 0.7460 - val_loss: 0.8338 - val_accuracy: 0.7308\n",
            "Epoch 25/50\n",
            "17/17 [==============================] - 0s 16ms/step - loss: 0.7500 - accuracy: 0.7652 - val_loss: 0.8369 - val_accuracy: 0.7375\n",
            "Epoch 26/50\n",
            "17/17 [==============================] - 0s 16ms/step - loss: 0.7435 - accuracy: 0.7620 - val_loss: 0.8323 - val_accuracy: 0.7327\n",
            "Epoch 27/50\n",
            "17/17 [==============================] - 0s 16ms/step - loss: 0.7116 - accuracy: 0.7682 - val_loss: 0.8228 - val_accuracy: 0.7413\n",
            "Epoch 28/50\n",
            "17/17 [==============================] - 0s 16ms/step - loss: 0.6650 - accuracy: 0.7889 - val_loss: 0.8083 - val_accuracy: 0.7423\n",
            "Epoch 29/50\n",
            "17/17 [==============================] - 0s 16ms/step - loss: 0.6802 - accuracy: 0.7878 - val_loss: 0.8135 - val_accuracy: 0.7385\n",
            "Epoch 30/50\n",
            "17/17 [==============================] - 0s 16ms/step - loss: 0.6881 - accuracy: 0.7814 - val_loss: 0.8060 - val_accuracy: 0.7375\n",
            "Epoch 31/50\n",
            "17/17 [==============================] - 0s 16ms/step - loss: 0.6463 - accuracy: 0.7927 - val_loss: 0.8256 - val_accuracy: 0.7413\n",
            "Epoch 32/50\n",
            "17/17 [==============================] - 0s 16ms/step - loss: 0.6512 - accuracy: 0.7855 - val_loss: 0.8308 - val_accuracy: 0.7337\n",
            "Epoch 33/50\n",
            "17/17 [==============================] - 0s 17ms/step - loss: 0.6550 - accuracy: 0.7895 - val_loss: 0.8109 - val_accuracy: 0.7433\n",
            "Epoch 34/50\n",
            "17/17 [==============================] - 0s 16ms/step - loss: 0.6350 - accuracy: 0.7914 - val_loss: 0.8581 - val_accuracy: 0.7240\n",
            "Epoch 35/50\n",
            "17/17 [==============================] - 0s 16ms/step - loss: 0.6097 - accuracy: 0.7993 - val_loss: 0.8161 - val_accuracy: 0.7442\n",
            "Restoring model weights from the end of the best epoch.\n",
            "Epoch 00035: early stopping\n",
            "Epoch 1/30\n",
            "21/21 [==============================] - 1s 14ms/step - loss: 2.5199 - accuracy: 0.1229\n",
            "Epoch 2/30\n",
            "21/21 [==============================] - 0s 13ms/step - loss: 2.1315 - accuracy: 0.2900\n",
            "Epoch 3/30\n",
            "21/21 [==============================] - 0s 13ms/step - loss: 1.7568 - accuracy: 0.4232\n",
            "Epoch 4/30\n",
            "21/21 [==============================] - 0s 13ms/step - loss: 1.5735 - accuracy: 0.4897\n",
            "Epoch 5/30\n",
            "21/21 [==============================] - 0s 12ms/step - loss: 1.4433 - accuracy: 0.5403\n",
            "Epoch 6/30\n",
            "21/21 [==============================] - 0s 12ms/step - loss: 1.3561 - accuracy: 0.5612\n",
            "Epoch 7/30\n",
            "21/21 [==============================] - 0s 13ms/step - loss: 1.2839 - accuracy: 0.5918\n",
            "Epoch 8/30\n",
            "21/21 [==============================] - 0s 13ms/step - loss: 1.2211 - accuracy: 0.6127\n",
            "Epoch 9/30\n",
            "21/21 [==============================] - 0s 13ms/step - loss: 1.1708 - accuracy: 0.6263\n",
            "Epoch 10/30\n",
            "21/21 [==============================] - 0s 13ms/step - loss: 1.1242 - accuracy: 0.6426\n",
            "Epoch 11/30\n",
            "21/21 [==============================] - 0s 13ms/step - loss: 1.0631 - accuracy: 0.6539\n",
            "Epoch 12/30\n",
            "21/21 [==============================] - 0s 13ms/step - loss: 1.0175 - accuracy: 0.6836\n",
            "Epoch 13/30\n",
            "21/21 [==============================] - 0s 13ms/step - loss: 0.9582 - accuracy: 0.7015\n",
            "Epoch 14/30\n",
            "21/21 [==============================] - 0s 13ms/step - loss: 0.9458 - accuracy: 0.6909\n",
            "Epoch 15/30\n",
            "21/21 [==============================] - 0s 12ms/step - loss: 0.8965 - accuracy: 0.7112\n",
            "Epoch 16/30\n",
            "21/21 [==============================] - 0s 13ms/step - loss: 0.8750 - accuracy: 0.7230\n",
            "Epoch 17/30\n",
            "21/21 [==============================] - 0s 13ms/step - loss: 0.8183 - accuracy: 0.7353\n",
            "Epoch 18/30\n",
            "21/21 [==============================] - 0s 13ms/step - loss: 0.8105 - accuracy: 0.7314\n",
            "Epoch 19/30\n",
            "21/21 [==============================] - 0s 13ms/step - loss: 0.7718 - accuracy: 0.7490\n",
            "Epoch 20/30\n",
            "21/21 [==============================] - 0s 13ms/step - loss: 0.7630 - accuracy: 0.7512\n",
            "Epoch 21/30\n",
            "21/21 [==============================] - 0s 13ms/step - loss: 0.7308 - accuracy: 0.7707\n",
            "Epoch 22/30\n",
            "21/21 [==============================] - 0s 13ms/step - loss: 0.6871 - accuracy: 0.7753\n",
            "Epoch 23/30\n",
            "21/21 [==============================] - 0s 13ms/step - loss: 0.6925 - accuracy: 0.7817\n",
            "Epoch 24/30\n",
            "21/21 [==============================] - 0s 13ms/step - loss: 0.7143 - accuracy: 0.7657\n",
            "Epoch 25/30\n",
            "21/21 [==============================] - 0s 13ms/step - loss: 0.6653 - accuracy: 0.7846\n",
            "Epoch 26/30\n",
            "21/21 [==============================] - 0s 13ms/step - loss: 0.6309 - accuracy: 0.8000\n",
            "Epoch 27/30\n",
            "21/21 [==============================] - 0s 13ms/step - loss: 0.6338 - accuracy: 0.7941\n",
            "Epoch 28/30\n",
            "21/21 [==============================] - 0s 13ms/step - loss: 0.5940 - accuracy: 0.8060\n",
            "Epoch 29/30\n",
            "21/21 [==============================] - 0s 13ms/step - loss: 0.5943 - accuracy: 0.8083\n",
            "Epoch 30/30\n",
            "21/21 [==============================] - 0s 13ms/step - loss: 0.5708 - accuracy: 0.8167\n",
            "Training complete\n",
            "Evaluating model\n",
            "Test Accuracy:  77.0\n"
          ],
          "name": "stdout"
        }
      ]
    },
    {
      "cell_type": "code",
      "metadata": {
        "id": "OysnJXRlJbcl"
      },
      "source": [
        ""
      ],
      "execution_count": null,
      "outputs": []
    },
    {
      "cell_type": "markdown",
      "metadata": {
        "id": "BXom29ILJb0v"
      },
      "source": [
        "### 13 classes 1000 sample"
      ]
    },
    {
      "cell_type": "code",
      "metadata": {
        "id": "Sl97Znq2Jb0w"
      },
      "source": [
        "N = 1000 # samples for each class"
      ],
      "execution_count": null,
      "outputs": []
    },
    {
      "cell_type": "markdown",
      "metadata": {
        "id": "JIhNfvTdJb0y"
      },
      "source": [
        "#### Load & Prepare Data"
      ]
    },
    {
      "cell_type": "markdown",
      "metadata": {
        "id": "EXZ40_mrJb0z"
      },
      "source": [
        "##### Load"
      ]
    },
    {
      "cell_type": "code",
      "metadata": {
        "id": "vsg9vj7UJb00"
      },
      "source": [
        "#'cow',\"lobster\",\"panda\"\r\n",
        "classes = [\"bear\", \"bird\", \"dog\",\"camel\", \"dolphin\",\"snake\",\"snail\",\"swan\",\"zebra\",'cat',\"giraffe\",\"octopus\", \"fish\"]"
      ],
      "execution_count": null,
      "outputs": []
    },
    {
      "cell_type": "code",
      "metadata": {
        "colab": {
          "base_uri": "https://localhost:8080/"
        },
        "id": "p2aXR5ulJb00",
        "outputId": "2175cf7f-59c4-450a-b0bc-7c65d85745bf"
      },
      "source": [
        "# create lists for data files and objects in the same order\n",
        "os.chdir('/content/data')\n",
        "files=[]\n",
        "objects=[]\n",
        "for file in glob.glob(\"*.npy\"):\n",
        "  if file.split('.')[0] in classes:\n",
        "    objects.append(file.split('.')[0])\n",
        "    files.append(file)\n",
        "print(objects)\n",
        "print(files)"
      ],
      "execution_count": null,
      "outputs": [
        {
          "output_type": "stream",
          "text": [
            "['bear', 'swan', 'giraffe', 'dog', 'octopus', 'cat', 'camel', 'fish', 'zebra', 'bird', 'snake', 'dolphin', 'snail']\n",
            "['bear.npy', 'swan.npy', 'giraffe.npy', 'dog.npy', 'octopus.npy', 'cat.npy', 'camel.npy', 'fish.npy', 'zebra.npy', 'bird.npy', 'snake.npy', 'dolphin.npy', 'snail.npy']\n"
          ],
          "name": "stdout"
        }
      ]
    },
    {
      "cell_type": "code",
      "metadata": {
        "colab": {
          "base_uri": "https://localhost:8080/"
        },
        "id": "C1XBuQ9ZJb00",
        "outputId": "2e69667b-ca98-4662-ec87-f8e9696fa10f"
      },
      "source": [
        "enum=enumerate(objects)\r\n",
        "DRAWINGS=dict((i,j) for i,j in enum)\r\n",
        "print(DRAWINGS)"
      ],
      "execution_count": null,
      "outputs": [
        {
          "output_type": "stream",
          "text": [
            "{0: 'bear', 1: 'swan', 2: 'giraffe', 3: 'dog', 4: 'octopus', 5: 'cat', 6: 'camel', 7: 'fish', 8: 'zebra', 9: 'bird', 10: 'snake', 11: 'dolphin', 12: 'snail'}\n"
          ],
          "name": "stdout"
        }
      ]
    },
    {
      "cell_type": "code",
      "metadata": {
        "id": "JKirCh_NJb02"
      },
      "source": [
        "d_x = []\r\n",
        "d_y = []\r\n",
        "\r\n",
        "for i in range(len(files)): \r\n",
        "  d = np.load('/content/data/'+files[i])\r\n",
        "  c = 0\r\n",
        "  for j in d:\r\n",
        "    if c<N:\r\n",
        "      c+=1\r\n",
        "      d_x.append(j)\r\n",
        "      d_y.append(i)\r\n"
      ],
      "execution_count": null,
      "outputs": []
    },
    {
      "cell_type": "code",
      "metadata": {
        "colab": {
          "base_uri": "https://localhost:8080/"
        },
        "id": "cQKePegrJb02",
        "outputId": "bd1c6f04-631e-4dcc-8cad-d106a057dddc"
      },
      "source": [
        "print( 'Total number of samples: ', len(d_x))"
      ],
      "execution_count": null,
      "outputs": [
        {
          "output_type": "stream",
          "text": [
            "Total number of samples:  13000\n"
          ],
          "name": "stdout"
        }
      ]
    },
    {
      "cell_type": "markdown",
      "metadata": {
        "id": "9bBiZb9MJb02"
      },
      "source": [
        "##### Prepare Data"
      ]
    },
    {
      "cell_type": "markdown",
      "metadata": {
        "id": "KPleQ03pJb03"
      },
      "source": [
        "**Preparing the Data**\r\n",
        "*   Normalized data by dividig it each pixel value by 255\r\n",
        "*   We dont have any missing data\r\n",
        "*   Applied one hot encoding for target labels(y_train, y_test) "
      ]
    },
    {
      "cell_type": "markdown",
      "metadata": {
        "id": "WAF_mF0dJb04"
      },
      "source": [
        "##### Normalizing Features & One Hot Encoding of Labels"
      ]
    },
    {
      "cell_type": "code",
      "metadata": {
        "id": "sSrXBv0mJb04"
      },
      "source": [
        "from keras.utils import to_categorical\r\n",
        "\r\n",
        "d_x = np.array(d_x).astype('float32')\r\n",
        "d_y = np.array(d_y).astype('float32')\r\n",
        "\r\n",
        "d_x = d_x/255\r\n"
      ],
      "execution_count": null,
      "outputs": []
    },
    {
      "cell_type": "code",
      "metadata": {
        "colab": {
          "base_uri": "https://localhost:8080/"
        },
        "id": "wn9qGzvpJb04",
        "outputId": "dde5c87e-e4e3-46b4-c539-a40104f18978"
      },
      "source": [
        "print('Shape of X: ', d_x.shape)\r\n",
        "print('Shape of y: ', d_y.shape)"
      ],
      "execution_count": null,
      "outputs": [
        {
          "output_type": "stream",
          "text": [
            "Shape of X:  (13000, 784)\n",
            "Shape of y:  (13000,)\n"
          ],
          "name": "stdout"
        }
      ]
    },
    {
      "cell_type": "markdown",
      "metadata": {
        "id": "3r1dpaXxJb05"
      },
      "source": [
        "##### Adjust Shape"
      ]
    },
    {
      "cell_type": "code",
      "metadata": {
        "id": "tzZtG4vzJb05"
      },
      "source": [
        "d_x=d_x.reshape(-1,28,28,1)"
      ],
      "execution_count": null,
      "outputs": []
    },
    {
      "cell_type": "markdown",
      "metadata": {
        "id": "umcO1idCJb06"
      },
      "source": [
        "##### Train test split"
      ]
    },
    {
      "cell_type": "code",
      "metadata": {
        "id": "7eeQhW_fJb06"
      },
      "source": [
        "x_train, x_test, y_train, y_test = train_test_split(d_x, d_y,stratify=d_y, test_size=0.2)"
      ],
      "execution_count": null,
      "outputs": []
    },
    {
      "cell_type": "code",
      "metadata": {
        "id": "UaRscyrQJb06"
      },
      "source": [
        "y_train = np_utils.to_categorical(y_train, 13)\r\n",
        "Y_test = np_utils.to_categorical(y_test, 13)"
      ],
      "execution_count": null,
      "outputs": []
    },
    {
      "cell_type": "code",
      "metadata": {
        "colab": {
          "base_uri": "https://localhost:8080/"
        },
        "id": "GT_GqE4ZJb06",
        "outputId": "2a59840d-0131-4999-f077-86ba273c72fb"
      },
      "source": [
        "x_train.shape"
      ],
      "execution_count": null,
      "outputs": [
        {
          "output_type": "execute_result",
          "data": {
            "text/plain": [
              "(10400, 28, 28, 1)"
            ]
          },
          "metadata": {
            "tags": []
          },
          "execution_count": 71
        }
      ]
    },
    {
      "cell_type": "markdown",
      "metadata": {
        "id": "LMTKbLrcJb07"
      },
      "source": [
        "#### Train Model"
      ]
    },
    {
      "cell_type": "code",
      "metadata": {
        "id": "J7-DSJeYJb07"
      },
      "source": [
        "N_EPOCHS = 100\r\n",
        "N_Drawings = 13"
      ],
      "execution_count": null,
      "outputs": []
    },
    {
      "cell_type": "code",
      "metadata": {
        "id": "DiLMzT8aJb07"
      },
      "source": [
        "lenet5 = lenet5_v2_initialize()"
      ],
      "execution_count": null,
      "outputs": []
    },
    {
      "cell_type": "code",
      "metadata": {
        "colab": {
          "base_uri": "https://localhost:8080/"
        },
        "id": "Boo7v9zSJb07",
        "outputId": "ca7d284c-c111-4dcf-b3cb-87130a6a7e10"
      },
      "source": [
        "compile_train_result(lenet5)"
      ],
      "execution_count": null,
      "outputs": [
        {
          "output_type": "stream",
          "text": [
            "Epoch 1/100\n",
            "33/33 [==============================] - 1s 22ms/step - loss: 2.5049 - accuracy: 0.1263 - val_loss: 1.8929 - val_accuracy: 0.4409\n",
            "Epoch 2/100\n",
            "33/33 [==============================] - 1s 16ms/step - loss: 1.9135 - accuracy: 0.3822 - val_loss: 1.4319 - val_accuracy: 0.5625\n",
            "Epoch 3/100\n",
            "33/33 [==============================] - 1s 16ms/step - loss: 1.5194 - accuracy: 0.5047 - val_loss: 1.1998 - val_accuracy: 0.6361\n",
            "Epoch 4/100\n",
            "33/33 [==============================] - 1s 16ms/step - loss: 1.3314 - accuracy: 0.5809 - val_loss: 1.0672 - val_accuracy: 0.6740\n",
            "Epoch 5/100\n",
            "33/33 [==============================] - 1s 16ms/step - loss: 1.1764 - accuracy: 0.6271 - val_loss: 0.9757 - val_accuracy: 0.7120\n",
            "Epoch 6/100\n",
            "33/33 [==============================] - 1s 16ms/step - loss: 1.1252 - accuracy: 0.6509 - val_loss: 0.9181 - val_accuracy: 0.7269\n",
            "Epoch 7/100\n",
            "33/33 [==============================] - 1s 16ms/step - loss: 1.0084 - accuracy: 0.6795 - val_loss: 0.8938 - val_accuracy: 0.7255\n",
            "Epoch 8/100\n",
            "33/33 [==============================] - 1s 16ms/step - loss: 0.9935 - accuracy: 0.6926 - val_loss: 0.8680 - val_accuracy: 0.7317\n",
            "Epoch 9/100\n",
            "33/33 [==============================] - 1s 15ms/step - loss: 0.9252 - accuracy: 0.7035 - val_loss: 0.8442 - val_accuracy: 0.7447\n",
            "Epoch 10/100\n",
            "33/33 [==============================] - 1s 16ms/step - loss: 0.8996 - accuracy: 0.7119 - val_loss: 0.7972 - val_accuracy: 0.7558\n",
            "Epoch 11/100\n",
            "33/33 [==============================] - 1s 15ms/step - loss: 0.8528 - accuracy: 0.7303 - val_loss: 0.8308 - val_accuracy: 0.7433\n",
            "Epoch 12/100\n",
            "33/33 [==============================] - 1s 16ms/step - loss: 0.8398 - accuracy: 0.7342 - val_loss: 0.7923 - val_accuracy: 0.7548\n",
            "Epoch 13/100\n",
            "33/33 [==============================] - 1s 15ms/step - loss: 0.7979 - accuracy: 0.7444 - val_loss: 0.7623 - val_accuracy: 0.7639\n",
            "Epoch 14/100\n",
            "33/33 [==============================] - 1s 16ms/step - loss: 0.7859 - accuracy: 0.7500 - val_loss: 0.7434 - val_accuracy: 0.7678\n",
            "Epoch 15/100\n",
            "33/33 [==============================] - 1s 15ms/step - loss: 0.7833 - accuracy: 0.7511 - val_loss: 0.7496 - val_accuracy: 0.7654\n",
            "Epoch 16/100\n",
            "33/33 [==============================] - 1s 16ms/step - loss: 0.7421 - accuracy: 0.7580 - val_loss: 0.7322 - val_accuracy: 0.7784\n",
            "Epoch 17/100\n",
            "33/33 [==============================] - 1s 16ms/step - loss: 0.7369 - accuracy: 0.7586 - val_loss: 0.7102 - val_accuracy: 0.7798\n",
            "Epoch 18/100\n",
            "33/33 [==============================] - 1s 16ms/step - loss: 0.6606 - accuracy: 0.7942 - val_loss: 0.7169 - val_accuracy: 0.7750\n",
            "Epoch 19/100\n",
            "33/33 [==============================] - 1s 16ms/step - loss: 0.6907 - accuracy: 0.7747 - val_loss: 0.7146 - val_accuracy: 0.7798\n",
            "Epoch 20/100\n",
            "33/33 [==============================] - 1s 19ms/step - loss: 0.6655 - accuracy: 0.7913 - val_loss: 0.7107 - val_accuracy: 0.7764\n",
            "Epoch 21/100\n",
            "33/33 [==============================] - 1s 16ms/step - loss: 0.6478 - accuracy: 0.7925 - val_loss: 0.7085 - val_accuracy: 0.7861\n",
            "Epoch 22/100\n",
            "33/33 [==============================] - 1s 16ms/step - loss: 0.6607 - accuracy: 0.7811 - val_loss: 0.6933 - val_accuracy: 0.7856\n",
            "Epoch 23/100\n",
            "33/33 [==============================] - 1s 16ms/step - loss: 0.6168 - accuracy: 0.7955 - val_loss: 0.6874 - val_accuracy: 0.7851\n",
            "Epoch 24/100\n",
            "33/33 [==============================] - 1s 16ms/step - loss: 0.6180 - accuracy: 0.8004 - val_loss: 0.6886 - val_accuracy: 0.7875\n",
            "Epoch 25/100\n",
            "33/33 [==============================] - 1s 16ms/step - loss: 0.6089 - accuracy: 0.7961 - val_loss: 0.6807 - val_accuracy: 0.7928\n",
            "Epoch 26/100\n",
            "33/33 [==============================] - 1s 16ms/step - loss: 0.5993 - accuracy: 0.8032 - val_loss: 0.6713 - val_accuracy: 0.7986\n",
            "Epoch 27/100\n",
            "33/33 [==============================] - 1s 16ms/step - loss: 0.5743 - accuracy: 0.8111 - val_loss: 0.6741 - val_accuracy: 0.7918\n",
            "Epoch 28/100\n",
            "33/33 [==============================] - 1s 15ms/step - loss: 0.5646 - accuracy: 0.8153 - val_loss: 0.6842 - val_accuracy: 0.7942\n",
            "Epoch 29/100\n",
            "33/33 [==============================] - 1s 15ms/step - loss: 0.5601 - accuracy: 0.8153 - val_loss: 0.6709 - val_accuracy: 0.7962\n",
            "Epoch 30/100\n",
            "33/33 [==============================] - 1s 16ms/step - loss: 0.5493 - accuracy: 0.8155 - val_loss: 0.6878 - val_accuracy: 0.7981\n",
            "Epoch 31/100\n",
            "33/33 [==============================] - 1s 16ms/step - loss: 0.5455 - accuracy: 0.8256 - val_loss: 0.7024 - val_accuracy: 0.7875\n",
            "Epoch 32/100\n",
            "33/33 [==============================] - 1s 16ms/step - loss: 0.5230 - accuracy: 0.8242 - val_loss: 0.6699 - val_accuracy: 0.8005\n",
            "Epoch 33/100\n",
            "33/33 [==============================] - 1s 16ms/step - loss: 0.5186 - accuracy: 0.8242 - val_loss: 0.6806 - val_accuracy: 0.7962\n",
            "Epoch 34/100\n",
            "33/33 [==============================] - 1s 16ms/step - loss: 0.5030 - accuracy: 0.8343 - val_loss: 0.6793 - val_accuracy: 0.7957\n",
            "Epoch 35/100\n",
            "33/33 [==============================] - 1s 16ms/step - loss: 0.4870 - accuracy: 0.8330 - val_loss: 0.6838 - val_accuracy: 0.7947\n",
            "Epoch 36/100\n",
            "33/33 [==============================] - 1s 16ms/step - loss: 0.4878 - accuracy: 0.8367 - val_loss: 0.6765 - val_accuracy: 0.8014\n",
            "Epoch 37/100\n",
            "33/33 [==============================] - 1s 16ms/step - loss: 0.4804 - accuracy: 0.8393 - val_loss: 0.6745 - val_accuracy: 0.8000\n",
            "Restoring model weights from the end of the best epoch.\n",
            "Epoch 00037: early stopping\n",
            "Epoch 1/32\n",
            "41/41 [==============================] - 1s 14ms/step - loss: 2.4659 - accuracy: 0.1361\n",
            "Epoch 2/32\n",
            "41/41 [==============================] - 1s 13ms/step - loss: 1.7983 - accuracy: 0.4196\n",
            "Epoch 3/32\n",
            "41/41 [==============================] - 1s 13ms/step - loss: 1.5164 - accuracy: 0.5098\n",
            "Epoch 4/32\n",
            "41/41 [==============================] - 1s 13ms/step - loss: 1.3388 - accuracy: 0.5752\n",
            "Epoch 5/32\n",
            "41/41 [==============================] - 1s 13ms/step - loss: 1.2216 - accuracy: 0.6121\n",
            "Epoch 6/32\n",
            "41/41 [==============================] - 1s 13ms/step - loss: 1.1246 - accuracy: 0.6431\n",
            "Epoch 7/32\n",
            "41/41 [==============================] - 1s 13ms/step - loss: 1.0418 - accuracy: 0.6681\n",
            "Epoch 8/32\n",
            "41/41 [==============================] - 1s 13ms/step - loss: 1.0108 - accuracy: 0.6772\n",
            "Epoch 9/32\n",
            "41/41 [==============================] - 1s 13ms/step - loss: 0.9315 - accuracy: 0.7046\n",
            "Epoch 10/32\n",
            "41/41 [==============================] - 1s 13ms/step - loss: 0.9111 - accuracy: 0.7157\n",
            "Epoch 11/32\n",
            "41/41 [==============================] - 1s 13ms/step - loss: 0.8689 - accuracy: 0.7243\n",
            "Epoch 12/32\n",
            "41/41 [==============================] - 1s 13ms/step - loss: 0.8333 - accuracy: 0.7360\n",
            "Epoch 13/32\n",
            "41/41 [==============================] - 1s 13ms/step - loss: 0.7792 - accuracy: 0.7501\n",
            "Epoch 14/32\n",
            "41/41 [==============================] - 1s 13ms/step - loss: 0.7577 - accuracy: 0.7556\n",
            "Epoch 15/32\n",
            "41/41 [==============================] - 1s 13ms/step - loss: 0.7513 - accuracy: 0.7593\n",
            "Epoch 16/32\n",
            "41/41 [==============================] - 1s 13ms/step - loss: 0.7349 - accuracy: 0.7658\n",
            "Epoch 17/32\n",
            "41/41 [==============================] - 1s 13ms/step - loss: 0.7174 - accuracy: 0.7733\n",
            "Epoch 18/32\n",
            "41/41 [==============================] - 1s 13ms/step - loss: 0.7017 - accuracy: 0.7741\n",
            "Epoch 19/32\n",
            "41/41 [==============================] - 1s 13ms/step - loss: 0.6854 - accuracy: 0.7827\n",
            "Epoch 20/32\n",
            "41/41 [==============================] - 1s 13ms/step - loss: 0.6755 - accuracy: 0.7798\n",
            "Epoch 21/32\n",
            "41/41 [==============================] - 1s 13ms/step - loss: 0.6715 - accuracy: 0.7814\n",
            "Epoch 22/32\n",
            "41/41 [==============================] - 1s 13ms/step - loss: 0.6376 - accuracy: 0.7957\n",
            "Epoch 23/32\n",
            "41/41 [==============================] - 1s 13ms/step - loss: 0.6038 - accuracy: 0.8051\n",
            "Epoch 24/32\n",
            "41/41 [==============================] - 1s 13ms/step - loss: 0.6181 - accuracy: 0.7995\n",
            "Epoch 25/32\n",
            "41/41 [==============================] - 1s 13ms/step - loss: 0.6085 - accuracy: 0.8029\n",
            "Epoch 26/32\n",
            "41/41 [==============================] - 1s 13ms/step - loss: 0.5987 - accuracy: 0.8099\n",
            "Epoch 27/32\n",
            "41/41 [==============================] - 1s 13ms/step - loss: 0.5744 - accuracy: 0.8073\n",
            "Epoch 28/32\n",
            "41/41 [==============================] - 1s 13ms/step - loss: 0.5554 - accuracy: 0.8175\n",
            "Epoch 29/32\n",
            "41/41 [==============================] - 1s 13ms/step - loss: 0.5531 - accuracy: 0.8197\n",
            "Epoch 30/32\n",
            "41/41 [==============================] - 1s 13ms/step - loss: 0.5254 - accuracy: 0.8227\n",
            "Epoch 31/32\n",
            "41/41 [==============================] - 1s 13ms/step - loss: 0.5148 - accuracy: 0.8281\n",
            "Epoch 32/32\n",
            "41/41 [==============================] - 1s 13ms/step - loss: 0.5271 - accuracy: 0.8283\n",
            "Training complete\n",
            "Evaluating model\n",
            "Test Accuracy:  79.61538461538461\n"
          ],
          "name": "stdout"
        }
      ]
    },
    {
      "cell_type": "markdown",
      "metadata": {
        "id": "3bytE50LJ0y-"
      },
      "source": [
        "### 13 classes 20000 sample"
      ]
    },
    {
      "cell_type": "code",
      "metadata": {
        "id": "kmFElG2_J0y-"
      },
      "source": [
        "N = 20000 # samples for each class"
      ],
      "execution_count": null,
      "outputs": []
    },
    {
      "cell_type": "markdown",
      "metadata": {
        "id": "03KpCdbPJ0y_"
      },
      "source": [
        "#### Load & Prepare Data"
      ]
    },
    {
      "cell_type": "markdown",
      "metadata": {
        "id": "hXId7yrlJ0y_"
      },
      "source": [
        "##### Load"
      ]
    },
    {
      "cell_type": "code",
      "metadata": {
        "id": "BxRVytSIJ0y_"
      },
      "source": [
        "#'cow',\"lobster\",\"panda\"\r\n",
        "classes = [\"bear\", \"bird\", \"dog\",\"camel\", \"dolphin\",\"snake\",\"snail\",\"swan\",\"zebra\",'cat',\"giraffe\",\"octopus\", \"fish\"]"
      ],
      "execution_count": null,
      "outputs": []
    },
    {
      "cell_type": "code",
      "metadata": {
        "colab": {
          "base_uri": "https://localhost:8080/"
        },
        "id": "EEovDV3JJ0zA",
        "outputId": "b5b64c48-9c42-4c1a-97fc-0e37599caf5e"
      },
      "source": [
        "# create lists for data files and objects in the same order\n",
        "os.chdir('/content/data')\n",
        "files=[]\n",
        "objects=[]\n",
        "for file in glob.glob(\"*.npy\"):\n",
        "  if file.split('.')[0] in classes:\n",
        "    objects.append(file.split('.')[0])\n",
        "    files.append(file)\n",
        "print(objects)\n",
        "print(files)"
      ],
      "execution_count": null,
      "outputs": [
        {
          "output_type": "stream",
          "text": [
            "['bear', 'swan', 'giraffe', 'dog', 'octopus', 'cat', 'camel', 'fish', 'zebra', 'bird', 'snake', 'dolphin', 'snail']\n",
            "['bear.npy', 'swan.npy', 'giraffe.npy', 'dog.npy', 'octopus.npy', 'cat.npy', 'camel.npy', 'fish.npy', 'zebra.npy', 'bird.npy', 'snake.npy', 'dolphin.npy', 'snail.npy']\n"
          ],
          "name": "stdout"
        }
      ]
    },
    {
      "cell_type": "code",
      "metadata": {
        "colab": {
          "base_uri": "https://localhost:8080/"
        },
        "id": "OyV0KDvSJ0zA",
        "outputId": "b43ddb58-8ef3-4be2-cd9e-07e07d045cb7"
      },
      "source": [
        "enum=enumerate(objects)\r\n",
        "DRAWINGS=dict((i,j) for i,j in enum)\r\n",
        "print(DRAWINGS)"
      ],
      "execution_count": null,
      "outputs": [
        {
          "output_type": "stream",
          "text": [
            "{0: 'bear', 1: 'swan', 2: 'giraffe', 3: 'dog', 4: 'octopus', 5: 'cat', 6: 'camel', 7: 'fish', 8: 'zebra', 9: 'bird', 10: 'snake', 11: 'dolphin', 12: 'snail'}\n"
          ],
          "name": "stdout"
        }
      ]
    },
    {
      "cell_type": "code",
      "metadata": {
        "id": "Ycp_bFo6J0zA"
      },
      "source": [
        "d_x = []\r\n",
        "d_y = []\r\n",
        "\r\n",
        "for i in range(len(files)): \r\n",
        "  d = np.load('/content/data/'+files[i])\r\n",
        "  c = 0\r\n",
        "  for j in d:\r\n",
        "    if c<N:\r\n",
        "      c+=1\r\n",
        "      d_x.append(j)\r\n",
        "      d_y.append(i)\r\n"
      ],
      "execution_count": null,
      "outputs": []
    },
    {
      "cell_type": "code",
      "metadata": {
        "colab": {
          "base_uri": "https://localhost:8080/"
        },
        "id": "49YDwIQ7J0zA",
        "outputId": "17dd7b06-5885-4141-94df-7bc25f82b448"
      },
      "source": [
        "print( 'Total number of samples: ', len(d_x))"
      ],
      "execution_count": null,
      "outputs": [
        {
          "output_type": "stream",
          "text": [
            "Total number of samples:  260000\n"
          ],
          "name": "stdout"
        }
      ]
    },
    {
      "cell_type": "markdown",
      "metadata": {
        "id": "cZCel3xBJ0zA"
      },
      "source": [
        "##### Prepare Data"
      ]
    },
    {
      "cell_type": "markdown",
      "metadata": {
        "id": "QtP8w_25J0zA"
      },
      "source": [
        "**Preparing the Data**\r\n",
        "*   Normalized data by dividig it each pixel value by 255\r\n",
        "*   We dont have any missing data\r\n",
        "*   Applied one hot encoding for target labels(y_train, y_test) "
      ]
    },
    {
      "cell_type": "markdown",
      "metadata": {
        "id": "iSrM7W_qJ0zA"
      },
      "source": [
        "##### Normalizing Features & One Hot Encoding of Labels"
      ]
    },
    {
      "cell_type": "code",
      "metadata": {
        "id": "d4PgW_KTJ0zA"
      },
      "source": [
        "from keras.utils import to_categorical\r\n",
        "\r\n",
        "d_x = np.array(d_x).astype('float32')\r\n",
        "d_y = np.array(d_y).astype('float32')\r\n",
        "\r\n",
        "d_x = d_x/255\r\n"
      ],
      "execution_count": null,
      "outputs": []
    },
    {
      "cell_type": "code",
      "metadata": {
        "colab": {
          "base_uri": "https://localhost:8080/"
        },
        "id": "Xs7GRH2yJ0zB",
        "outputId": "19a7cdba-1f24-46a6-9940-1339f19829e4"
      },
      "source": [
        "print('Shape of X: ', d_x.shape)\r\n",
        "print('Shape of y: ', d_y.shape)"
      ],
      "execution_count": null,
      "outputs": [
        {
          "output_type": "stream",
          "text": [
            "Shape of X:  (260000, 784)\n",
            "Shape of y:  (260000,)\n"
          ],
          "name": "stdout"
        }
      ]
    },
    {
      "cell_type": "markdown",
      "metadata": {
        "id": "Qx90T-EXJ0zB"
      },
      "source": [
        "##### Adjust Shape"
      ]
    },
    {
      "cell_type": "code",
      "metadata": {
        "id": "VvVrNU09J0zB"
      },
      "source": [
        "d_x=d_x.reshape(-1,28,28,1)"
      ],
      "execution_count": null,
      "outputs": []
    },
    {
      "cell_type": "markdown",
      "metadata": {
        "id": "0gXmpBBkJ0zB"
      },
      "source": [
        "##### Train test split"
      ]
    },
    {
      "cell_type": "code",
      "metadata": {
        "id": "nmgj4XvSJ0zB"
      },
      "source": [
        "x_train, x_test, y_train, y_test = train_test_split(d_x, d_y,stratify=d_y, test_size=0.2)"
      ],
      "execution_count": null,
      "outputs": []
    },
    {
      "cell_type": "code",
      "metadata": {
        "id": "UzUV1uQKJ0zB"
      },
      "source": [
        "y_train = np_utils.to_categorical(y_train, 13)\r\n",
        "Y_test = np_utils.to_categorical(y_test, 13)"
      ],
      "execution_count": null,
      "outputs": []
    },
    {
      "cell_type": "code",
      "metadata": {
        "colab": {
          "base_uri": "https://localhost:8080/"
        },
        "id": "DOamOnfMJ0zC",
        "outputId": "6270cb90-4c75-4a3d-d71d-32c5faa7b675"
      },
      "source": [
        "x_train.shape"
      ],
      "execution_count": null,
      "outputs": [
        {
          "output_type": "execute_result",
          "data": {
            "text/plain": [
              "(208000, 28, 28, 1)"
            ]
          },
          "metadata": {
            "tags": []
          },
          "execution_count": 86
        }
      ]
    },
    {
      "cell_type": "markdown",
      "metadata": {
        "id": "rSQ9eYfzJ0zC"
      },
      "source": [
        "#### Train Model & Result"
      ]
    },
    {
      "cell_type": "code",
      "metadata": {
        "id": "YyYkIreZJ0zC"
      },
      "source": [
        "N_EPOCHS = 100\r\n",
        "N_Drawings = 13"
      ],
      "execution_count": null,
      "outputs": []
    },
    {
      "cell_type": "code",
      "metadata": {
        "id": "m3QWhguxJ0zC"
      },
      "source": [
        "lenet5 = lenet5_v2_initialize()"
      ],
      "execution_count": null,
      "outputs": []
    },
    {
      "cell_type": "code",
      "metadata": {
        "colab": {
          "base_uri": "https://localhost:8080/"
        },
        "id": "hHVeyQrJJ0zC",
        "outputId": "abeabaaf-3a15-44a0-f2da-d62c22b87a0f"
      },
      "source": [
        "compile_train_result(lenet5)"
      ],
      "execution_count": null,
      "outputs": [
        {
          "output_type": "stream",
          "text": [
            "Epoch 1/100\n",
            "650/650 [==============================] - 10s 15ms/step - loss: 1.5293 - accuracy: 0.5051 - val_loss: 0.7507 - val_accuracy: 0.7678\n",
            "Epoch 2/100\n",
            "650/650 [==============================] - 9s 14ms/step - loss: 0.8357 - accuracy: 0.7391 - val_loss: 0.6262 - val_accuracy: 0.8042\n",
            "Epoch 3/100\n",
            "650/650 [==============================] - 9s 14ms/step - loss: 0.7223 - accuracy: 0.7736 - val_loss: 0.5678 - val_accuracy: 0.8206\n",
            "Epoch 4/100\n",
            "650/650 [==============================] - 9s 14ms/step - loss: 0.6628 - accuracy: 0.7919 - val_loss: 0.5482 - val_accuracy: 0.8272\n",
            "Epoch 5/100\n",
            "650/650 [==============================] - 9s 14ms/step - loss: 0.6321 - accuracy: 0.8009 - val_loss: 0.5156 - val_accuracy: 0.8362\n",
            "Epoch 6/100\n",
            "650/650 [==============================] - 9s 14ms/step - loss: 0.6090 - accuracy: 0.8068 - val_loss: 0.5063 - val_accuracy: 0.8388\n",
            "Epoch 7/100\n",
            "650/650 [==============================] - 9s 14ms/step - loss: 0.5815 - accuracy: 0.8162 - val_loss: 0.4901 - val_accuracy: 0.8434\n",
            "Epoch 8/100\n",
            "650/650 [==============================] - 9s 14ms/step - loss: 0.5749 - accuracy: 0.8172 - val_loss: 0.5061 - val_accuracy: 0.8378\n",
            "Epoch 9/100\n",
            "650/650 [==============================] - 9s 14ms/step - loss: 0.5571 - accuracy: 0.8222 - val_loss: 0.4832 - val_accuracy: 0.8461\n",
            "Epoch 10/100\n",
            "650/650 [==============================] - 9s 14ms/step - loss: 0.5458 - accuracy: 0.8254 - val_loss: 0.4612 - val_accuracy: 0.8525\n",
            "Epoch 11/100\n",
            "650/650 [==============================] - 9s 14ms/step - loss: 0.5362 - accuracy: 0.8292 - val_loss: 0.4570 - val_accuracy: 0.8535\n",
            "Epoch 12/100\n",
            "650/650 [==============================] - 9s 14ms/step - loss: 0.5252 - accuracy: 0.8314 - val_loss: 0.4560 - val_accuracy: 0.8530\n",
            "Epoch 13/100\n",
            "650/650 [==============================] - 9s 14ms/step - loss: 0.5159 - accuracy: 0.8355 - val_loss: 0.4606 - val_accuracy: 0.8530\n",
            "Epoch 14/100\n",
            "650/650 [==============================] - 9s 14ms/step - loss: 0.5102 - accuracy: 0.8373 - val_loss: 0.4473 - val_accuracy: 0.8564\n",
            "Epoch 15/100\n",
            "650/650 [==============================] - 9s 14ms/step - loss: 0.4981 - accuracy: 0.8405 - val_loss: 0.4451 - val_accuracy: 0.8590\n",
            "Epoch 16/100\n",
            "650/650 [==============================] - 9s 14ms/step - loss: 0.5022 - accuracy: 0.8395 - val_loss: 0.4452 - val_accuracy: 0.8575\n",
            "Epoch 17/100\n",
            "650/650 [==============================] - 9s 14ms/step - loss: 0.4943 - accuracy: 0.8410 - val_loss: 0.4431 - val_accuracy: 0.8591\n",
            "Epoch 18/100\n",
            "650/650 [==============================] - 9s 14ms/step - loss: 0.4853 - accuracy: 0.8449 - val_loss: 0.4406 - val_accuracy: 0.8594\n",
            "Epoch 19/100\n",
            "650/650 [==============================] - 9s 14ms/step - loss: 0.4747 - accuracy: 0.8486 - val_loss: 0.4367 - val_accuracy: 0.8605\n",
            "Epoch 20/100\n",
            "650/650 [==============================] - 9s 14ms/step - loss: 0.4741 - accuracy: 0.8467 - val_loss: 0.4443 - val_accuracy: 0.8583\n",
            "Epoch 21/100\n",
            "650/650 [==============================] - 9s 14ms/step - loss: 0.4725 - accuracy: 0.8480 - val_loss: 0.4403 - val_accuracy: 0.8592\n",
            "Epoch 22/100\n",
            "650/650 [==============================] - 9s 14ms/step - loss: 0.4705 - accuracy: 0.8475 - val_loss: 0.4316 - val_accuracy: 0.8622\n",
            "Epoch 23/100\n",
            "650/650 [==============================] - 9s 14ms/step - loss: 0.4661 - accuracy: 0.8486 - val_loss: 0.4282 - val_accuracy: 0.8630\n",
            "Epoch 24/100\n",
            "650/650 [==============================] - 9s 14ms/step - loss: 0.4588 - accuracy: 0.8511 - val_loss: 0.4284 - val_accuracy: 0.8628\n",
            "Epoch 25/100\n",
            "650/650 [==============================] - 9s 14ms/step - loss: 0.4613 - accuracy: 0.8510 - val_loss: 0.4298 - val_accuracy: 0.8621\n",
            "Epoch 26/100\n",
            "650/650 [==============================] - 9s 14ms/step - loss: 0.4616 - accuracy: 0.8503 - val_loss: 0.4249 - val_accuracy: 0.8637\n",
            "Epoch 27/100\n",
            "650/650 [==============================] - 9s 14ms/step - loss: 0.4468 - accuracy: 0.8559 - val_loss: 0.4281 - val_accuracy: 0.8632\n",
            "Epoch 28/100\n",
            "650/650 [==============================] - 9s 14ms/step - loss: 0.4588 - accuracy: 0.8518 - val_loss: 0.4257 - val_accuracy: 0.8637\n",
            "Epoch 29/100\n",
            "650/650 [==============================] - 9s 14ms/step - loss: 0.4492 - accuracy: 0.8547 - val_loss: 0.4260 - val_accuracy: 0.8643\n",
            "Epoch 30/100\n",
            "650/650 [==============================] - 9s 14ms/step - loss: 0.4472 - accuracy: 0.8550 - val_loss: 0.4199 - val_accuracy: 0.8656\n",
            "Epoch 31/100\n",
            "650/650 [==============================] - 9s 14ms/step - loss: 0.4430 - accuracy: 0.8557 - val_loss: 0.4234 - val_accuracy: 0.8650\n",
            "Epoch 32/100\n",
            "650/650 [==============================] - 9s 14ms/step - loss: 0.4395 - accuracy: 0.8578 - val_loss: 0.4349 - val_accuracy: 0.8615\n",
            "Epoch 33/100\n",
            "650/650 [==============================] - 9s 14ms/step - loss: 0.4393 - accuracy: 0.8570 - val_loss: 0.4205 - val_accuracy: 0.8645\n",
            "Epoch 34/100\n",
            "650/650 [==============================] - 9s 14ms/step - loss: 0.4329 - accuracy: 0.8579 - val_loss: 0.4304 - val_accuracy: 0.8619\n",
            "Epoch 35/100\n",
            "650/650 [==============================] - 9s 14ms/step - loss: 0.4371 - accuracy: 0.8582 - val_loss: 0.4259 - val_accuracy: 0.8625\n",
            "Restoring model weights from the end of the best epoch.\n",
            "Epoch 00035: early stopping\n",
            "Epoch 1/30\n",
            "813/813 [==============================] - 11s 13ms/step - loss: 1.4189 - accuracy: 0.5437\n",
            "Epoch 2/30\n",
            "813/813 [==============================] - 11s 13ms/step - loss: 0.7378 - accuracy: 0.7706\n",
            "Epoch 3/30\n",
            "813/813 [==============================] - 11s 13ms/step - loss: 0.6483 - accuracy: 0.7961\n",
            "Epoch 4/30\n",
            "813/813 [==============================] - 11s 13ms/step - loss: 0.6063 - accuracy: 0.8077\n",
            "Epoch 5/30\n",
            "813/813 [==============================] - 11s 13ms/step - loss: 0.5760 - accuracy: 0.8175\n",
            "Epoch 6/30\n",
            "813/813 [==============================] - 11s 13ms/step - loss: 0.5567 - accuracy: 0.8223\n",
            "Epoch 7/30\n",
            "813/813 [==============================] - 11s 13ms/step - loss: 0.5436 - accuracy: 0.8281\n",
            "Epoch 8/30\n",
            "813/813 [==============================] - 11s 13ms/step - loss: 0.5280 - accuracy: 0.8331\n",
            "Epoch 9/30\n",
            "813/813 [==============================] - 11s 13ms/step - loss: 0.5103 - accuracy: 0.8375\n",
            "Epoch 10/30\n",
            "813/813 [==============================] - 11s 13ms/step - loss: 0.5065 - accuracy: 0.8386\n",
            "Epoch 11/30\n",
            "813/813 [==============================] - 11s 13ms/step - loss: 0.4951 - accuracy: 0.8413\n",
            "Epoch 12/30\n",
            "813/813 [==============================] - 11s 13ms/step - loss: 0.4878 - accuracy: 0.8443\n",
            "Epoch 13/30\n",
            "813/813 [==============================] - 11s 13ms/step - loss: 0.4805 - accuracy: 0.8458\n",
            "Epoch 14/30\n",
            "813/813 [==============================] - 11s 13ms/step - loss: 0.4724 - accuracy: 0.8478\n",
            "Epoch 15/30\n",
            "813/813 [==============================] - 11s 13ms/step - loss: 0.4657 - accuracy: 0.8506\n",
            "Epoch 16/30\n",
            "813/813 [==============================] - 11s 13ms/step - loss: 0.4608 - accuracy: 0.8506\n",
            "Epoch 17/30\n",
            "813/813 [==============================] - 11s 13ms/step - loss: 0.4565 - accuracy: 0.8537\n",
            "Epoch 18/30\n",
            "813/813 [==============================] - 11s 13ms/step - loss: 0.4558 - accuracy: 0.8523\n",
            "Epoch 19/30\n",
            "813/813 [==============================] - 11s 13ms/step - loss: 0.4516 - accuracy: 0.8553\n",
            "Epoch 20/30\n",
            "813/813 [==============================] - 11s 13ms/step - loss: 0.4440 - accuracy: 0.8578\n",
            "Epoch 21/30\n",
            "813/813 [==============================] - 11s 13ms/step - loss: 0.4440 - accuracy: 0.8562\n",
            "Epoch 22/30\n",
            "813/813 [==============================] - 11s 13ms/step - loss: 0.4358 - accuracy: 0.8590\n",
            "Epoch 23/30\n",
            "813/813 [==============================] - 11s 13ms/step - loss: 0.4319 - accuracy: 0.8595\n",
            "Epoch 24/30\n",
            "813/813 [==============================] - 11s 13ms/step - loss: 0.4341 - accuracy: 0.8594\n",
            "Epoch 25/30\n",
            "813/813 [==============================] - 11s 13ms/step - loss: 0.4286 - accuracy: 0.8606\n",
            "Epoch 26/30\n",
            "813/813 [==============================] - 11s 13ms/step - loss: 0.4253 - accuracy: 0.8619\n",
            "Epoch 27/30\n",
            "813/813 [==============================] - 11s 13ms/step - loss: 0.4260 - accuracy: 0.8621\n",
            "Epoch 28/30\n",
            "813/813 [==============================] - 11s 13ms/step - loss: 0.4186 - accuracy: 0.8633\n",
            "Epoch 29/30\n",
            "813/813 [==============================] - 11s 13ms/step - loss: 0.4228 - accuracy: 0.8628\n",
            "Epoch 30/30\n",
            "813/813 [==============================] - 11s 13ms/step - loss: 0.4146 - accuracy: 0.8654\n",
            "Training complete\n",
            "Evaluating model\n",
            "Test Accuracy:  87.05384615384615\n"
          ],
          "name": "stdout"
        }
      ]
    },
    {
      "cell_type": "markdown",
      "metadata": {
        "id": "paWIzO6oAUZL"
      },
      "source": [
        "## TRANSFER LEARNING"
      ]
    },
    {
      "cell_type": "markdown",
      "metadata": {
        "id": "N0rNKvlBSgMH"
      },
      "source": [
        "### 3 Classes"
      ]
    },
    {
      "cell_type": "code",
      "metadata": {
        "id": "zNH4cARjRzll"
      },
      "source": [
        "N = 20000"
      ],
      "execution_count": null,
      "outputs": []
    },
    {
      "cell_type": "markdown",
      "metadata": {
        "id": "8RTHKPSORfRF"
      },
      "source": [
        "#### Load & Prepare Data"
      ]
    },
    {
      "cell_type": "code",
      "metadata": {
        "id": "eUo_SwPOSwXM"
      },
      "source": [
        "files = ['bear.npy', 'giraffe.npy', 'octopus.npy']\r\n",
        "objects = ['bear', 'giraffe', 'octopus']\r\n",
        "for c in objects:\r\n",
        "  if c+'.npy' not in glob.glob(\"*.npy\"):\r\n",
        "    os.system('wget https://storage.googleapis.com/quickdraw_dataset/full/numpy_bitmap/%s.npy'%c)"
      ],
      "execution_count": null,
      "outputs": []
    },
    {
      "cell_type": "code",
      "metadata": {
        "colab": {
          "base_uri": "https://localhost:8080/"
        },
        "id": "Nx6wPPwbSwXN",
        "outputId": "47fb0f66-0ebe-4443-c04b-b872a3291888"
      },
      "source": [
        "# try ML algortihms with 3 classes\n",
        "files=files[0:3]\n",
        "objects=objects[0:3]\n",
        "enum=enumerate(objects)\n",
        "DRAWINGS=dict((i,j) for i,j in enum)\n",
        "print(DRAWINGS)\n",
        "N_Drawings=len(objects)\n",
        "\n",
        "d_x = []\n",
        "d_y = []\n",
        "\n",
        "for i in range(len(files)): \n",
        "  d = np.load('/content/data/'+files[i])\n",
        "  c = 0\n",
        "  for j in d:\n",
        "    if c<N:\n",
        "      c+=1\n",
        "      d_x.append(j)\n",
        "      d_y.append(i)\n"
      ],
      "execution_count": null,
      "outputs": [
        {
          "output_type": "stream",
          "text": [
            "{0: 'bear', 1: 'giraffe', 2: 'octopus'}\n"
          ],
          "name": "stdout"
        }
      ]
    },
    {
      "cell_type": "markdown",
      "metadata": {
        "id": "eEZGCxX-RfRK"
      },
      "source": [
        "##### Prepare Data"
      ]
    },
    {
      "cell_type": "markdown",
      "metadata": {
        "id": "SfDcY9XtRfRL"
      },
      "source": [
        "**Preparing the Data**\r\n",
        "*   Normalized data by dividig it each pixel value by 255\r\n",
        "*   We dont have any missing data\r\n",
        "*   Applied one hot encoding for target labels(y_train, y_test) "
      ]
    },
    {
      "cell_type": "markdown",
      "metadata": {
        "id": "MfDKhhhuRfRM"
      },
      "source": [
        "##### Normalizing Features & One Hot Encoding of Labels"
      ]
    },
    {
      "cell_type": "code",
      "metadata": {
        "id": "r9slCAkuRfRM"
      },
      "source": [
        "from keras.utils import to_categorical\r\n",
        "\r\n",
        "d_x = np.array(d_x).astype('float32')\r\n",
        "d_y = np.array(d_y).astype('float32')\r\n",
        "\r\n",
        "d_x = d_x/255\r\n",
        "d_y = to_categorical(d_y,3)"
      ],
      "execution_count": null,
      "outputs": []
    },
    {
      "cell_type": "code",
      "metadata": {
        "colab": {
          "base_uri": "https://localhost:8080/"
        },
        "id": "DltB0juERfRN",
        "outputId": "f5f0dc97-0035-4632-861d-d5184676643d"
      },
      "source": [
        "print('Shape of X: ', d_x.shape)\r\n",
        "print('Shape of y: ', d_y.shape)"
      ],
      "execution_count": null,
      "outputs": [
        {
          "output_type": "stream",
          "text": [
            "Shape of X:  (60000, 784)\n",
            "Shape of y:  (60000, 3)\n"
          ],
          "name": "stdout"
        }
      ]
    },
    {
      "cell_type": "markdown",
      "metadata": {
        "id": "1UiMOTq4dADi"
      },
      "source": [
        "#### Prepare Training and Test data for RESNET"
      ]
    },
    {
      "cell_type": "markdown",
      "metadata": {
        "id": "gEoWqMCwuofl"
      },
      "source": [
        "*  Convert 1 channel to 3 channel for Resnet\r\n",
        "*  by copying same data to all 3 channels\r\n",
        "*  We padded zeros to all images, 2 times to match the desired input shape of RESNET (1,32,32,3)"
      ]
    },
    {
      "cell_type": "markdown",
      "metadata": {
        "id": "GDfLqZ7Kvcel"
      },
      "source": [
        "##### Adjust Shape"
      ]
    },
    {
      "cell_type": "code",
      "metadata": {
        "id": "il4zuzp1_NfP"
      },
      "source": [
        "d_x=d_x.reshape(-1,28,28,1)\r\n",
        "d_x = np.repeat(d_x, 3, -1)\r\n",
        "d_x = np.pad(d_x, ((0,0),(2,2),(2,2),(0,0)), 'constant')"
      ],
      "execution_count": null,
      "outputs": []
    },
    {
      "cell_type": "markdown",
      "metadata": {
        "id": "qAM3RAnzqhJY"
      },
      "source": [
        "##### Train test split"
      ]
    },
    {
      "cell_type": "code",
      "metadata": {
        "id": "q4To4EKYcso_"
      },
      "source": [
        "x_train, x_test, y_train, y_test = train_test_split(d_x, d_y,stratify=d_y, test_size=0.2)"
      ],
      "execution_count": null,
      "outputs": []
    },
    {
      "cell_type": "code",
      "metadata": {
        "colab": {
          "base_uri": "https://localhost:8080/"
        },
        "id": "51NQ-j8N_X0H",
        "outputId": "2886515d-c3d8-4880-9d84-3bf1fd8fcff6"
      },
      "source": [
        "x_train.shape"
      ],
      "execution_count": null,
      "outputs": [
        {
          "output_type": "execute_result",
          "data": {
            "text/plain": [
              "(48000, 32, 32, 3)"
            ]
          },
          "metadata": {
            "tags": []
          },
          "execution_count": 519
        }
      ]
    },
    {
      "cell_type": "markdown",
      "metadata": {
        "id": "j_mvLO19ASpG"
      },
      "source": [
        "#### RESNET"
      ]
    },
    {
      "cell_type": "code",
      "metadata": {
        "id": "fea3qtOS0YoJ"
      },
      "source": [
        "import keras\r\n",
        "from keras.applications.resnet50 import ResNet50\r\n",
        "from keras.preprocessing import image\r\n",
        "from keras.layers import Input, Flatten, Dense\r\n",
        "from keras.models import Model, load_model\r\n",
        "from keras.callbacks import EarlyStopping"
      ],
      "execution_count": null,
      "outputs": []
    },
    {
      "cell_type": "code",
      "metadata": {
        "colab": {
          "base_uri": "https://localhost:8080/"
        },
        "id": "HxtmjRJI6mVl",
        "outputId": "05cf1115-f64d-4b0f-bf66-36daf4349a74"
      },
      "source": [
        "model_r = ResNet50(weights='imagenet', include_top=False, input_shape=(32,32,3))\r\n",
        "keras_input = Input(shape= (32, 32, 3), name = 'image_input')\r\n",
        "output_r_conv = model_r(keras_input)\r\n",
        "\r\n",
        "My_r = Flatten(name='flatten')(output_r_conv)\r\n",
        "My_r = Dense(1024, activation='relu', name='fc1')(My_r)\r\n",
        "My_r = Dense(128, activation='relu', name='fc2')(My_r)\r\n",
        "My_r = Dense(N_Drawings, activation='softmax', name='predictions')(My_r)\r\n",
        "pretrained_model = Model(inputs=keras_input, outputs=My_r)\r\n",
        "\r\n",
        "from keras.optimizers import Adam\r\n",
        "pretrained_model.compile(Adam(0.0001), loss=\"categorical_crossentropy\", metrics=[\"accuracy\"])\r\n",
        "\r\n",
        "es = EarlyStopping(monitor='val_loss', patience=3, \\\r\n",
        "                   verbose=1, mode='min', restore_best_weights=True)\r\n",
        "\r\n",
        "pretrained_model.fit(x_train, y_train, validation_split=0.2 ,batch_size=128,\\\r\n",
        "             epochs=1000, callbacks=[es],verbose=1)"
      ],
      "execution_count": null,
      "outputs": [
        {
          "output_type": "stream",
          "text": [
            "Epoch 1/1000\n",
            "300/300 [==============================] - 26s 72ms/step - loss: 0.5893 - accuracy: 0.7500 - val_loss: 3.5377 - val_accuracy: 0.3315\n",
            "Epoch 2/1000\n",
            "300/300 [==============================] - 21s 71ms/step - loss: 0.2673 - accuracy: 0.8903 - val_loss: 2.0284 - val_accuracy: 0.3427\n",
            "Epoch 3/1000\n",
            "300/300 [==============================] - 21s 70ms/step - loss: 0.1948 - accuracy: 0.9216 - val_loss: 0.7497 - val_accuracy: 0.7066\n",
            "Epoch 4/1000\n",
            "300/300 [==============================] - 21s 69ms/step - loss: 0.1440 - accuracy: 0.9429 - val_loss: 0.4451 - val_accuracy: 0.8454\n",
            "Epoch 5/1000\n",
            "300/300 [==============================] - 21s 69ms/step - loss: 0.1096 - accuracy: 0.9589 - val_loss: 0.3862 - val_accuracy: 0.8766\n",
            "Epoch 6/1000\n",
            "300/300 [==============================] - 21s 70ms/step - loss: 0.0886 - accuracy: 0.9662 - val_loss: 0.3679 - val_accuracy: 0.8799\n",
            "Epoch 7/1000\n",
            "300/300 [==============================] - 21s 70ms/step - loss: 0.0728 - accuracy: 0.9726 - val_loss: 0.4210 - val_accuracy: 0.8835\n",
            "Epoch 8/1000\n",
            "300/300 [==============================] - 21s 70ms/step - loss: 0.0639 - accuracy: 0.9758 - val_loss: 0.4334 - val_accuracy: 0.8880\n",
            "Epoch 9/1000\n",
            "300/300 [==============================] - 21s 70ms/step - loss: 0.0554 - accuracy: 0.9808 - val_loss: 0.4693 - val_accuracy: 0.8744\n",
            "Restoring model weights from the end of the best epoch.\n",
            "Epoch 00009: early stopping\n"
          ],
          "name": "stdout"
        },
        {
          "output_type": "execute_result",
          "data": {
            "text/plain": [
              "<tensorflow.python.keras.callbacks.History at 0x7fedb0095080>"
            ]
          },
          "metadata": {
            "tags": []
          },
          "execution_count": 23
        }
      ]
    },
    {
      "cell_type": "code",
      "metadata": {
        "colab": {
          "base_uri": "https://localhost:8080/",
          "height": 279
        },
        "id": "4tWvWMtYju03",
        "outputId": "6a7922f4-3649-4bb6-bd06-470ade47b08a"
      },
      "source": [
        "import matplotlib.pyplot as plt\r\n",
        "best_epoch = np.argmin(pretrained_model.history.history['val_loss'])+1\r\n",
        "epoch_len = len(pretrained_model.history.history['loss'])\r\n",
        "\r\n",
        "plt.plot(list(range(1,epoch_len+1)),pretrained_model.history.history['loss']) \r\n",
        "plt.plot(list(range(1,epoch_len+1)),pretrained_model.history.history['val_loss']) \r\n",
        "plt.axvline(x=best_epoch,linestyle='--',color='grey')\r\n",
        "plt.ylabel('loss')\r\n",
        "plt.xlabel('epoch')\r\n",
        "plt.legend(['train', 'test'], loc='upper left')\r\n",
        "plt.show()"
      ],
      "execution_count": null,
      "outputs": [
        {
          "output_type": "display_data",
          "data": {
            "image/png": "[encoded data removed]",
            "text/plain": [
              "<Figure size 432x288 with 1 Axes>"
            ]
          },
          "metadata": {
            "tags": [],
            "needs_background": "light"
          }
        }
      ]
    },
    {
      "cell_type": "code",
      "metadata": {
        "colab": {
          "base_uri": "https://localhost:8080/"
        },
        "id": "58EMI8d8jiRE",
        "outputId": "c862c218-605d-4071-a792-ac2e5477a969"
      },
      "source": [
        "model_r = ResNet50(weights='imagenet', include_top=False, input_shape=(32,32,3))\r\n",
        "keras_input = Input(shape= (32, 32, 3), name = 'image_input')\r\n",
        "output_r_conv = model_r(keras_input)\r\n",
        "\r\n",
        "My_r = Flatten(name='flatten')(output_r_conv)\r\n",
        "My_r = Dense(1024, activation='relu', name='fc1')(My_r)\r\n",
        "My_r = Dense(128, activation='relu', name='fc2')(My_r)\r\n",
        "My_r = Dense(N_Drawings, activation='softmax', name='predictions')(My_r)\r\n",
        "pretrained_model = Model(inputs=keras_input, outputs=My_r)\r\n",
        "\r\n",
        "from keras.optimizers import Adam\r\n",
        "pretrained_model.compile(Adam(0.0001), loss=\"categorical_crossentropy\", metrics=[\"accuracy\"])\r\n",
        "\r\n",
        "pretrained_model.fit(x_train, y_train, batch_size=128, epochs=best_epoch,verbose=1)"
      ],
      "execution_count": null,
      "outputs": [
        {
          "output_type": "stream",
          "text": [
            "Epoch 1/6\n",
            "375/375 [==============================] - 29s 66ms/step - loss: 0.5637 - accuracy: 0.7671\n",
            "Epoch 2/6\n",
            "375/375 [==============================] - 25s 67ms/step - loss: 0.2616 - accuracy: 0.8970\n",
            "Epoch 3/6\n",
            "375/375 [==============================] - 25s 65ms/step - loss: 0.1994 - accuracy: 0.9215\n",
            "Epoch 4/6\n",
            "375/375 [==============================] - 24s 65ms/step - loss: 0.1577 - accuracy: 0.9367\n",
            "Epoch 5/6\n",
            "375/375 [==============================] - 25s 66ms/step - loss: 0.1227 - accuracy: 0.9519\n",
            "Epoch 6/6\n",
            "375/375 [==============================] - 25s 66ms/step - loss: 0.0980 - accuracy: 0.9625\n"
          ],
          "name": "stdout"
        },
        {
          "output_type": "execute_result",
          "data": {
            "text/plain": [
              "<tensorflow.python.keras.callbacks.History at 0x7feb346f3240>"
            ]
          },
          "metadata": {
            "tags": []
          },
          "execution_count": 25
        }
      ]
    },
    {
      "cell_type": "code",
      "metadata": {
        "colab": {
          "base_uri": "https://localhost:8080/"
        },
        "id": "PhEa69DL6-bl",
        "outputId": "0515a762-0e5c-4a80-8602-dd9d6d12c9ac"
      },
      "source": [
        "accuracy_train = pretrained_model.evaluate(x=x_train, y=y_train, batch_size=128,verbose=0)\r\n",
        "print(\"Train Accuracy: \", round(accuracy_train[1]*100,4) ,'%')\r\n",
        "\r\n",
        "accuracy_test = pretrained_model.evaluate(x=x_test, y=y_test, batch_size=128,verbose=0)\r\n",
        "print(\"Test Accuracy: \", round(accuracy_test[1]*100,4), '%')"
      ],
      "execution_count": null,
      "outputs": [
        {
          "output_type": "stream",
          "text": [
            "Train Accuracy:  97.6854 %\n",
            "Test Accuracy:  89.2083 %\n"
          ],
          "name": "stdout"
        }
      ]
    },
    {
      "cell_type": "markdown",
      "metadata": {
        "id": "WPSQs7r_Snvs"
      },
      "source": [
        "### 13 Classes"
      ]
    },
    {
      "cell_type": "markdown",
      "metadata": {
        "id": "qYVKnTKTSnvt"
      },
      "source": [
        "#### Load & Prepare Data"
      ]
    },
    {
      "cell_type": "code",
      "metadata": {
        "id": "Z3nxGk_0Snvu"
      },
      "source": [
        "N = 20000"
      ],
      "execution_count": null,
      "outputs": []
    },
    {
      "cell_type": "markdown",
      "metadata": {
        "id": "Qt8KGecTSnvu"
      },
      "source": [
        "##### Load"
      ]
    },
    {
      "cell_type": "code",
      "metadata": {
        "id": "KFFoF2pdSnvv"
      },
      "source": [
        "#'cow',\"lobster\",\"panda\"\r\n",
        "classes = [\"bear\", \"bird\", \"dog\",\"camel\", \"dolphin\",\"snake\",\"snail\",\"swan\",\"zebra\",'cat',\"giraffe\",\"octopus\", \"fish\"]"
      ],
      "execution_count": null,
      "outputs": []
    },
    {
      "cell_type": "code",
      "metadata": {
        "colab": {
          "base_uri": "https://localhost:8080/"
        },
        "id": "NvSlZ3RvSnvv",
        "outputId": "a466f0b2-1ae4-43bf-a369-50096d4ead50"
      },
      "source": [
        "# create lists for data files and objects in the same order\n",
        "os.chdir('/content/data')\n",
        "files=[]\n",
        "objects=[]\n",
        "for file in glob.glob(\"*.npy\"):\n",
        "  if file.split('.')[0] in classes:\n",
        "    objects.append(file.split('.')[0])\n",
        "    files.append(file)\n",
        "print(objects)\n",
        "print(files)"
      ],
      "execution_count": null,
      "outputs": [
        {
          "output_type": "stream",
          "text": [
            "['giraffe', 'dog', 'bear', 'cat', 'octopus', 'fish', 'dolphin', 'snake', 'swan', 'snail', 'camel', 'bird', 'zebra']\n",
            "['giraffe.npy', 'dog.npy', 'bear.npy', 'cat.npy', 'octopus.npy', 'fish.npy', 'dolphin.npy', 'snake.npy', 'swan.npy', 'snail.npy', 'camel.npy', 'bird.npy', 'zebra.npy']\n"
          ],
          "name": "stdout"
        }
      ]
    },
    {
      "cell_type": "code",
      "metadata": {
        "colab": {
          "base_uri": "https://localhost:8080/"
        },
        "id": "Aechcig-Snvw",
        "outputId": "31c9e2f5-fc42-4571-8db2-2f422ddebe09"
      },
      "source": [
        "enum=enumerate(objects)\r\n",
        "DRAWINGS=dict((i,j) for i,j in enum)\r\n",
        "print(DRAWINGS)"
      ],
      "execution_count": null,
      "outputs": [
        {
          "output_type": "stream",
          "text": [
            "{0: 'giraffe', 1: 'dog', 2: 'bear', 3: 'cat', 4: 'octopus', 5: 'fish', 6: 'dolphin', 7: 'snake', 8: 'swan', 9: 'snail', 10: 'camel', 11: 'bird', 12: 'zebra'}\n"
          ],
          "name": "stdout"
        }
      ]
    },
    {
      "cell_type": "code",
      "metadata": {
        "id": "OgzMLLE8Snvx"
      },
      "source": [
        "d_x = []\r\n",
        "d_y = []\r\n",
        "\r\n",
        "for i in range(len(files)): \r\n",
        "  d = np.load('/content/data/'+files[i])\r\n",
        "  c = 0\r\n",
        "  for j in d:\r\n",
        "    if c<N:\r\n",
        "      c+=1\r\n",
        "      d_x.append(j)\r\n",
        "      d_y.append(i)\r\n"
      ],
      "execution_count": null,
      "outputs": []
    },
    {
      "cell_type": "code",
      "metadata": {
        "colab": {
          "base_uri": "https://localhost:8080/"
        },
        "id": "RGehudfCSnvx",
        "outputId": "e9d18d64-31c8-414b-b4dc-df0ddedb9576"
      },
      "source": [
        "print( 'Total number of samples: ', len(d_x))"
      ],
      "execution_count": null,
      "outputs": [
        {
          "output_type": "stream",
          "text": [
            "Total number of samples:  260000\n"
          ],
          "name": "stdout"
        }
      ]
    },
    {
      "cell_type": "markdown",
      "metadata": {
        "id": "G64j2WKPSnvy"
      },
      "source": [
        "##### Prepare Data"
      ]
    },
    {
      "cell_type": "markdown",
      "metadata": {
        "id": "PUHe1zzGSnvy"
      },
      "source": [
        "**Preparing the Data**\r\n",
        "*   Normalized data by dividig it each pixel value by 255\r\n",
        "*   We dont have any missing data\r\n",
        "*   Applied one hot encoding for target labels(y_train, y_test) "
      ]
    },
    {
      "cell_type": "markdown",
      "metadata": {
        "id": "814eSbxDSnvy"
      },
      "source": [
        "##### Normalizing Features & One Hot Encoding of Labels"
      ]
    },
    {
      "cell_type": "code",
      "metadata": {
        "id": "vHOFaKEySnvy"
      },
      "source": [
        "from keras.utils import to_categorical\r\n",
        "\r\n",
        "d_x = np.array(d_x).astype('float32')\r\n",
        "d_y = np.array(d_y).astype('float32')\r\n",
        "\r\n",
        "d_x = d_x/255\r\n",
        "d_y = to_categorical(d_y,13)"
      ],
      "execution_count": null,
      "outputs": []
    },
    {
      "cell_type": "code",
      "metadata": {
        "colab": {
          "base_uri": "https://localhost:8080/"
        },
        "id": "RTJxgoztSnvz",
        "outputId": "948f72c4-9b2a-4554-e20a-91921ebc1db1"
      },
      "source": [
        "print('Shape of X: ', d_x.shape)\r\n",
        "print('Shape of y: ', d_y.shape)"
      ],
      "execution_count": null,
      "outputs": [
        {
          "output_type": "stream",
          "text": [
            "Shape of X:  (260000, 784)\n",
            "Shape of y:  (260000, 13)\n"
          ],
          "name": "stdout"
        }
      ]
    },
    {
      "cell_type": "markdown",
      "metadata": {
        "id": "ZC6UBd77Snvz"
      },
      "source": [
        "#### Prepare Training and Test data for RESNET"
      ]
    },
    {
      "cell_type": "markdown",
      "metadata": {
        "id": "vyoMpFIDSnv0"
      },
      "source": [
        "*  Convert 1 channel to 3 channel for Resnet\r\n",
        "*  by copying same data to all 3 channels\r\n",
        "*  We padded zeros to all images, 2 times to match the desired input shape of RESNET (1,32,32,3)"
      ]
    },
    {
      "cell_type": "markdown",
      "metadata": {
        "id": "cmhnpYkFSnv0"
      },
      "source": [
        "##### Adjust Shape"
      ]
    },
    {
      "cell_type": "code",
      "metadata": {
        "id": "sOqAnMlvSnv0"
      },
      "source": [
        "d_x=d_x.reshape(-1,28,28,1)\r\n",
        "d_x = np.repeat(d_x, 3, -1)\r\n",
        "d_x = np.pad(d_x, ((0,0),(2,2),(2,2),(0,0)), 'constant')"
      ],
      "execution_count": null,
      "outputs": []
    },
    {
      "cell_type": "markdown",
      "metadata": {
        "id": "wfs2p1_7Snv0"
      },
      "source": [
        "##### Train test split"
      ]
    },
    {
      "cell_type": "code",
      "metadata": {
        "id": "BFPT07QnSnv0"
      },
      "source": [
        "x_train, x_test, y_train, y_test = train_test_split(d_x, d_y,stratify=d_y, test_size=0.2)"
      ],
      "execution_count": null,
      "outputs": []
    },
    {
      "cell_type": "code",
      "metadata": {
        "colab": {
          "base_uri": "https://localhost:8080/"
        },
        "id": "wcHV7HX-Snv0",
        "outputId": "35e30f60-80da-4f08-88c2-364278159561"
      },
      "source": [
        "x_train.shape"
      ],
      "execution_count": null,
      "outputs": [
        {
          "output_type": "execute_result",
          "data": {
            "text/plain": [
              "(208000, 32, 32, 3)"
            ]
          },
          "metadata": {
            "tags": []
          },
          "execution_count": 504
        }
      ]
    },
    {
      "cell_type": "markdown",
      "metadata": {
        "id": "zvFfghzzSnv0"
      },
      "source": [
        "#### RESNET Training"
      ]
    },
    {
      "cell_type": "code",
      "metadata": {
        "id": "m8FG7klISnv1"
      },
      "source": [
        "import keras\r\n",
        "from keras.applications.resnet50 import ResNet50\r\n",
        "from keras.preprocessing import image\r\n",
        "from keras.layers import Input, Flatten, Dense\r\n",
        "from keras.models import Model, load_model"
      ],
      "execution_count": null,
      "outputs": []
    },
    {
      "cell_type": "code",
      "metadata": {
        "colab": {
          "base_uri": "https://localhost:8080/"
        },
        "id": "0isiW6tVSnv1",
        "outputId": "828d50c8-c83a-443d-fffe-8ec77b3ec6f8"
      },
      "source": [
        "model_r = ResNet50(weights='imagenet', include_top=False, input_shape=(32,32,3))\r\n",
        "keras_input = Input(shape= (32, 32, 3), name = 'image_input')\r\n",
        "output_r_conv = model_r(keras_input)\r\n",
        "\r\n",
        "My_r = Flatten(name='flatten')(output_r_conv)\r\n",
        "My_r = Dense(1024, activation='relu', name='fc1')(My_r)\r\n",
        "My_r = Dense(128, activation='relu', name='fc2')(My_r)\r\n",
        "My_r = Dense(13, activation='softmax', name='predictions')(My_r)\r\n",
        "pretrained_model = Model(inputs=keras_input, outputs=My_r)\r\n",
        "\r\n",
        "from keras.optimizers import Adam\r\n",
        "pretrained_model.compile(Adam(0.0001), loss=\"categorical_crossentropy\", metrics=[\"accuracy\"])\r\n",
        "\r\n",
        "pretrained_model.fit(x_train, y_train,batch_size=128,epochs=4,verbose=1)"
      ],
      "execution_count": null,
      "outputs": [
        {
          "output_type": "stream",
          "text": [
            "Epoch 1/4\n",
            "1625/1625 [==============================] - 105s 62ms/step - loss: 0.9987 - accuracy: 0.6925\n",
            "Epoch 2/4\n",
            "1625/1625 [==============================] - 104s 64ms/step - loss: 0.4350 - accuracy: 0.8619\n",
            "Epoch 3/4\n",
            "1625/1625 [==============================] - 106s 65ms/step - loss: 0.3621 - accuracy: 0.8830\n",
            "Epoch 4/4\n",
            "1625/1625 [==============================] - 107s 66ms/step - loss: 0.3058 - accuracy: 0.9005\n"
          ],
          "name": "stdout"
        },
        {
          "output_type": "execute_result",
          "data": {
            "text/plain": [
              "<tensorflow.python.keras.callbacks.History at 0x7f5e5621a588>"
            ]
          },
          "metadata": {
            "tags": []
          },
          "execution_count": 506
        }
      ]
    },
    {
      "cell_type": "code",
      "metadata": {
        "colab": {
          "base_uri": "https://localhost:8080/"
        },
        "id": "asmhMRloSnv1",
        "outputId": "3644bea5-2b0f-4550-a2db-ea67e3f236b6"
      },
      "source": [
        "accuracy_train = pretrained_model.evaluate(x=x_train, y=y_train, batch_size=128,verbose=0)\r\n",
        "print(\"Train Accuracy: \", round(accuracy_train[1]*100,4) ,'%')\r\n",
        "\r\n",
        "accuracy_test = pretrained_model.evaluate(x=x_test, y=y_test, batch_size=128,verbose=0)\r\n",
        "print(\"Test Accuracy: \", round(accuracy_test[1]*100,4), '%')"
      ],
      "execution_count": null,
      "outputs": [
        {
          "output_type": "stream",
          "text": [
            "Train Accuracy:  92.2962 %\n",
            "Test Accuracy:  87.0904 %\n"
          ],
          "name": "stdout"
        }
      ]
    },
    {
      "cell_type": "markdown",
      "metadata": {
        "id": "9MgUJGtAf5Yb"
      },
      "source": [
        "## Getting Input from User for RESNET"
      ]
    },
    {
      "cell_type": "code",
      "metadata": {
        "id": "1P4kQWLLf5Yi"
      },
      "source": [
        "from IPython.display import HTML, Image\r\n",
        "from google.colab.output import eval_js\r\n",
        "from base64 import b64decode\r\n",
        "import numpy as np\r\n",
        "from PIL import Image \r\n",
        "canvas_html = \"\"\"\r\n",
        "<canvas width=%d height=%d></canvas>\r\n",
        "<button>Finish</button>\r\n",
        "<script>\r\n",
        "var canvas = document.querySelector('canvas')\r\n",
        "var ctx = canvas.getContext('2d')\r\n",
        "ctx.lineWidth = %d\r\n",
        "var button = document.querySelector('button')\r\n",
        "var mouse = {x: 0, y: 0}\r\n",
        "canvas.addEventListener('mousemove', function(e) {\r\n",
        "  mouse.x = e.pageX - this.offsetLeft\r\n",
        "  mouse.y = e.pageY - this.offsetTop\r\n",
        "})\r\n",
        "canvas.onmousedown = ()=>{\r\n",
        "  ctx.beginPath()\r\n",
        "  ctx.moveTo(mouse.x, mouse.y)\r\n",
        "  canvas.addEventListener('mousemove', onPaint)\r\n",
        "}\r\n",
        "canvas.onmouseup = ()=>{\r\n",
        "  canvas.removeEventListener('mousemove', onPaint)\r\n",
        "}\r\n",
        "var onPaint = ()=>{\r\n",
        "  ctx.lineTo(mouse.x, mouse.y)\r\n",
        "  ctx.stroke()\r\n",
        "}\r\n",
        "var data = new Promise(resolve=>{\r\n",
        "  button.onclick = ()=>{\r\n",
        "    resolve(canvas.toDataURL('image/png'))\r\n",
        "  }\r\n",
        "})\r\n",
        "</script>\r\n",
        "\"\"\"\r\n",
        "\r\n",
        "def draw(filename='drawing.png', w=200, h=200, line_width=3):\r\n",
        "  display(HTML(canvas_html % (w, h, line_width)))\r\n",
        "  data = eval_js(\"data\")\r\n",
        "  binary = b64decode(data.split(',')[1])\r\n",
        "  with open(filename, 'wb') as f:\r\n",
        "    f.write(binary)\r\n",
        "  return len(binary)\r\n",
        "\r\n",
        "def get_drawing():\r\n",
        "  draw()\r\n",
        "  img = Image.open('drawing.png')\r\n",
        "  arr = np.array(img.getchannel(3)) # It has 4 channels since it is not a RGB image we are just taking the alpha channel\r\n",
        "  img2 = Image.fromarray(arr) # create image with 1 channel\r\n",
        "  img_32x32 = np.array(img2.resize((32, 32), Image.ANTIALIAS)) # resize image to 28,28)\r\n",
        "  img_array = (img_32x32.flatten())\r\n",
        "  img_array  = img_array.reshape(-1,1).T \r\n",
        "  img_array = img_array.astype('float32')/255 # normalize the values\r\n",
        "  array = np.reshape(img_array, (1,32,32,1))\r\n",
        "  array = np.repeat(array, 3, -1)\r\n",
        "  return array\r\n",
        "\r\n",
        "def predict_drawing(model,array):\r\n",
        "  print(\"Predicted as : \", DRAWINGS[np.argmax(model.predict(drawing),axis=1)[0]])"
      ],
      "execution_count": null,
      "outputs": []
    },
    {
      "cell_type": "code",
      "metadata": {
        "colab": {
          "base_uri": "https://localhost:8080/",
          "height": 222
        },
        "id": "x0XVU-lhf5Yw",
        "outputId": "0e974b48-75d0-4413-e01e-7fcd071e4b64"
      },
      "source": [
        "drawing = get_drawing()"
      ],
      "execution_count": null,
      "outputs": [
        {
          "output_type": "display_data",
          "data": {
            "text/html": [
              "\n",
              "<canvas width=200 height=200></canvas>\n",
              "<button>Finish</button>\n",
              "<script>\n",
              "var canvas = document.querySelector('canvas')\n",
              "var ctx = canvas.getContext('2d')\n",
              "ctx.lineWidth = 3\n",
              "var button = document.querySelector('button')\n",
              "var mouse = {x: 0, y: 0}\n",
              "canvas.addEventListener('mousemove', function(e) {\n",
              "  mouse.x = e.pageX - this.offsetLeft\n",
              "  mouse.y = e.pageY - this.offsetTop\n",
              "})\n",
              "canvas.onmousedown = ()=>{\n",
              "  ctx.beginPath()\n",
              "  ctx.moveTo(mouse.x, mouse.y)\n",
              "  canvas.addEventListener('mousemove', onPaint)\n",
              "}\n",
              "canvas.onmouseup = ()=>{\n",
              "  canvas.removeEventListener('mousemove', onPaint)\n",
              "}\n",
              "var onPaint = ()=>{\n",
              "  ctx.lineTo(mouse.x, mouse.y)\n",
              "  ctx.stroke()\n",
              "}\n",
              "var data = new Promise(resolve=>{\n",
              "  button.onclick = ()=>{\n",
              "    resolve(canvas.toDataURL('image/png'))\n",
              "  }\n",
              "})\n",
              "</script>\n"
            ],
            "text/plain": [
              "<IPython.core.display.HTML object>"
            ]
          },
          "metadata": {
            "tags": []
          }
        }
      ]
    },
    {
      "cell_type": "code",
      "metadata": {
        "colab": {
          "base_uri": "https://localhost:8080/"
        },
        "id": "YGVf2D12f5Y0",
        "outputId": "fb0e247d-61d0-4ada-8ee5-032207285040"
      },
      "source": [
        "predict_drawing(pretrained_model,drawing)"
      ],
      "execution_count": null,
      "outputs": [
        {
          "output_type": "stream",
          "text": [
            "Predicted as :  bear\n"
          ],
          "name": "stdout"
        }
      ]
    },
    {
      "cell_type": "code",
      "metadata": {
        "colab": {
          "base_uri": "https://localhost:8080/"
        },
        "id": "ls7SVBoCf5Y3",
        "outputId": "58280dbf-efda-4f33-8c9a-377560a059b0"
      },
      "source": [
        "DRAWINGS"
      ],
      "execution_count": null,
      "outputs": [
        {
          "output_type": "execute_result",
          "data": {
            "text/plain": [
              "{0: 'giraffe',\n",
              " 1: 'dog',\n",
              " 2: 'bear',\n",
              " 3: 'cat',\n",
              " 4: 'octopus',\n",
              " 5: 'fish',\n",
              " 6: 'dolphin',\n",
              " 7: 'snake',\n",
              " 8: 'swan',\n",
              " 9: 'snail',\n",
              " 10: 'camel',\n",
              " 11: 'bird',\n",
              " 12: 'zebra'}"
            ]
          },
          "metadata": {
            "tags": []
          },
          "execution_count": 511
        }
      ]
    },
    {
      "cell_type": "markdown",
      "metadata": {
        "id": "a9Nobem06XwQ"
      },
      "source": [
        "## OTHER STUFF"
      ]
    },
    {
      "cell_type": "markdown",
      "metadata": {
        "id": "rJC16bYbf5Y5"
      },
      "source": [
        "### Trying with photos"
      ]
    },
    {
      "cell_type": "code",
      "metadata": {
        "colab": {
          "base_uri": "https://localhost:8080/"
        },
        "id": "pIFMyk0zf5Y7",
        "outputId": "80f6a877-3d35-4454-d395-4d962d0ff357"
      },
      "source": [
        "%cd .."
      ],
      "execution_count": null,
      "outputs": [
        {
          "output_type": "stream",
          "text": [
            "/content\n"
          ],
          "name": "stdout"
        }
      ]
    },
    {
      "cell_type": "code",
      "metadata": {
        "id": "yrEHUxfaf5Y-"
      },
      "source": [
        "img = Image.open('/content/depositphotos_73192567-stock-illustration-dolphin-doodle.jpg')\r\n",
        "ary = np.array(img)\r\n",
        "\r\n",
        "# Split the three channels\r\n",
        "r,g,b = np.split(ary,3,axis=2)\r\n",
        "r=r.reshape(-1)\r\n",
        "g=r.reshape(-1)\r\n",
        "b=r.reshape(-1)\r\n",
        "\r\n",
        "# Standard RGB to grayscale \r\n",
        "bitmap = list(map(lambda x: 0.299*x[0]+0.587*x[1]+0.114*x[2], \r\n",
        "zip(r,g,b)))\r\n",
        "bitmap = np.array(bitmap).reshape([ary.shape[0], ary.shape[1]])\r\n",
        "bitmap = np.dot((bitmap > 128).astype(float),255)\r\n",
        "im = Image.fromarray(bitmap.astype(np.uint8))\r\n",
        "img_28x28 = np.array(im.resize((28, 28), Image.ANTIALIAS)) # resize image to 28,28)\r\n",
        "img_array = (img_28x28.flatten())\r\n",
        "img_array  = img_array.reshape(-1,1).T \r\n",
        "img_array = img_array.astype('float32')/255 # normalize the values\r\n",
        "array = np.reshape(img_array, (1,28,28,1)) "
      ],
      "execution_count": null,
      "outputs": []
    },
    {
      "cell_type": "markdown",
      "metadata": {
        "id": "A0PwI-z2ghGi"
      },
      "source": [
        "### Save model for android"
      ]
    },
    {
      "cell_type": "code",
      "metadata": {
        "colab": {
          "base_uri": "https://localhost:8080/"
        },
        "id": "UHQ0lC_Pf5Yp",
        "outputId": "8a984350-9930-4e8c-82af-773e6734ab85"
      },
      "source": [
        "# Convert the model.\r\n",
        "converter = tf.lite.TFLiteConverter.from_keras_model(model)\r\n",
        "tflite_model = converter.convert()\r\n",
        "\r\n",
        "# Save the model.\r\n",
        "with open('model.tflite', 'wb') as f:\r\n",
        "  f.write(tflite_model)\r\n"
      ],
      "execution_count": null,
      "outputs": [
        {
          "output_type": "stream",
          "text": [
            "INFO:tensorflow:Assets written to: /tmp/tmp4c00y2nl/assets\n"
          ],
          "name": "stdout"
        }
      ]
    }
  ]
}